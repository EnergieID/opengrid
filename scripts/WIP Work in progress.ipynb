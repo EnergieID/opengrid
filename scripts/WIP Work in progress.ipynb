{
 "metadata": {
  "name": ""
 },
 "nbformat": 3,
 "nbformat_minor": 0,
 "worksheets": [
  {
   "cells": [
    {
     "cell_type": "code",
     "collapsed": false,
     "input": [
      "def calc_bin_properties(input_vector,hp,lim=np.array([0,0.1,2,4,8,12,1000])):\n",
      "#if 1==1:\n",
      "# series =input_vector\n",
      "\n",
      "\"\"\"\n",
      "  df_all = pd.DataFrame().join(dataframes, how='outer')\n",
      "    a =df_all\n",
      "    tl = 60\n",
      "    lims= lim * 60*24\n",
      "  \n",
      "    j = 0\n",
      "    for sensor in df_all.columns:\n",
      "\"\"\"\n",
      "\n",
      "        \n",
      "        'print series'\n",
      "        aver = []\n",
      "        n_occ= []\n",
      "        for i in range(0,lim.size-1):\n",
      "            LimLow= lim[i] ;  'l/min'\n",
      "            LimHigh = lim[i+1]; 'l/min'\n",
      "            try:\n",
      "                n_occ.append(Count_WUsage(series,hp,LimLow,LimHigh))\n",
      "                aver_time =length_WUsage(series,hp,LimLow,LimHigh)\n",
      "            except: \n",
      "                n_occ.append(NaN)\n",
      "                aver_time = NaN\n",
      "            try:\n",
      "                aver.append(np.round(aver_time,decimals=4))\n",
      "            except:\n",
      "                aver.append(NaN)\n",
      "        #print lim , n_occ , aver_time_rounded\n",
      "        return n_occ , aver\n"
     ],
     "language": "python",
     "metadata": {},
     "outputs": [
      {
       "ename": "IndentationError",
       "evalue": "expected an indented block (<ipython-input-1-900f06cd05ad>, line 13)",
       "output_type": "pyerr",
       "traceback": [
        "\u001b[1;36m  File \u001b[1;32m\"<ipython-input-1-900f06cd05ad>\"\u001b[1;36m, line \u001b[1;32m13\u001b[0m\n\u001b[1;33m    \"\"\"\u001b[0m\n\u001b[1;37m       \n^\u001b[0m\n\u001b[1;31mIndentationError\u001b[0m\u001b[1;31m:\u001b[0m expected an indented block\n"
       ]
      }
     ],
     "prompt_number": 1
    },
    {
     "cell_type": "code",
     "collapsed": false,
     "input": [],
     "language": "python",
     "metadata": {},
     "outputs": []
    }
   ],
   "metadata": {}
  }
 ]
}