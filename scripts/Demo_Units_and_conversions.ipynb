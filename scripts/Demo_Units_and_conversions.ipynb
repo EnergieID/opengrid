{
 "metadata": {
  "name": "",
  "signature": "sha256:e85589ec88b366d890fb5b17cf97c8c92894a97171302c4f5ed8d1eea8428085"
 },
 "nbformat": 3,
 "nbformat_minor": 0,
 "worksheets": [
  {
   "cells": [
    {
     "cell_type": "markdown",
     "metadata": {},
     "source": [
      "### This demo notebook shows how to make unit conversions and querying for plotting and cost calculation,\n",
      "### Based on a custom build dictionary ( named UNITS), included in 'genmodule.py'"
     ]
    },
    {
     "cell_type": "code",
     "collapsed": false,
     "input": [
      "import os, sys, inspect\n",
      "script_dir = os.path.dirname(os.path.abspath(inspect.getfile(inspect.currentframe())))\n",
      "# add the path to opengrid to sys.paths\n",
      "sys.path.append(os.path.join(script_dir, os.pardir, os.pardir))"
     ],
     "language": "python",
     "metadata": {},
     "outputs": []
    },
    {
     "cell_type": "markdown",
     "metadata": {},
     "source": [
      "### The unit script is currently in a generic module. \n",
      "###Could be moved (eg to fluksoapi) or renamed if required later"
     ]
    },
    {
     "cell_type": "code",
     "collapsed": false,
     "input": [
      "#UNITS module, currently generically named.\n",
      "from opengrid.library import genmodule as gm  \n"
     ],
     "language": "python",
     "metadata": {},
     "outputs": []
    },
    {
     "cell_type": "markdown",
     "metadata": {},
     "source": [
      "##Format of UNITS dictionary \n",
      "\n",
      "The library / dictionary is build up in 4 layers. It can be called directly, or with the use of helper functions (see below)\n",
      "\n",
      "## Used keys:\n",
      "* <b>utility</b>= ['water', 'gas', 'electricity', ...]: type of sensor/utility data (other kube sensors can be added later)\n",
      "* <b>ref</b> = ['base','int','cost']: base unit, integrated or unit cost (per integrated SI unit)\n",
      "* <b>usage</b>= ['fl','SI','pl']: fl is flukso database units, SI is international standard units, pl are proposed plotting units \n",
      "* <b>what</b> ['str','cf'] : string or conversion factor from SI TO this unit.\n",
      "\n",
      "## Output:\n",
      " * Units, type: (string) or \n",
      " * Numeric Conversion Factor (type: float) from SI base unit TO this unit. \n",
      " \n",
      " NOTE: Units sometimes have _w, _g or _e in the end for water, gas, electricity respectively.\n",
      "\n"
     ]
    },
    {
     "cell_type": "code",
     "collapsed": false,
     "input": [
      "# The dictionary is directly callable with function name UNITS :\n",
      "UNITS = gm.UNITS\n",
      "print UNITS"
     ],
     "language": "python",
     "metadata": {},
     "outputs": []
    },
    {
     "cell_type": "markdown",
     "metadata": {},
     "source": [
      "###Direct dict calls can be made if you'd like, for example:"
     ]
    },
    {
     "cell_type": "code",
     "collapsed": false,
     "input": [
      "print UNITS['water']['fl']['base']['str']\n",
      "print UNITS['water']['SI']['int']['str']\n",
      "print UNITS['water']['SI']['cost']['cf'], UNITS['water']['SI']['cost']['str']\n",
      "A =UNITS['water']['fl']['base']\n",
      "B =UNITS['water']['SI']['base']\n",
      "print 'Conversion factor from flukso units ',A['str'] , ' to SI units ' , B['str'],' is ' ,B['cf']/A['cf']\n"
     ],
     "language": "python",
     "metadata": {},
     "outputs": []
    },
    {
     "cell_type": "markdown",
     "metadata": {},
     "source": [
      "### But especially for calculating conversion factors, thats not really user-friendly:"
     ]
    },
    {
     "cell_type": "code",
     "collapsed": false,
     "input": [
      "quantity_C = 60.\n",
      "unitsC= UNITS['water']['pl']['base']\n",
      "unitsD= UNITS['water']['SI']['base']\n",
      "cv_PL_SI = UNITS['water']['pl']['base']['cf']/UNITS['water']['SI']['base']['cf']\n",
      "SI_unitcost_C=  UNITS['water']['SI']['cost']['cf']   #\u20ac/ (m\u00b3/s) /min\n",
      "PL_unitcost_C =  cv_PL_SI* SI_unitcost_C\n",
      "unitcost_SI = unitsD['cf'] *  UNITS['water']['SI']['cost']['cf']/ UNITS['water']['SI']['int']['cf'] \n",
      "\n",
      "print 'Cost for a consumption of ',quantity_C, unitsC['str'],' or' ,quantity_C*cv_PL_SI, UNITS['water']['SI']['base']['str'] , \n",
      "print ' (during 1 second) is ' ,quantity_C*  PL_unitcost_C, ' \u20ac . (Should be 0.035\u20ac(/s) )' \n"
     ],
     "language": "python",
     "metadata": {},
     "outputs": []
    },
    {
     "cell_type": "markdown",
     "metadata": {},
     "source": [
      "### Some helper functions are available already:\n",
      " * query_utility, to get utility name from number (low prio todo: add query from partial name)\n",
      " * get_units: get str of units based on utility, 'ref' and 'usage' key\n",
      " * get_conversion_factor: get conversion factor between two units\n",
      " \n",
      " ###Feel freel to propose/add additional functionality!"
     ]
    },
    {
     "cell_type": "code",
     "collapsed": false,
     "input": [
      "#query returns get utility name from number (TODO: add query from partial name)\n",
      "'''\n",
      "    Function to find (full) name of utility, either from number or from (partial) name.\n",
      "    Input: input string, or a number (0 to 2) and return utility type, or read in str and return value.\n",
      "    If unknown, returns valueerror or keyerror\n",
      "'''\n",
      "print gm.query_utility(0) \n",
      "print gm.query_utility('electricity')\n",
      "\n",
      "#error if unknown key\n",
      "print 'Unknown key should give valuerror:'\n",
      "gm.query_utility('somethingelse')\n"
     ],
     "language": "python",
     "metadata": {},
     "outputs": []
    },
    {
     "cell_type": "code",
     "collapsed": false,
     "input": [
      "#Example and doc of get_units\n",
      "'''\n",
      "    Syntax:\n",
      "    get_units(self,util,usage = 'fl',ref='base', what= 'str'):\n",
      "    \n",
      "    Purpose:\n",
      "    Return units and conversion factors (TO a unit) for Opengrid.\n",
      "    \n",
      "    Input options: \n",
      "    [utility= 'water', 'gas', 'electricity']. Obligatory input.\n",
      "    [ref = 'base','int','cost'] . Default: 'base'\n",
      "    [usage= 'fl','SI','pl']. Default: 'fl'\n",
      "    [what= 'str','cf']; Default: 'str'\n",
      "    Utility is obligatory  \n",
      "    \n",
      "    Outputs: \n",
      "    If what= 'str' (default), then string of default units\n",
      "    If what= 'cv', then conversion factor from base SI units TO this unit    \n",
      "'''\n",
      "print 'SI units for gas:              ',gm.get_units(2,usage='SI') # what= 'str' default\n",
      "print 'Unit cost for water:           ', gm.get_units('water',ref='cost', what= 'cf') , gm.get_units('water',ref='cost')\n",
      "print 'Flukso-units for electricity : ' ,gm.get_units(1)\n",
      "print 'CF & units for gas cost: ',gm.get_units(2,ref='cost', what= 'cf'),gm.get_units(2,ref='cost', what= 'str')\n",
      "print 'CF & units for electr cost: ',gm.get_units(1,ref='cost', what= 'cf'),gm.get_units(1,ref='cost', what= 'str')\n"
     ],
     "language": "python",
     "metadata": {},
     "outputs": []
    },
    {
     "cell_type": "code",
     "collapsed": false,
     "input": [
      "# Example of get_conversionfactor\n",
      "# Conversion factor takes from and to inputs, and gives numeric value. Units can be requested separately.\n",
      "'''\n",
      "    Syntax:\n",
      "    get_conversionfactor(util,fromusage = 'fl',fromref='base',tousage = None,toref=None,str_incl_units =False):\n",
      "    \n",
      "    Purpose:\n",
      "    Return conversion factors from one unitbase to another for Opengrid.\n",
      "    \n",
      "    Input options: \n",
      "    [utility= 'water', 'gas', 'electricity']. Obligatory input.\n",
      "    [fromref = 'base','int','cost'] . Default: 'base'\n",
      "    [toref = 'base','int','cost'] . Default: fromref\n",
      "    [fromusage= 'fl','SI','pl']. Default: 'fl'\n",
      "    [tousage= 'fl','SI','pl']. Default:fromusage\n",
      "    str_incl_units. If true, ouput is string Default False\n",
      "        \n",
      "    Outputs: \n",
      "    If str_incl_units = false (default), output is conversion factor FROM unit (utility fromref, fromsage) 1 \n",
      "    TO unit 2, defined by (utility toref, tousage) .\n",
      "    \n",
      "    If str_incl_units = true, output is converion factor, and FROM and TO units, in str format.\n",
      "'''\n",
      "\n",
      "# With  str_incl_units =True both the CF and from and TO strng \n",
      "print gm.get_conversionfactor('water',fromusage ='fl',tousage='pl', str_incl_units=True)\n",
      "# Returns: CF, Unit1, corresponds to , Unit2\n",
      "\n",
      "print 'An electr. consumption of 1',gm.get_units('electricity',usage='fl',ref='base'), 'equals a cost of ',\n",
      "print gm.get_conversionfactor('electricity',fromusage ='pl',fromref='base',toref='cost', str_incl_units=False), '\u20ac '\n",
      "\n",
      "consumption = 20\n",
      "print 'A gas consumption of ',consumption,gm.get_units(2,usage='SI'), 'during one second (integrated) equals ',\n",
      "print consumption*gm.get_conversionfactor(2,fromusage ='SI',toref='int') , gm.get_units(2,usage='SI',ref='int'),\n",
      "print 'at a cost of', gm.get_units(2,usage ='SI',ref='cost',what='cf'), ' per ', gm.get_units(2,usage ='SI',ref='cost')\n"
     ],
     "language": "python",
     "metadata": {},
     "outputs": []
    },
    {
     "cell_type": "code",
     "collapsed": false,
     "input": [
      "The_end = 'neigh'\n",
      "print 'The end is', The_end\n",
      "\n",
      "here = 'below'\n",
      "print 'More todos', here,':'"
     ],
     "language": "python",
     "metadata": {},
     "outputs": []
    },
    {
     "cell_type": "code",
     "collapsed": false,
     "input": [
      "\n",
      "\"\"\" ---------------------\n",
      "' High prio TODOS:\n",
      "' A) Check units and conversion factors thoroughly to make sure they are completely correct   !\n",
      "' B) fix cost / integration outputs.\n",
      "' C) Make values adjustable/overwritten (e.g. for costs), or make integration with opengrid.cfg file.\n",
      "' D) Add unitttests (note: what are usefull tests? @saroele: Maybe you can put me on the right track? \n",
      "' E) Move functions to separate module (fluksoapi?) instead of genmodule. Should it be a class then? (note:I really don't understand SELF...)'\n",
      "\n",
      "' Low prio TODOs (maybes):\n",
      "' A)  Rework documentation to opengrid template\n",
      "' B)  Add additional units, eg integration to other timebases or units (e.g. liter). \n",
      "' C) include day/night tarriff for electricity?\n",
      "' D)  Add partial name matcher (eg util ='ele') to query_utility\n",
      "\n",
      "\"\"\"\n"
     ],
     "language": "python",
     "metadata": {},
     "outputs": []
    },
    {
     "cell_type": "code",
     "collapsed": false,
     "input": [],
     "language": "python",
     "metadata": {},
     "outputs": []
    }
   ],
   "metadata": {}
  }
 ]
}