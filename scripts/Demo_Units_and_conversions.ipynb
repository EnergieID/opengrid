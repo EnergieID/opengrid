{
 "metadata": {
  "name": "",
  "signature": "sha256:e85589ec88b366d890fb5b17cf97c8c92894a97171302c4f5ed8d1eea8428085"
 },
 "nbformat": 3,
 "nbformat_minor": 0,
 "worksheets": [
  {
   "cells": [
    {
     "cell_type": "markdown",
     "metadata": {},
     "source": [
      "### This demo notebook shows how to make unit conversions and querying for plotting and cost calculation.\n",
      "\n",
      " It uses a custom dictionary ( called UNITS), currently included in a generic module (called genmodule.py)"
     ]
    },
    {
     "cell_type": "code",
     "collapsed": false,
     "input": [
      "import os, sys, inspect\n",
      "# add the path to opengrid to sys.paths\n",
      "script_dir = os.path.dirname(os.path.abspath(inspect.getfile(inspect.currentframe())))\n",
      "sys.path.append(os.path.join(script_dir, os.pardir, os.pardir))"
     ],
     "language": "python",
     "metadata": {},
     "outputs": []
    },
    {
     "cell_type": "code",
     "collapsed": false,
     "input": [
      "#UNITS module, currently generically named.\n",
      "from opengrid.library import genmodule as gm  "
     ],
     "language": "python",
     "metadata": {},
     "outputs": []
    },
    {
     "cell_type": "markdown",
     "metadata": {},
     "source": [
      "##Format of UNITS dictionary \n",
      "\n",
      "The library / dictionary is build up in 4 layers. It can be called directly, or with the use of helper functions (see below)\n",
      "\n",
      "## Used keys:\n",
      "* <b>utility</b>= ['water', 'gas', 'electricity', ...]: type of sensor/utility data (other kube sensors can be added later)\n",
      "* <b>ref</b> = ['base','int','diff']: base unit, integrated or unit cost (per integrated SI unit)\n",
      "* <b>usage</b>= ['fl','si','pl','tm','cost']: fl is flukso database units, SI is international standard units, pl are proposed plotting units, tm tempo units, cost is cost in \u20ac/s (base) or \u20ac (int)\n",
      "* <b>what</b> ['str','cf','info'] : string or conversion factor from si TO this unit. Also contains some \"info\".\n",
      "\n",
      "## Output:\n",
      " * Units, type: (string) or \n",
      " * Numeric Conversion Factor (type: float) from SI base unit TO this unit. \n",
      " * Information on this data\n",
      " \n",
      " NOTE: Units sometimes have _w, _g or _e in the end for water, gas, electricity respectively.\n",
      "\n"
     ]
    },
    {
     "cell_type": "code",
     "collapsed": false,
     "input": [
      "# The dictionary is directly callable with function name UNITS :\n",
      "UNITS = gm.UNITS\n",
      "from pprint import pprint  as pp #prettyprint \n",
      "pp(UNITS['gas']) #'gas' part of the dictionary"
     ],
     "language": "python",
     "metadata": {},
     "outputs": []
    },
    {
     "cell_type": "markdown",
     "metadata": {},
     "source": [
      "###Direct dict calls can be made to the UNITS dict if you'd like, for example:"
     ]
    },
    {
     "cell_type": "code",
     "collapsed": false,
     "input": [
      "print UNITS['water']['fl']['base']['str']\n",
      "print UNITS['water']['si']['int']['str']\n",
      "print UNITS['water']['cost']['base']['cf'], UNITS['water']['cost']['int']['str']\n",
      "\n",
      "\n",
      "A =UNITS['water']['fl']['base']\n",
      "B =UNITS['water']['si']['base']\n",
      "print 'Conversion factor from flukso units ',A['str'] , ' to SI units ' , B['str'],' is ' ,B['cf']/A['cf']"
     ],
     "language": "python",
     "metadata": {},
     "outputs": []
    },
    {
     "cell_type": "markdown",
     "metadata": {},
     "source": [
      "### But especially for calculating conversion factors, thats not really user-friendly:"
     ]
    },
    {
     "cell_type": "code",
     "collapsed": false,
     "input": [
      "# Simple conversion and cost consumption needs these lines of code:\n",
      "quantity_C = 60.\n",
      "unitsC= UNITS['water']['pl']['base']\n",
      "unitsD= UNITS['water']['si']['base']\n",
      "cv_PL_SI = UNITS['water']['si']['base']['cf']/UNITS['water']['pl']['base']['cf']\n",
      "SI_unitcost_C=  UNITS['water']['cost']['base']['cf']   #\u20ac/ (m\u00b3/s) /min\n",
      "PL_unitcost_C =  cv_PL_SI* SI_unitcost_C\n",
      "unitcost_SI = unitsD['cf'] *  UNITS['water']['cost']['base']['cf']/ UNITS['water']['si']['int']['cf'] \n",
      "\n",
      "print 'Cost for a consumption of ',quantity_C, unitsC['str'],' or' ,quantity_C*cv_PL_SI, UNITS['water']['si']['base']['str'] , \n",
      "print ' during 1 second is ' ,quantity_C*cv_PL_SI*  PL_unitcost_C, UNITS['water']['cost']['int']['str'], '. (Should be 7.56\u20ac (/s) )' \n"
     ],
     "language": "python",
     "metadata": {},
     "outputs": []
    },
    {
     "cell_type": "markdown",
     "metadata": {},
     "source": [
      "### Therefore, some helper functions are made already:\n",
      " * query_utility, to get utility name from number (low prio todo: add query from partial name)\n",
      " * get_units: get str of units based on utility, 'ref' and 'usage' key\n",
      " * get_conversion_factor: get conversion factor between two units\n",
      " \n",
      " ###Feel freel to propose/add additional functionality!"
     ]
    },
    {
     "cell_type": "code",
     "collapsed": false,
     "input": [
      "# query_utility \n",
      "# returns get utility name from number or name\n",
      "'''\n",
      "    Syntax: query_utility(util = ' ')\n",
      "    Purpose:\n",
      "    Function to find (full) name of utility, either from number or from (partial) name.\n",
      "    \n",
      "    Input: \n",
      "    input string, or a number (0 to 2) and return utility type, or read in str and return value.\n",
      "    If unknown, returns valueerror or keyerror\n",
      "    Output: utility (string)\n",
      "'''\n",
      "print gm.query_utility(0) \n",
      "print gm.query_utility('electricity')\n",
      "\n",
      "# Valueerror if unknown key\n",
      "print 'Unknown key should give valuerror:'\n",
      "gm.query_utility('somethingelse')\n"
     ],
     "language": "python",
     "metadata": {},
     "outputs": []
    },
    {
     "cell_type": "code",
     "collapsed": false,
     "input": [
      "#Get_units Return units and conversion factors (TO a unit) for Opengrid.\n",
      "'''\n",
      "    Syntax:\n",
      "    get_units(self,util,usage = 'fl',ref='base', what= 'str',qty=1):\n",
      "    \n",
      "    Purpose:\n",
      "    Return units and conversion factors (TO a unit) for Opengrid.\n",
      "    \n",
      "    Input options: \n",
      "    [utility= 'water', 'gas', 'electricity']. Obligatory input.\n",
      "    [ref = 'base','int','diff'] . Default: 'base'\n",
      "    [usage= 'fl','si','pl','tm','cost']. Default: 'fl'\n",
      "    [what= 'str','cf']; Default: 'str'\n",
      "    qty\n",
      "    \n",
      "    Outputs: \n",
      "    If what= 'str' (default), then string of default units\n",
      "    If what= 'cv', then conversion factor from base SI units TO this unit    \n",
      "'''\n",
      "print 'SI units for gas:              ',gm.get_units('gas',usage='si') # what= 'str' default\n",
      "print 'Flukso-units for electricity : ' ,gm.get_units(1)\n",
      "\n",
      "for util in UNITS.iterkeys():\n",
      "    print 'Unit cost for ',util,' ( per ' , gm.get_units(util,usage='si',ref='int', what= 'str') , '): '\n",
      "    print gm.get_units(util,usage='cost',ref='base', what= 'cf') , gm.get_units(util,usage='cost',ref='base')\n"
     ],
     "language": "python",
     "metadata": {},
     "outputs": []
    },
    {
     "cell_type": "code",
     "collapsed": false,
     "input": [
      "# get_conversionfactor does all this, and more\n",
      "#Conversion factor takes from and to inputs, and gives numeric value. \n",
      "#Units can either  be requested separately or together.\n",
      "'''\n",
      "    Syntax:\n",
      "    get_conversionfactor(util,fromusage = 'fl',fromref='base',tousage = None,toref=None,what='cf',str_incl_units =False,qty=1):\n",
      "    \n",
      "    Purpose:\n",
      "    Return conversion factors and/or units from one unitbase to another for Opengrid.\n",
      "    \n",
      "    Input options: \n",
      "    utility= ['water', 'gas', 'electricity']. Obligatory input.\n",
      "    fromref = ['base','int','diff'] . Default: 'base'\n",
      "    toref = ['base','int','diff'] . Default: fromref\n",
      "    fromusage= ['fl','SI','pl','cost','tm']. Default: 'fl'\n",
      "    tousage= '[fl','SI','pl','cost', 'tm']. Default:fromusage\n",
      "    what=['cf','str',info']. Default= 'cf'\n",
      "    str_incl_units. [True, False] If true, ouput is (human readable) string with CF and units. Default False\n",
      "    qty = 1 multiplication factor\n",
      "        \n",
      "    Outputs: \n",
      "    If str_incl_units = false (default), output is conversion factor FROM unit (utility fromref, fromsage) 1 \n",
      "    TO unit 2, defined by (utility toref, tousage) .\n",
      "    \n",
      "    If str_incl_units = true, output is converion factor, and FROM and TO units, in str format.\n",
      "'''\n",
      "aquantity = 300\n",
      "print gm.get_conversionfactor('water',fromusage = 'si',tousage = 'fl',fromref='base',toref = 'base', \n",
      "                                                                    str_incl_units =True, qty= aquantity )\n",
      "print gm.get_conversionfactor('water',fromusage = 'si',tousage = 'fl',fromref='base',toref = 'base', \n",
      "                                                                    str_incl_units =False, qty= aquantity )\n",
      "\n",
      "print gm.get_conversionfactor('gas',fromusage = 'si',tousage = 'cost',fromref='base',toref = 'int', \n",
      "                                                                    str_incl_units =True, qty= aquantity )\n",
      "print gm.get_conversionfactor(1,fromusage = 'pl',tousage = 'cost',fromref='base',toref = 'base', \n",
      "                                                                    str_incl_units =True, qty= aquantity )\n",
      "# fill in int and cost units for all fields.\n"
     ],
     "language": "python",
     "metadata": {},
     "outputs": []
    },
    {
     "cell_type": "code",
     "collapsed": false,
     "input": [
      "# Examples for get_conversionfactor\n",
      "bquantity = 300\n",
      "# With  str_incl_units =True, it returns a human readable text\n",
      "# else a float\n",
      "\n",
      "print gm.get_conversionfactor('water',fromusage = 'fl',tousage = 'pl',fromref='base',toref = 'int', \n",
      "                                                                    str_incl_units =True, qty= bquantity )\n",
      "print gm.get_conversionfactor('water',fromusage ='fl',tousage='pl',fromref='base',toref = 'int', str_incl_units=True,qty= aquantity)\n",
      "\n",
      "\n",
      "print 'An electr. consumption of 1',gm.get_units('electricity',usage='fl',ref='base'), 'equals a cost of ',\n",
      "print gm.get_conversionfactor('electricity',fromusage ='fl',fromref='base',toref ='int',tousage='cost', str_incl_units=False)\n",
      "\n",
      "consumption = 20\n",
      "\n",
      "print 'A gas consumption of ',consumption,gm.get_units(2,usage='si'), 'during one second (integrated) equals ',\n",
      "print gm.get_conversionfactor(2,fromusage ='si',toref='int',qty =consumption) , gm.get_units(2,usage='si',ref='int')\n",
      "print 'and costs: ', gm.get_units(2,usage='cost',ref='int',what='cf'),gm.get_units(2,usage='cost',ref='int',what='str')\n"
     ],
     "language": "python",
     "metadata": {},
     "outputs": []
    },
    {
     "cell_type": "code",
     "collapsed": false,
     "input": [
      "The_end = 'neigh'\n",
      "print 'The end is', The_end\n",
      "\n",
      "here = 'below'\n",
      "print 'More todos', here,':'"
     ],
     "language": "python",
     "metadata": {},
     "outputs": []
    },
    {
     "cell_type": "code",
     "collapsed": false,
     "input": [
      "\n",
      "\"\"\" ---------------------\n",
      "' High prio TODOS:\n",
      "' A) Check units and conversion factors thoroughly to make sure they are completely correct    => seems OK now, but further checks are needed.  \n",
      "' B) fix cost / integration outputs. ! => Done. COST moved to 'usage' instead of 'ref'\n",
      "' C) Make values adjustable/overwritten (e.g. for costs), or make integration with opengrid.cfg file. \n",
      "' D) Add unitttests (note: what are usefull tests? @saroele: Maybe you can put me on the right track? \n",
      "' E) Move functions to separate module (fluksoapi?) instead of genmodule. Should it be a class then? (note:I really don't understand SELF...)'\n",
      "\n",
      "' Low prio TODOs (maybes):\n",
      "' A)  Rework documentation to opengrid template\n",
      "' B)  Add additional units: eg other sensors (e.g. temperature), other time windows (/s, /day) or other units (e.g. \u00b0C, \u00b0F, ...).\n",
      "' C) include day/night tarriff for electricity?\n",
      "' D)  Add partial name matcher (eg util ='ele') to query_utility\n",
      "\n",
      "\"\"\"\n"
     ],
     "language": "python",
     "metadata": {},
     "outputs": []
    },
    {
     "cell_type": "code",
     "collapsed": false,
     "input": [],
     "language": "python",
     "metadata": {},
     "outputs": []
    }
   ],
   "metadata": {}
  }
 ]
}