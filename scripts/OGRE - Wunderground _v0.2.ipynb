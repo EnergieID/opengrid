{
 "metadata": {
  "name": ""
 },
 "nbformat": 3,
 "nbformat_minor": 0,
 "worksheets": [
  {
   "cells": [
    {
     "cell_type": "markdown",
     "metadata": {},
     "source": [
      "##Function: Fetch historic and current ambient conditions, from wunderground website.  \n",
      "\n",
      "Note: To make this code working, you have to make an account in and obtain an API key \n",
      "A Wunderground cumulus account is free of charge, and supports 500 calls per day, 10 per minute. \n",
      "request it here: http://api.wunderground.com/members/signup.asp\n",
      "\n",
      "Then fill in the key either in script settings below, or  store your key in the opengrid.cfg file, with header [wunderground]\n",
      "\n"
     ]
    },
    {
     "cell_type": "code",
     "collapsed": false,
     "input": [
      "import os, sys\n",
      "import inspect\n",
      "import numpy as np\n",
      "import matplotlib.pyplot as plt\n",
      "from matplotlib.dates import HourLocator, DateFormatter, AutoDateLocator\n",
      "import datetime as dt\n",
      "import pytz\n",
      "import pandas as pd\n",
      "import pdb\n",
      "\n",
      "# import libraries specific to wunderground script\n",
      "import urllib2 \n",
      "import json \n",
      "from pprint import pprint\n",
      "import time\n",
      "\n",
      "script_dir = os.path.dirname(os.path.abspath(inspect.getfile(inspect.currentframe())))\n",
      "# add the path to opengrid to sys.path\n",
      "sys.path.append(os.path.join(script_dir, os.pardir, os.pardir))\n",
      "from opengrid.library import config\n",
      "from opengrid.library import houseprint\n",
      "from opengrid.library import fluksoapi\n",
      "\n",
      "%matplotlib inline\n",
      "plt.rcParams['figure.figsize']=14,8"
     ],
     "language": "python",
     "metadata": {},
     "outputs": [],
     "prompt_number": 1
    },
    {
     "cell_type": "markdown",
     "metadata": {},
     "source": [
      "##Script settings"
     ]
    },
    {
     "cell_type": "code",
     "collapsed": false,
     "input": [
      "c = config.Config()\n",
      "\n",
      "key = c.get('Wunderground', 'password')\n",
      "#key = 'SET_CUSTOM_KEY_HERE'\n",
      "path_to_data = c.get('data', 'folder')\n",
      "#path_to_data = 'SET_CUSTOM_PATH_HERE'\n",
      "\n",
      "\n",
      "if not os.path.exists(path_to_data):\n",
      "    raise IOError(\"Provide your path to the data.  This is a folder containing a 'zip' and 'csv' subfolder.\")\n",
      "else:\n",
      "    path_to_csv = os.path.join(path_to_data, 'csv')\n",
      "    #fluksoapi.synchronize()\n",
      "#fluksoapi.consolidate_folder(path_to_csv)"
     ],
     "language": "python",
     "metadata": {},
     "outputs": [],
     "prompt_number": 2
    },
    {
     "cell_type": "markdown",
     "metadata": {},
     "source": [
      "##    Wunderground specific subfunctions (python)"
     ]
    },
    {
     "cell_type": "code",
     "collapsed": false,
     "input": [
      "#An example of json query using python with API Token: \n",
      "#URL= ''.join(['http://api.wunderground.com/api/',key','/conditions/q/CA/San_Francisco.json '])\n",
      "#json_string = f.read() \n",
      "#parsed_json = json.loads(json_string) \n",
      "#location = parsed_json['location']['city'] \n",
      "#temp_f = parsed_json['current_observation']['temp_f'] \n",
      "#print \"Current temperature in %s is: %s\" % (location, temp_f) \n",
      "#f.close()'''"
     ],
     "language": "python",
     "metadata": {},
     "outputs": [],
     "prompt_number": 3
    },
    {
     "cell_type": "code",
     "collapsed": false,
     "input": [
      "def Fetch_currtemp(key,city):\n",
      "    # Gets current weather conditions from today\n",
      "    # Output: np array. \n",
      "    # City = 'Geel'\n",
      "    # When ='conditions'\n",
      "    \n",
      "    #TODO: put output in a pd dataframe!\n",
      "    \n",
      "    URL = ''.join(['http://api.wunderground.com/api/',key,'/geolookup/conditions/q/EU/',city,'.json'])\n",
      "    f = urllib2.urlopen(URL) \n",
      "    json_string = f.read() \n",
      "    parsed_json = json.loads(json_string) \n",
      "    \n",
      "    location = parsed_json['location']['city'] \n",
      "    temp_c = float(parsed_json['current_observation']['temp_c'] )\n",
      "    currdate = datetime.date.today()\n",
      "    \n",
      "    #pprint(parsed_json)\n",
      "    f.close()\n",
      "    #trouble creating dataframe with 1 element!!\n",
      "    np_currtemp =  temp_c\n",
      "    #pd_currtemp = pd.DataFrame(float(temp_c),index=currdate, columns=['OutdTemp'])\n",
      "    #pd_currtemp = pd.DataFrame({currdate,temp_c},currdate,{'Date','Value'})\n",
      "    #df = pd.DataFrame(np.random.randn(6,4),index=dates,columns=list('ABCD'))\n",
      "    return np_currtemp, currdate\n",
      "#Example\n",
      "location = 'Leuven'\n",
      "temp_c , currdate =Fetch_currtemp(key,location)\n",
      "print \"Current Temperature (on %s) in %s is: %s\" % (currdate, location, temp_c), '\u00b0C'"
     ],
     "language": "python",
     "metadata": {},
     "outputs": [
      {
       "output_type": "stream",
       "stream": "stdout",
       "text": [
        "Current Temperature (on 2014-10-24) in Leuven is: 12.2 \u00b0C\n"
       ]
      }
     ],
     "prompt_number": 4
    },
    {
     "cell_type": "code",
     "collapsed": false,
     "input": [
      "def Fetch_historic_tempYMD(key,city,year,month,day):\n",
      "    # example URL: http://api.wunderground.com/api/<key>/history_20140808/q/EU/Leuven.json\n",
      "    # get temp df using year month day.\n",
      "    #city = 'Geel'   \n",
      "    \n",
      "    d = datetime.datetime(year,month,day,0,0)\n",
      "    datestr = '{:%Y%m%d}'.format(d)\n",
      "    \n",
      "    URL = ''.join(['http://api.wunderground.com/api/',key,'/history_',datestr,'/q/BE/',city,'.json'])\n",
      "    f = urllib2.urlopen(URL) \n",
      "    json_string = f.read() \n",
      "    parsed_json = json.loads(json_string) \n",
      "    #print json_string\n",
      "    #pprint(parsed_json[\"history\"]['dailysummary'])\n",
      "    hr = \"hour\"\n",
      "    minu = \"min\"\n",
      "    infotype = \"tempm\"\n",
      "    time_list=[]\n",
      "    temp_c_list= []\n",
      "    for  entry in parsed_json[\"history\"][\"observations\"]:\n",
      "        #\"pprint(entry)\n",
      "        hour_value = entry[\"date\"][hr]\n",
      "        min_value = entry[\"date\"][minu]\n",
      "        temp_c = entry[infotype]\n",
      "        temp_c_list.append(float(temp_c))\n",
      "        concattime = datetime.datetime(year,month, day,int(hour_value),int(min_value))\n",
      "        time_list.append(concattime)\n",
      "        \n",
      "        \n",
      "        #print concattime, temp_c\n",
      "    # print shape(temp_c_list), shape(time_list)\n",
      "    Tout_h = pd.DataFrame(temp_c_list,columns = ['T_out'],index = time_list)\n",
      "    return Tout_h\n",
      "    f.close()\n",
      "    \n",
      "def Fetch_historic_temp_ByDate(key,city,date_object):\n",
      "#same as above, but with dateobject as input. hour / min are ignored\n",
      "    year = date_object.year\n",
      "    month = date_object.month\n",
      "    day = date_object.day\n",
      "    Tout_h = Fetch_historic_tempYMD(key,city,year,month,day)\n",
      "    return Tout_h\n",
      "#Example\n",
      "out1 = Fetch_historic_tempYMD(key,'Leuven',2014,9,8) # for 10th of august, thus YYYYMMDD\n",
      "print out1.head(), shape(out1)"
     ],
     "language": "python",
     "metadata": {},
     "outputs": [
      {
       "output_type": "stream",
       "stream": "stdout",
       "text": [
        "                     T_out\n",
        "2014-09-08 00:00:00     15\n",
        "2014-09-08 00:20:00     14\n",
        "2014-09-08 00:50:00     14\n",
        "2014-09-08 01:00:00     14\n",
        "2014-09-08 01:20:00     13\n",
        "\n",
        "[5 rows x 1 columns] (72, 1)\n",
        "<class 'pandas.tseries.index.DatetimeIndex'>\n"
       ]
      }
     ],
     "prompt_number": 8
    },
    {
     "cell_type": "code",
     "collapsed": false,
     "input": [
      "def Fetch_historic_dayaverage(key,city,year,month,day):\n",
      "    # example URL: http://api.wunderground.com/api/<key>/history_20140808/q/EU/Leuven.json\n",
      "    # get temp df using year month day.\n",
      "    #city = 'Geel'   \n",
      "    \n",
      "    d = datetime.datetime(year,month,day,0,0)\n",
      "    datestr = '{:%Y%m%d}'.format(d)\n",
      "    \n",
      "    URL = ''.join(['http://api.wunderground.com/api/',key,'/history_',datestr,'/q/BE/',city,'.json'])\n",
      "    f = urllib2.urlopen(URL) \n",
      "    json_string = f.read() \n",
      "    parsed_json = json.loads(json_string) \n",
      "    \n",
      "    #print json_string\n",
      "    #pprint(parsed_json[\"history\"]['dailysummary'])\n",
      "    hr = \"hour\"\n",
      "    minu = \"min\"\n",
      "    infotype = \"meantempm\"\n",
      "    time_list=[]\n",
      "    temp_c_list= []\n",
      "    \n",
      "    for  entry in parsed_json[\"history\"]['dailysummary']:\n",
      "        #\"pprint(entry)\n",
      "        hour_value = entry[\"date\"][hr]\n",
      "        min_value = entry[\"date\"][minu]\n",
      "        temp_c = entry[infotype]\n",
      "        temp_c_list.append(temp_c)\n",
      "        concattime = datetime.datetime(year,month, day,int(hour_value),int(min_value))\n",
      "        time_list.append(concattime)\n",
      "        #print concattime, temp_c\n",
      "    #Tout_h = pd.DataFrame([temp_c_list],columns = ['T_out'],index = time_list)\n",
      "    #parse_dates=['Date'], dayfirst=True, index_col='Date'\n",
      "    Tout_h = pd.DataFrame([temp_c_list],columns = ['T_out'], index=time_list)\n",
      "    #\n",
      "    \n",
      "    #Tout_h_T.set_index(time_list)\n",
      "    f.close()\n",
      "    return Tout_h\n",
      "    \n",
      "    \n",
      "def Fetch_historic_dayaverage_By_date(key,city,date_object):\n",
      "#same as above, but with dateobject as input. hour / min are ignored\n",
      "    year = date_object.year\n",
      "    month = date_object.month\n",
      "    day = date_object.day\n",
      "    Tout_h = Fetch_historic_dayaverage(key,city,year,month,day);\n",
      "    return Tout_h\n",
      "\n",
      "\n",
      "#Example\n",
      "out2 =Fetch_historic_dayaverage(key,'Leuven',2014,8,10) # for 10th of august, thus YYYYMMDD\n",
      "print out2\n",
      "print type(out2.index)"
     ],
     "language": "python",
     "metadata": {},
     "outputs": [
      {
       "output_type": "stream",
       "stream": "stdout",
       "text": [
        "           T_out\n",
        "2014-08-10    19\n",
        "\n",
        "[1 rows x 1 columns]\n",
        "<class 'pandas.tseries.index.DatetimeIndex'>\n"
       ]
      }
     ],
     "prompt_number": 10
    },
    {
     "cell_type": "markdown",
     "metadata": {},
     "source": [
      "## Example time!"
     ]
    },
    {
     "cell_type": "code",
     "collapsed": false,
     "input": [
      "#just one average temp\n",
      "out3=Fetch_historic_dayaverage(key,'Leuven',2014,9,8) # for 10th of august, thus YYYYMMDD\n",
      "print out3"
     ],
     "language": "python",
     "metadata": {},
     "outputs": [
      {
       "html": [
        "<div style=\"max-height:1000px;max-width:1500px;overflow:auto;\">\n",
        "<table border=\"1\" class=\"dataframe\">\n",
        "  <thead>\n",
        "    <tr style=\"text-align: right;\">\n",
        "      <th></th>\n",
        "      <th>T_out</th>\n",
        "    </tr>\n",
        "  </thead>\n",
        "  <tbody>\n",
        "    <tr>\n",
        "      <th>2014-09-08</th>\n",
        "      <td> 16</td>\n",
        "    </tr>\n",
        "  </tbody>\n",
        "</table>\n",
        "<p>1 rows \u00d7 1 columns</p>\n",
        "</div>"
       ],
       "metadata": {},
       "output_type": "pyout",
       "prompt_number": 11,
       "text": [
        "           T_out\n",
        "2014-09-08    16\n",
        "\n",
        "[1 rows x 1 columns]"
       ]
      }
     ],
     "prompt_number": 11
    },
    {
     "cell_type": "code",
     "collapsed": false,
     "input": [
      "def Average_Temp_Xdaysago(key,city,x_days_ago = 5):\n",
      "#get more subhourly details for a single day, eg. day 5\n",
      "    x_days_ago_date =  datetime.datetime.today()- datetime.timedelta(days=x_days_ago)   \n",
      "    Temp_values = Fetch_historic_dayaverage_By_date(key,city,x_days_ago_date)\n",
      "    return Temp_values\n",
      "\n",
      "def Details_Temp_Xdaysago(key,city,x_days_ago = 5):\n",
      "#get more subhourly details for a single day, eg. day 5\n",
      "    x_days_ago_date =  datetime.datetime.today()- datetime.timedelta(days=x_days_ago)   \n",
      "    Temp_values = Fetch_historic_temp_ByDate(key,city,x_days_ago_date)\n",
      "    return Temp_values\n",
      "\n",
      "\n",
      "# Example:\n",
      "city = 'Leuven'\n",
      "Temp_values = []\n",
      "temps = []\n",
      "temps = []\n",
      "Temp_values = Details_Temp_Xdaysago(key,city,5)\n",
      "temps = Temp_values['T_out'].values\n",
      "dates = Temp_values.index\n",
      "print 'Details on subhourly values for a single day'\n",
      "fig=figure\n",
      "f1 = plt.plot(dates,temps)\n",
      "y_label = 'Ambient temperature (\u00b0C)'\n",
      "plt.ylabel([y_label])"
     ],
     "language": "python",
     "metadata": {},
     "outputs": []
    },
    {
     "cell_type": "code",
     "collapsed": false,
     "input": [
      "# WIP\n",
      "#working on more fancy graphs\n",
      "import matplotlib.dates\n",
      "\n",
      "fig = pylab.figure()\n",
      "ax = fig.gca() \n",
      " \n",
      "# Plotting stuff here ...\n",
      "ax.plot_date(dates, temps, 'b.-')\n",
      " \n",
      "# Set major x ticks on Mondays.\n",
      "ax.xaxis.set_major_locator(\n",
      "    matplotlib.dates.WeekdayLocator(byweekday=matplotlib.dates.MO)\n",
      ")\n",
      "ax.xaxis.set_major_formatter(\n",
      "    matplotlib.dates.DateFormatter('%a %d\\n%b %Y')\n",
      ")"
     ],
     "language": "python",
     "metadata": {},
     "outputs": []
    },
    {
     "cell_type": "code",
     "collapsed": false,
     "input": [
      "def Average_Temp_Xdaysago(key,city,ndays = 5, averaged =True ,plot_data = True, startdate = datetime.datetime.today()):\n",
      "    '''\n",
      "    Gives and/or plots list of (average or detailed) outdoor temperatures over a fixed number of days, starting from day before today (or startdate).\n",
      "\n",
      "    Inputs:\n",
      "    key: API token\n",
      "    city: name of city, string\n",
      "    ndays: number of fetched days before startdate . Note: Please set ndays<10 because of nr of calls allowed per minute (==10)!!\n",
      "    *averaged: True => Daily-averaged, False =>  detailed (20 minute) profile\n",
      "    * plot: on or off.\n",
      "    * startdate: defaults to today, but can be used to fetch historic period too.\n",
      "    '''\n",
      "    print 'Detailed ambient temperature in ',city,' for last', str(ndays-1),' days'\n",
      "    \n",
      "    i = 1 #starting from day before startdate.\n",
      "    date_i =  startdate- datetime.timedelta(days=i)\n",
      "    if averaged:\n",
      "        Texdf = Fetch_historic_dayaverage_By_date(key,city,date_i)\n",
      "    else:\n",
      "        Texdf = Fetch_historic_temp_ByDate(key,city,date_i) \n",
      "    \n",
      "    # one average: Fetch_historic_dayaverage_By_date(key,city,date_i)\n",
      "    # = pd.DataFrame( data=Tyest['T_out'].values, index= Tyest.index)\n",
      "    for i in range(2,ndays,1): \n",
      "        date_i =  startdate- datetime.timedelta(days=i)\n",
      "        if averaged:\n",
      "            new_df = Fetch_historic_dayaverage_By_date(key,city,date_i)\n",
      "        else:\n",
      "            new_df = Fetch_historic_temp_ByDate(key,city,date_i) \n",
      "    \n",
      "        Texdf = pd.DataFrame.combine_first(Texdf,new_df)\n",
      "\n",
      "\n",
      "    if plot_data:\n",
      "    # sorted trough combine_first\n",
      "        temps = []\n",
      "        dates = []\n",
      "        temps = Texdf.values\n",
      "        dates = Texdf.index\n",
      "        title = 'Details on subhourly outdoor temperatures over multiple days'\n",
      "        fig=figure\n",
      "        f1 = plt.plot(dates,temps)\n",
      "        x_label = 'Ambient temperature (\u00b0C)'\n",
      "        plt.ylabel([x_label])\n",
      "        plt.title(title)\n",
      "    return Texdf\n",
      "    \n",
      "#Example:\n",
      "Temps=Average_Temp_Xdaysago(key,'Leuven',ndays = 5, averaged =False,plot_data = True, startdate = datetime.datetime.today() )"
     ],
     "language": "python",
     "metadata": {},
     "outputs": [
      {
       "ename": "AttributeError",
       "evalue": "'numpy.ndarray' object has no attribute 'find'",
       "output_type": "pyerr",
       "traceback": [
        "\u001b[1;31m---------------------------------------------------------------------------\u001b[0m\n\u001b[1;31mAttributeError\u001b[0m                            Traceback (most recent call last)",
        "\u001b[1;32m<ipython-input-13-62c29d759ac6>\u001b[0m in \u001b[0;36m<module>\u001b[1;34m()\u001b[0m\n\u001b[0;32m     47\u001b[0m \u001b[1;33m\u001b[0m\u001b[0m\n\u001b[0;32m     48\u001b[0m \u001b[1;31m#Example:\u001b[0m\u001b[1;33m\u001b[0m\u001b[1;33m\u001b[0m\u001b[0m\n\u001b[1;32m---> 49\u001b[1;33m \u001b[0mTemps\u001b[0m\u001b[1;33m=\u001b[0m\u001b[0mAverage_Temp_Xdaysago\u001b[0m\u001b[1;33m(\u001b[0m\u001b[0mkey\u001b[0m\u001b[1;33m,\u001b[0m\u001b[1;34m'Leuven'\u001b[0m\u001b[1;33m,\u001b[0m\u001b[0mndays\u001b[0m \u001b[1;33m=\u001b[0m \u001b[1;36m5\u001b[0m\u001b[1;33m,\u001b[0m \u001b[0maveraged\u001b[0m \u001b[1;33m=\u001b[0m\u001b[0mTrue\u001b[0m\u001b[1;33m,\u001b[0m\u001b[0mplot_data\u001b[0m \u001b[1;33m=\u001b[0m \u001b[0mTrue\u001b[0m\u001b[1;33m,\u001b[0m \u001b[0mstartdate\u001b[0m \u001b[1;33m=\u001b[0m \u001b[0mdatetime\u001b[0m\u001b[1;33m.\u001b[0m\u001b[0mdatetime\u001b[0m\u001b[1;33m.\u001b[0m\u001b[0mtoday\u001b[0m\u001b[1;33m(\u001b[0m\u001b[1;33m)\u001b[0m \u001b[1;33m)\u001b[0m\u001b[1;33m\u001b[0m\u001b[0m\n\u001b[0m",
        "\u001b[1;32m<ipython-input-13-62c29d759ac6>\u001b[0m in \u001b[0;36mAverage_Temp_Xdaysago\u001b[1;34m(key, city, ndays, averaged, plot_data, startdate)\u001b[0m\n\u001b[0;32m     40\u001b[0m         \u001b[0mtitle\u001b[0m \u001b[1;33m=\u001b[0m \u001b[1;34m'Details on subhourly outdoor temperatures over multiple days'\u001b[0m\u001b[1;33m\u001b[0m\u001b[0m\n\u001b[0;32m     41\u001b[0m         \u001b[0mfig\u001b[0m\u001b[1;33m=\u001b[0m\u001b[0mfigure\u001b[0m\u001b[1;33m\u001b[0m\u001b[0m\n\u001b[1;32m---> 42\u001b[1;33m         \u001b[0mf1\u001b[0m \u001b[1;33m=\u001b[0m \u001b[0mplt\u001b[0m\u001b[1;33m.\u001b[0m\u001b[0mplot\u001b[0m\u001b[1;33m(\u001b[0m\u001b[0mdates\u001b[0m\u001b[1;33m,\u001b[0m\u001b[0mtemps\u001b[0m\u001b[1;33m)\u001b[0m\u001b[1;33m\u001b[0m\u001b[0m\n\u001b[0m\u001b[0;32m     43\u001b[0m         \u001b[0mx_label\u001b[0m \u001b[1;33m=\u001b[0m \u001b[1;34m'Ambient temperature (\u00b0C)'\u001b[0m\u001b[1;33m\u001b[0m\u001b[0m\n\u001b[0;32m     44\u001b[0m         \u001b[0mplt\u001b[0m\u001b[1;33m.\u001b[0m\u001b[0mylabel\u001b[0m\u001b[1;33m(\u001b[0m\u001b[1;33m[\u001b[0m\u001b[0mx_label\u001b[0m\u001b[1;33m]\u001b[0m\u001b[1;33m)\u001b[0m\u001b[1;33m\u001b[0m\u001b[0m\n",
        "\u001b[1;32mC:\\winpython\\WinPython-32bit-2.7.6.2\\python-2.7.6\\lib\\site-packages\\matplotlib\\pyplot.pyc\u001b[0m in \u001b[0;36mplot\u001b[1;34m(*args, **kwargs)\u001b[0m\n\u001b[0;32m   2985\u001b[0m         \u001b[0max\u001b[0m\u001b[1;33m.\u001b[0m\u001b[0mhold\u001b[0m\u001b[1;33m(\u001b[0m\u001b[0mhold\u001b[0m\u001b[1;33m)\u001b[0m\u001b[1;33m\u001b[0m\u001b[0m\n\u001b[0;32m   2986\u001b[0m     \u001b[1;32mtry\u001b[0m\u001b[1;33m:\u001b[0m\u001b[1;33m\u001b[0m\u001b[0m\n\u001b[1;32m-> 2987\u001b[1;33m         \u001b[0mret\u001b[0m \u001b[1;33m=\u001b[0m \u001b[0max\u001b[0m\u001b[1;33m.\u001b[0m\u001b[0mplot\u001b[0m\u001b[1;33m(\u001b[0m\u001b[1;33m*\u001b[0m\u001b[0margs\u001b[0m\u001b[1;33m,\u001b[0m \u001b[1;33m**\u001b[0m\u001b[0mkwargs\u001b[0m\u001b[1;33m)\u001b[0m\u001b[1;33m\u001b[0m\u001b[0m\n\u001b[0m\u001b[0;32m   2988\u001b[0m         \u001b[0mdraw_if_interactive\u001b[0m\u001b[1;33m(\u001b[0m\u001b[1;33m)\u001b[0m\u001b[1;33m\u001b[0m\u001b[0m\n\u001b[0;32m   2989\u001b[0m     \u001b[1;32mfinally\u001b[0m\u001b[1;33m:\u001b[0m\u001b[1;33m\u001b[0m\u001b[0m\n",
        "\u001b[1;32mC:\\winpython\\WinPython-32bit-2.7.6.2\\python-2.7.6\\lib\\site-packages\\matplotlib\\axes.pyc\u001b[0m in \u001b[0;36mplot\u001b[1;34m(self, *args, **kwargs)\u001b[0m\n\u001b[0;32m   4135\u001b[0m         \u001b[0mlines\u001b[0m \u001b[1;33m=\u001b[0m \u001b[1;33m[\u001b[0m\u001b[1;33m]\u001b[0m\u001b[1;33m\u001b[0m\u001b[0m\n\u001b[0;32m   4136\u001b[0m \u001b[1;33m\u001b[0m\u001b[0m\n\u001b[1;32m-> 4137\u001b[1;33m         \u001b[1;32mfor\u001b[0m \u001b[0mline\u001b[0m \u001b[1;32min\u001b[0m \u001b[0mself\u001b[0m\u001b[1;33m.\u001b[0m\u001b[0m_get_lines\u001b[0m\u001b[1;33m(\u001b[0m\u001b[1;33m*\u001b[0m\u001b[0margs\u001b[0m\u001b[1;33m,\u001b[0m \u001b[1;33m**\u001b[0m\u001b[0mkwargs\u001b[0m\u001b[1;33m)\u001b[0m\u001b[1;33m:\u001b[0m\u001b[1;33m\u001b[0m\u001b[0m\n\u001b[0m\u001b[0;32m   4138\u001b[0m             \u001b[0mself\u001b[0m\u001b[1;33m.\u001b[0m\u001b[0madd_line\u001b[0m\u001b[1;33m(\u001b[0m\u001b[0mline\u001b[0m\u001b[1;33m)\u001b[0m\u001b[1;33m\u001b[0m\u001b[0m\n\u001b[0;32m   4139\u001b[0m             \u001b[0mlines\u001b[0m\u001b[1;33m.\u001b[0m\u001b[0mappend\u001b[0m\u001b[1;33m(\u001b[0m\u001b[0mline\u001b[0m\u001b[1;33m)\u001b[0m\u001b[1;33m\u001b[0m\u001b[0m\n",
        "\u001b[1;32mC:\\winpython\\WinPython-32bit-2.7.6.2\\python-2.7.6\\lib\\site-packages\\matplotlib\\axes.pyc\u001b[0m in \u001b[0;36m_grab_next_args\u001b[1;34m(self, *args, **kwargs)\u001b[0m\n\u001b[0;32m    315\u001b[0m                 \u001b[1;32mreturn\u001b[0m\u001b[1;33m\u001b[0m\u001b[0m\n\u001b[0;32m    316\u001b[0m             \u001b[1;32mif\u001b[0m \u001b[0mlen\u001b[0m\u001b[1;33m(\u001b[0m\u001b[0mremaining\u001b[0m\u001b[1;33m)\u001b[0m \u001b[1;33m<=\u001b[0m \u001b[1;36m3\u001b[0m\u001b[1;33m:\u001b[0m\u001b[1;33m\u001b[0m\u001b[0m\n\u001b[1;32m--> 317\u001b[1;33m                 \u001b[1;32mfor\u001b[0m \u001b[0mseg\u001b[0m \u001b[1;32min\u001b[0m \u001b[0mself\u001b[0m\u001b[1;33m.\u001b[0m\u001b[0m_plot_args\u001b[0m\u001b[1;33m(\u001b[0m\u001b[0mremaining\u001b[0m\u001b[1;33m,\u001b[0m \u001b[0mkwargs\u001b[0m\u001b[1;33m)\u001b[0m\u001b[1;33m:\u001b[0m\u001b[1;33m\u001b[0m\u001b[0m\n\u001b[0m\u001b[0;32m    318\u001b[0m                     \u001b[1;32myield\u001b[0m \u001b[0mseg\u001b[0m\u001b[1;33m\u001b[0m\u001b[0m\n\u001b[0;32m    319\u001b[0m                 \u001b[1;32mreturn\u001b[0m\u001b[1;33m\u001b[0m\u001b[0m\n",
        "\u001b[1;32mC:\\winpython\\WinPython-32bit-2.7.6.2\\python-2.7.6\\lib\\site-packages\\matplotlib\\axes.pyc\u001b[0m in \u001b[0;36m_plot_args\u001b[1;34m(self, tup, kwargs)\u001b[0m\n\u001b[0;32m    274\u001b[0m         \u001b[0mret\u001b[0m \u001b[1;33m=\u001b[0m \u001b[1;33m[\u001b[0m\u001b[1;33m]\u001b[0m\u001b[1;33m\u001b[0m\u001b[0m\n\u001b[0;32m    275\u001b[0m         \u001b[1;32mif\u001b[0m \u001b[0mlen\u001b[0m\u001b[1;33m(\u001b[0m\u001b[0mtup\u001b[0m\u001b[1;33m)\u001b[0m \u001b[1;33m>\u001b[0m \u001b[1;36m1\u001b[0m \u001b[1;32mand\u001b[0m \u001b[0mis_string_like\u001b[0m\u001b[1;33m(\u001b[0m\u001b[0mtup\u001b[0m\u001b[1;33m[\u001b[0m\u001b[1;33m-\u001b[0m\u001b[1;36m1\u001b[0m\u001b[1;33m]\u001b[0m\u001b[1;33m)\u001b[0m\u001b[1;33m:\u001b[0m\u001b[1;33m\u001b[0m\u001b[0m\n\u001b[1;32m--> 276\u001b[1;33m             \u001b[0mlinestyle\u001b[0m\u001b[1;33m,\u001b[0m \u001b[0mmarker\u001b[0m\u001b[1;33m,\u001b[0m \u001b[0mcolor\u001b[0m \u001b[1;33m=\u001b[0m \u001b[0m_process_plot_format\u001b[0m\u001b[1;33m(\u001b[0m\u001b[0mtup\u001b[0m\u001b[1;33m[\u001b[0m\u001b[1;33m-\u001b[0m\u001b[1;36m1\u001b[0m\u001b[1;33m]\u001b[0m\u001b[1;33m)\u001b[0m\u001b[1;33m\u001b[0m\u001b[0m\n\u001b[0m\u001b[0;32m    277\u001b[0m             \u001b[0mtup\u001b[0m \u001b[1;33m=\u001b[0m \u001b[0mtup\u001b[0m\u001b[1;33m[\u001b[0m\u001b[1;33m:\u001b[0m\u001b[1;33m-\u001b[0m\u001b[1;36m1\u001b[0m\u001b[1;33m]\u001b[0m\u001b[1;33m\u001b[0m\u001b[0m\n\u001b[0;32m    278\u001b[0m         \u001b[1;32melif\u001b[0m \u001b[0mlen\u001b[0m\u001b[1;33m(\u001b[0m\u001b[0mtup\u001b[0m\u001b[1;33m)\u001b[0m \u001b[1;33m==\u001b[0m \u001b[1;36m3\u001b[0m\u001b[1;33m:\u001b[0m\u001b[1;33m\u001b[0m\u001b[0m\n",
        "\u001b[1;32mC:\\winpython\\WinPython-32bit-2.7.6.2\\python-2.7.6\\lib\\site-packages\\matplotlib\\axes.pyc\u001b[0m in \u001b[0;36m_process_plot_format\u001b[1;34m(fmt)\u001b[0m\n\u001b[0;32m     97\u001b[0m     \u001b[1;31m# handle the multi char special cases and strip them from the\u001b[0m\u001b[1;33m\u001b[0m\u001b[1;33m\u001b[0m\u001b[0m\n\u001b[0;32m     98\u001b[0m     \u001b[1;31m# string\u001b[0m\u001b[1;33m\u001b[0m\u001b[1;33m\u001b[0m\u001b[0m\n\u001b[1;32m---> 99\u001b[1;33m     \u001b[1;32mif\u001b[0m \u001b[0mfmt\u001b[0m\u001b[1;33m.\u001b[0m\u001b[0mfind\u001b[0m\u001b[1;33m(\u001b[0m\u001b[1;34m'--'\u001b[0m\u001b[1;33m)\u001b[0m \u001b[1;33m>=\u001b[0m \u001b[1;36m0\u001b[0m\u001b[1;33m:\u001b[0m\u001b[1;33m\u001b[0m\u001b[0m\n\u001b[0m\u001b[0;32m    100\u001b[0m         \u001b[0mlinestyle\u001b[0m \u001b[1;33m=\u001b[0m \u001b[1;34m'--'\u001b[0m\u001b[1;33m\u001b[0m\u001b[0m\n\u001b[0;32m    101\u001b[0m         \u001b[0mfmt\u001b[0m \u001b[1;33m=\u001b[0m \u001b[0mfmt\u001b[0m\u001b[1;33m.\u001b[0m\u001b[0mreplace\u001b[0m\u001b[1;33m(\u001b[0m\u001b[1;34m'--'\u001b[0m\u001b[1;33m,\u001b[0m \u001b[1;34m''\u001b[0m\u001b[1;33m)\u001b[0m\u001b[1;33m\u001b[0m\u001b[0m\n",
        "\u001b[1;31mAttributeError\u001b[0m: 'numpy.ndarray' object has no attribute 'find'"
       ]
      },
      {
       "output_type": "stream",
       "stream": "stdout",
       "text": [
        "Detailed ambient temperature in  Leuven  for last 4  days\n"
       ]
      },
      {
       "metadata": {},
       "output_type": "display_data",
       "png": "[encoded data removed]",
       "text": [
        "<matplotlib.figure.Figure at 0x6eab510>"
       ]
      }
     ],
     "prompt_number": 13
    },
    {
     "cell_type": "code",
     "collapsed": false,
     "input": [],
     "language": "python",
     "metadata": {},
     "outputs": [
      {
       "output_type": "stream",
       "stream": "stdout",
       "text": [
        "<class 'pandas.tseries.index.DatetimeIndex'>\n"
       ]
      }
     ],
     "prompt_number": 14
    },
    {
     "cell_type": "code",
     "collapsed": false,
     "input": [
      "##WIP-part  (WORK IN PROGRESS)\n",
      "# A) (high prio) Multiple calls (such as Average_Temp_Xdaysago could be grouped in single call too. (api call that gets longer list of data).\n",
      "# B) (low prio) fix figure X-axis in date \n",
      "# C) Calculate degree days & combine with gas/water\n",
      "\n"
     ],
     "language": "python",
     "metadata": {},
     "outputs": []
    },
    {
     "cell_type": "code",
     "collapsed": false,
     "input": [],
     "language": "python",
     "metadata": {},
     "outputs": []
    },
    {
     "cell_type": "code",
     "collapsed": false,
     "input": [],
     "language": "python",
     "metadata": {},
     "outputs": []
    }
   ],
   "metadata": {}
  }
 ]
}