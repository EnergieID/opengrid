{
 "metadata": {
  "name": "",
  "signature": "sha256:f4ed58eb4af03de66eeb91a4cb9b18e6a199ad74ea880f9be9c4a549841ff0a3"
 },
 "nbformat": 3,
 "nbformat_minor": 0,
 "worksheets": [
  {
   "cells": [
    {
     "cell_type": "markdown",
     "metadata": {},
     "source": [
      "## This script shows the visualization of electricity, water and gas consumption using carpet plots\n",
      "\n",
      "To get started, first run the 'Synchronize data' script\n",
      "\n",
      "#### Imports and paths"
     ]
    },
    {
     "cell_type": "code",
     "collapsed": false,
     "input": [
      "import os, sys\n",
      "import time\n",
      "import pytz\n",
      "import inspect\n",
      "import numpy as np\n",
      "import pandas as pd\n",
      "import matplotlib.pyplot as plt\n",
      "\n",
      "script_dir = os.path.dirname(os.path.abspath(inspect.getfile(inspect.currentframe())))\n",
      "# add the path to opengrid to sys.path\n",
      "sys.path.append(os.path.join(script_dir, os.pardir, os.pardir))\n",
      "from opengrid.library import config, houseprint, fluksoapi, plotting\n",
      "c=config.Config()\n",
      "\n",
      "# find tmpo\n",
      "sys.path.append(c.get('tmpo', 'folder'))\n",
      "import tmpo\n",
      "\n",
      "%matplotlib inline\n",
      "plt.rcParams['figure.figsize'] = 16,8\n",
      "\n",
      "# path to data\n",
      "path_to_data = c.get('data', 'folder')\n",
      "if not os.path.exists(path_to_data):\n",
      "    raise IOError(\"Provide your path to the data in your config.ini file.  This is a folder containing a 'zip' and 'csv' subfolder.\")\n",
      "else:\n",
      "    path_to_csv = os.path.join(path_to_data, 'csv')\n",
      "    path_to_fig = os.path.join(path_to_data, 'figures')\n",
      "    if not os.path.isdir(path_to_fig): os.makedirs(path_to_fig)"
     ],
     "language": "python",
     "metadata": {},
     "outputs": []
    },
    {
     "cell_type": "markdown",
     "metadata": {},
     "source": [
      "### Load the sensor data"
     ]
    },
    {
     "cell_type": "code",
     "collapsed": false,
     "input": [
      "hp = houseprint.load_houseprint_from_file('hp_anonymous.pkl')\n",
      "def load_sensor(sensor):\n",
      "    return fluksoapi.load_csv(fluksoapi.find_csv(path_to_csv, sensor))\n",
      "dataframes = [load_sensor(sensor) for sensor in hp.get_all_sensors()]\n",
      "df = pd.concat(dataframes, axis=1)\n",
      "df.index = df.index.tz_convert(pytz.timezone('Europe/Brussels'))\n",
      "\n",
      "print('{} sensors loaded'.format(len(df.columns)))\n",
      "print \"Size of dataframe before slicing: {}\".format(df.shape)\n",
      "\n",
      "#slice dateframe\n",
      "number_of_days = 30\n",
      "start = pd.Timestamp(time.time() - number_of_days*86400, unit='s')\n",
      "df = df.ix[start:].dropna(axis=1, how='all')\n",
      "\n",
      "print \"Size of dataframe after slicing and dropping empty sensors: {}\".format(df.shape)\n",
      "print \"start: {} {}\".format(start, df.index[0])\n",
      "print('{} sensors retained'.format(len(df.columns)))"
     ],
     "language": "python",
     "metadata": {},
     "outputs": []
    },
    {
     "cell_type": "markdown",
     "metadata": {},
     "source": [
      "## Plots\n",
      "\n",
      "### Water sensors"
     ]
    },
    {
     "cell_type": "code",
     "collapsed": false,
     "input": [
      "reload(plotting)\n",
      "water_sensors = set(df.columns) & set(hp.get_sensors_by_type('water'))\n",
      "print \"{} water sensors\".format(len(water_sensors))\n",
      "for sensor in water_sensors:\n",
      "    flukso_id=hp.get_flukso_from_sensor(sensor)\n",
      "    plotting.carpet(df[sensor], title=flukso_id, zlabel=r'Flow [l/day]')\n",
      "    plt.savefig(os.path.join(path_to_fig, 'carpet_water_'+flukso_id+'_'+sensor), dpi=100)"
     ],
     "language": "python",
     "metadata": {},
     "outputs": []
    },
    {
     "cell_type": "markdown",
     "metadata": {},
     "source": [
      "### Gas sensors"
     ]
    },
    {
     "cell_type": "code",
     "collapsed": false,
     "input": [
      "gas_sensors = set(df.columns) & set(hp.get_sensors_by_type('gas'))\n",
      "print \"{} gas sensors\".format(len(gas_sensors))\n",
      "for sensor in gas_sensors:\n",
      "    flukso_id=hp.get_flukso_from_sensor(sensor)\n",
      "    plotting.carpet(df[sensor], title=flukso_id, zlabel=r'Flow [l/day]')\n",
      "    plt.savefig(os.path.join(path_to_fig, 'carpet_gas_'+flukso_id+'_'+sensor), dpi=100)"
     ],
     "language": "python",
     "metadata": {},
     "outputs": []
    },
    {
     "cell_type": "markdown",
     "metadata": {},
     "source": [
      "### Electricity sensors"
     ]
    },
    {
     "cell_type": "code",
     "collapsed": false,
     "input": [
      "reload(plotting)\n",
      "elec_sensors = set(df.columns) & set(hp.get_sensors_by_type('electricity'))\n",
      "print \"{} electricity sensors\".format(len(elec_sensors))\n",
      "for sensor in elec_sensors:\n",
      "    flukso_id=hp.get_flukso_from_sensor(sensor)\n",
      "    plotting.carpet(df[sensor], title=flukso_id, zlabel=r'Power [W]')\n",
      "    plt.savefig(os.path.join(path_to_fig, 'carpet_elec_'+flukso_id+'_'+sensor), dpi=100)"
     ],
     "language": "python",
     "metadata": {},
     "outputs": []
    },
    {
     "cell_type": "markdown",
     "metadata": {},
     "source": [
      "## Now the same using tmpo"
     ]
    },
    {
     "cell_type": "code",
     "collapsed": false,
     "input": [
      "tmpos = tmpo.Session(r'C:\\GitHub\\Data\\flukso\\tmpo')"
     ],
     "language": "python",
     "metadata": {},
     "outputs": []
    },
    {
     "cell_type": "code",
     "collapsed": false,
     "input": [
      "tmpo_sensors = [sid for (sid,) in tmpos.dbcur.execute(tmpo.SQL_SENSOR_ALL)]"
     ],
     "language": "python",
     "metadata": {},
     "outputs": []
    },
    {
     "cell_type": "code",
     "collapsed": false,
     "input": [
      "def dif_interp(ts):\n",
      "    newindex=ts.resample('min').index\n",
      "    tsmin=ts.reindex(ts.index+newindex)\n",
      "    tsmin=tsmin.interpolate(method='time')\n",
      "    tsmin=tsmin.reindex(newindex)\n",
      "    return tsmin.diff()*3600/60"
     ],
     "language": "python",
     "metadata": {},
     "outputs": []
    },
    {
     "cell_type": "markdown",
     "metadata": {},
     "source": [
      "### Water sensors"
     ]
    },
    {
     "cell_type": "code",
     "collapsed": false,
     "input": [
      "water_sensors = set(tmpo_sensors) & set(hp.get_sensors_by_type('water'))\n",
      "print \"{} water sensors\".format(len(water_sensors))\n",
      "for sensor in water_sensors:\n",
      "    tscum = tmpos.series(sensor).ix[start:]\n",
      "    if not tscum.empty:\n",
      "        flukso_id=hp.get_flukso_from_sensor(sensor)\n",
      "        ts = dif_interp(tscum)\n",
      "        plotting.carpet(ts, title=flukso_id, zlabel=r'Flow [l/day]')\n",
      "        plt.savefig(os.path.join(path_to_fig, 'carpet_water_'+flukso_id+'_tmpo_'+sensor), dpi=100)"
     ],
     "language": "python",
     "metadata": {},
     "outputs": []
    },
    {
     "cell_type": "markdown",
     "metadata": {},
     "source": [
      "### Gas sensors"
     ]
    },
    {
     "cell_type": "code",
     "collapsed": false,
     "input": [
      "gas_sensors = set(tmpo_sensors) & set(hp.get_sensors_by_type('gas'))\n",
      "print \"{} gas sensors\".format(len(gas_sensors))\n",
      "for sensor in gas_sensors:\n",
      "    tscum = tmpos.series(sensor).ix[start:]\n",
      "    if not tscum.empty:\n",
      "        flukso_id=hp.get_flukso_from_sensor(sensor)\n",
      "        ts = dif_interp(tscum)\n",
      "        plotting.carpet(ts, title=flukso_id, zlabel=r'Flow [l/day]')\n",
      "        plt.savefig(os.path.join(path_to_fig, 'carpet_gas_'+flukso_id+'_tmpo_'+sensor), dpi=100)"
     ],
     "language": "python",
     "metadata": {},
     "outputs": []
    },
    {
     "cell_type": "markdown",
     "metadata": {},
     "source": [
      "### Electricity sensors\n",
      "\n",
      "The following returns an error in my notebook already for the first sensor"
     ]
    },
    {
     "cell_type": "code",
     "collapsed": false,
     "input": [
      "elec_sensors = set(tmpo_sensors) & set(hp.get_sensors_by_type('electricity'))\n",
      "print \"{} electricity sensors\".format(len(elec_sensors))\n",
      "for sensor in elec_sensors:\n",
      "    tscum = tmpos.series(sensor).ix[start:]\n",
      "    if not tscum.empty:\n",
      "        flukso_id=hp.get_flukso_from_sensor(sensor)\n",
      "        ts = dif_interp(tscum)\n",
      "        plotting.carpet(ts, title=flukso_id, zlabel=r'Power [W]')\n",
      "        plt.savefig(os.path.join(path_to_fig, 'carpet_elec_'+flukso_id+'_tmpo_'+sensor), dpi=100)"
     ],
     "language": "python",
     "metadata": {},
     "outputs": []
    },
    {
     "cell_type": "code",
     "collapsed": false,
     "input": [],
     "language": "python",
     "metadata": {},
     "outputs": []
    }
   ],
   "metadata": {}
  }
 ]
}