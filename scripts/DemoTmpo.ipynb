{
 "metadata": {
  "name": "",
  "signature": "sha256:5c59210e3a9f4d64731b08bad8306cd144c5589e7532a0b649e879d2f8efd07c"
 },
 "nbformat": 3,
 "nbformat_minor": 0,
 "worksheets": [
  {
   "cells": [
    {
     "cell_type": "markdown",
     "metadata": {},
     "source": [
      "## Quick Tmpo demo"
     ]
    },
    {
     "cell_type": "markdown",
     "metadata": {},
     "source": [
      "To get started, clone the tmpo-py repository from the [**opengrid github page**](https://github.com/opengridcc/tmpo-py). Then specify the path to this repo on your hard drive in your `opengrid.cfg` file."
     ]
    },
    {
     "cell_type": "code",
     "collapsed": false,
     "input": [
      "import sys\n",
      "import os\n",
      "import inspect\n",
      "# add the path to opengrid to sys.path\n",
      "script_dir = os.path.dirname(os.path.abspath(inspect.getfile(inspect.currentframe())))\n",
      "sys.path.append(os.path.join(script_dir, os.pardir, os.pardir))\n",
      "from opengrid.library import houseprint\n",
      "from opengrid.library import config\n",
      "c=config.Config()\n",
      "sys.path.append(c.get('tmpo', 'folder'))\n",
      "import tmpo\n",
      "\n",
      "import datetime as dt\n",
      "import matplotlib.pyplot as plt\n",
      "import pytz\n",
      "bxl=pytz.timezone('Europe/Brussels')\n",
      "%matplotlib inline\n",
      "plt.rcParams['figure.figsize'] = 14,8"
     ],
     "language": "python",
     "metadata": {},
     "outputs": []
    },
    {
     "cell_type": "markdown",
     "metadata": {},
     "source": [
      "Create a tmpo session, and enter debug mode to get more output."
     ]
    },
    {
     "cell_type": "code",
     "collapsed": false,
     "input": [
      "s = tmpo.Session()\n",
      "s.debug = True"
     ],
     "language": "python",
     "metadata": {},
     "outputs": []
    },
    {
     "cell_type": "markdown",
     "metadata": {},
     "source": [
      "Add a sensor and token to start tracking the data for this given sensor.  You only have to do this once for each sensor. "
     ]
    },
    {
     "cell_type": "code",
     "collapsed": false,
     "input": [
      "s.add('d209e2bbb35b82b83cc0de5e8b84a4ff','e16d9c9543572906a11649d92f902226')"
     ],
     "language": "python",
     "metadata": {},
     "outputs": []
    },
    {
     "cell_type": "markdown",
     "metadata": {},
     "source": [
      "Sync all available data to your hard drive.  All sensors previously added will be synced."
     ]
    },
    {
     "cell_type": "code",
     "collapsed": false,
     "input": [
      "s.sync()"
     ],
     "language": "python",
     "metadata": {},
     "outputs": []
    },
    {
     "cell_type": "markdown",
     "metadata": {},
     "source": [
      "Now you can create a pandas timeseries with all data from a given sensor."
     ]
    },
    {
     "cell_type": "code",
     "collapsed": false,
     "input": [
      "ts = s.series('d209e2bbb35b82b83cc0de5e8b84a4ff')\n",
      "print ts"
     ],
     "language": "python",
     "metadata": {},
     "outputs": []
    },
    {
     "cell_type": "markdown",
     "metadata": {},
     "source": [
      "When plotting the data, you'll notice that this ts contains cumulative data, and the time axis (= pandas index) contains seconds since the epoch.  Not very practical."
     ]
    },
    {
     "cell_type": "code",
     "collapsed": false,
     "input": [
      "ts.plot()\n",
      "plt.show()"
     ],
     "language": "python",
     "metadata": {},
     "outputs": []
    },
    {
     "cell_type": "markdown",
     "metadata": {},
     "source": [
      "So the first thing to do is create an DatetimeIndex."
     ]
    },
    {
     "cell_type": "code",
     "collapsed": false,
     "input": [
      "ts.index = [dt.datetime.fromtimestamp(x, tz=bxl) for x in ts.index]\n",
      "ts.plot()\n",
      "plt.show()"
     ],
     "language": "python",
     "metadata": {},
     "outputs": []
    },
    {
     "cell_type": "markdown",
     "metadata": {},
     "source": [
      "To show differential data (eg instantaneous power), we first have to resample this cumulative data to the interval we want to obtain.  We use linear interpolation to approximate the cumulative value between two datapoints.  In the example below, we resample to minute values. Then, we take the difference between the cumulative values at minute intervals in order to get the average power (per minute). As the original data is in Wh, we have to convert it to W."
     ]
    },
    {
     "cell_type": "code",
     "collapsed": false,
     "input": [
      "tsmin = ts.resample(rule='60s')\n",
      "tsmin=tsmin.interpolate(method='linear')\n",
      "tsmin=tsmin.diff()*3600/60\n",
      "tsmin.plot()"
     ],
     "language": "python",
     "metadata": {},
     "outputs": []
    },
    {
     "cell_type": "markdown",
     "metadata": {},
     "source": [
      "If we want to plot only a specific period, we can *slice* the data with the *.ix[from:to]* method."
     ]
    },
    {
     "cell_type": "code",
     "collapsed": false,
     "input": [
      "tsmin.ix['20141016':'20141018'].plot()"
     ],
     "language": "python",
     "metadata": {},
     "outputs": []
    },
    {
     "cell_type": "code",
     "collapsed": false,
     "input": [],
     "language": "python",
     "metadata": {},
     "outputs": []
    }
   ],
   "metadata": {}
  }
 ]
}