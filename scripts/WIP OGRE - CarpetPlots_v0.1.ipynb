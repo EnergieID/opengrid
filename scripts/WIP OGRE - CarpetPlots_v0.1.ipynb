{
 "metadata": {
  "name": ""
 },
 "nbformat": 3,
 "nbformat_minor": 0,
 "worksheets": [
  {
   "cells": [
    {
     "cell_type": "code",
     "collapsed": false,
     "input": [
      "# Required modules matplotlib / numpy / pandas\n",
      "# Also these are needed requests gspread inspect\n",
      "#!pip install requests gspread inspect\n",
      "# Required modules matplotlib / numpy / pandas"
     ],
     "language": "python",
     "metadata": {},
     "outputs": []
    },
    {
     "cell_type": "code",
     "collapsed": false,
     "input": [
      "import os, sys\n",
      "import inspect\n",
      "import numpy as np\n",
      "import matplotlib.pyplot as plt\n",
      "import datetime as dt\n",
      "import pandas as pd\n",
      "# add paths to opengrid & script to sys.path\n",
      "script_dir = os.path.dirname(os.path.abspath(inspect.getfile(inspect.currentframe())))\n",
      "#print('Script dir:' + script_dir)\n",
      "path_to_data = os.path.abspath(os.path.join(os.path.abspath(inspect.getfile(inspect.currentframe())),os.pardir,os.pardir,os.pardir,'data'))\n",
      "\n",
      "sys.path.append(os.path.join(script_dir, os.pardir))\n",
      "from library.houseprint import Houseprint\n",
      "from library import fluksoapi\n",
      "%matplotlib inline\n",
      "\n"
     ],
     "language": "python",
     "metadata": {},
     "outputs": []
    },
    {
     "cell_type": "code",
     "collapsed": false,
     "input": [
      "#path_to_data =  os.path.abspath(os.path.join(script_dir,os.pardir,os.pardir,'data'))\n",
      "\n",
      "#Folder has to exist, else fluksoapi.consolidate generates errors\n",
      "if os.path.exists(path_to_data):print(' Data folder '+ path_to_data + ' exists') \n",
      "    \n",
      "else:     \n",
      "    os.path.os.mkdir(path_to_data)\n",
      "    print(' Data folder ' +path_to_data + ' made')\n",
      "\n"
     ],
     "language": "python",
     "metadata": {},
     "outputs": []
    },
    {
     "cell_type": "code",
     "collapsed": false,
     "input": [
      "def get_timeseries(hp, sensortype):\n",
      "    \"\"\"\n",
      "    Return a list with pandas DataFrames for all sensors of the given sensortype.\n",
      "    The timeseries have the sensor hex as name.\n",
      "\n",
      "    \"\"\"\n",
      "    \n",
      "    timeseries = []\n",
      "    # create list with sensors\n",
      "    sensors = hp.get_sensors_by_type(sensortype)\n",
      "    for sensor in sensors:\n",
      "        # compose a single csv of all the data and load as timeseries\n",
      "        try:\n",
      "            csv = fluksoapi.consolidate(folder = path_to_data, sensor = sensor)\n",
      "            ts = fluksoapi.load_csv(csv)\n",
      "            df = pd.DataFrame(ts)\n",
      "            df.columns = [sensor]\n",
      "            timeseries.append(df)\n",
      "        except ValueError:\n",
      "            # this sensor has no csv files: no problem            \n",
      "            pass\n",
      "    \n",
      "    return timeseries"
     ],
     "language": "python",
     "metadata": {},
     "outputs": []
    },
    {
     "cell_type": "code",
     "collapsed": false,
     "input": [
      "def load_duration(list_df):\n",
      "    \"\"\"\n",
      "    Make a simple plot with load duration curves for all timeseries in list_df.\n",
      "    \"\"\"\n",
      "    \n",
      "\n",
      "    fig = plt.figure()\n",
      "    ax = plt.subplot(111)    \n",
      "    \n",
      "    for df in list_df:\n",
      "        arr = df.values\n",
      "        arr = arr.reshape(arr.size,)\n",
      "        ax.plot(np.sort(arr), label = hp.get_flukso_from_sensor(df.columns[0]))\n",
      "        \n",
      "    plt.legend()\n",
      "    \n",
      "    return fig, ax"
     ],
     "language": "python",
     "metadata": {},
     "outputs": []
    },
    {
     "cell_type": "code",
     "collapsed": false,
     "input": [
      "def select_night(df):\n",
      "    \"\"\"\n",
      "    Return a TimeSeries containing only the hours between 00h00 and 05h00 for the given day\n",
      "    \n",
      "    Parameters\n",
      "    ----------\n",
      "    * ts : pandas TimeSeries\n",
      "    \"\"\"\n",
      "    \n",
      "    dfnight = df.ix[df.index.hour >= np.zeros(len(df))]\n",
      "    dfnight = dfnight.ix[dfnight.index.hour < 5*np.ones(len(dfnight))]\n",
      "        \n",
      "    return dfnight"
     ],
     "language": "python",
     "metadata": {},
     "outputs": []
    },
    {
     "cell_type": "code",
     "collapsed": false,
     "input": [
      "def select_day(df, dt_day):\n",
      "    \"\"\"\n",
      "    Return a DataFrame containing only data for the given day\n",
      "    \n",
      "    Parameters\n",
      "    ----------\n",
      "    * df : pandas DataFrame\n",
      "    * dt_day : datetime \n",
      "    \n",
      "    Returns\n",
      "    -------\n",
      "    pandas DataFrame\n",
      "    \"\"\"\n",
      "    \n",
      "    return df.ix[df.index.day == dt_day.day]"
     ],
     "language": "python",
     "metadata": {},
     "outputs": []
    },
    {
     "cell_type": "code",
     "collapsed": false,
     "input": [
      "def test_valid(df):\n",
      "    \"\"\"\n",
      "    Test if a DataFrame contains useful data:\n",
      "    - max value should be larger than 0\n",
      "    - min and max have to be different\n",
      "    \"\"\"\n",
      "    max_ = df.values.max()\n",
      "    return max_ > 0 and df.values.min() <> max_  "
     ],
     "language": "python",
     "metadata": {},
     "outputs": []
    },
    {
     "cell_type": "code",
     "collapsed": false,
     "input": [
      "\"\"\"\n",
      "Script to cache anonymous houseprint data into hp_anonymous.pkl\n",
      "\n",
      "Created on 05/07/2014 by Roel De Coninck\n",
      "\"\"\"\n",
      "\n",
      "import os, sys\n",
      "import inspect\n",
      "\n",
      "from library import houseprint\n",
      "\n",
      "\n",
      "script_dir = os.path.dirname(os.path.abspath(inspect.getfile(inspect.currentframe())))\n",
      "# add the path to opengrid to sys.path\n",
      "sys.path.append(os.path.join(script_dir, os.pardir, os.pardir))\n",
      "\n",
      "##############################################################################\n",
      "\n",
      "#hp = Houseprint()\n",
      "hp = houseprint.load_houseprint_from_file('hp_anonymous.pkl')\n",
      "all_sensordata = hp.get_all_fluksosensors()\n",
      "print('Sensor data fetched')\n",
      "\n",
      "hp.save('hp_anonymous.pkl')"
     ],
     "language": "python",
     "metadata": {},
     "outputs": []
    },
    {
     "cell_type": "code",
     "collapsed": false,
     "input": [
      "def get_dataframes(hp, sensortype):\n",
      "    \"\"\"\n",
      "    Return a list with pandas DataFrames for all sensors of the given sensortype.\n",
      "    The columns have the sensor hex as name.\n",
      "\n",
      "    \"\"\"\n",
      "    \n",
      "    list_of_df = []\n",
      "    # create list with sensors\n",
      "    sensors = hp.get_sensors_by_type(sensortype)\n",
      "    for sensor in sensors:\n",
      "        # compose a single csv of all the data and load as timeseries\n",
      "        try:\n",
      "            csv = fluksoapi.consolidate(folder = path_to_data, sensor = sensor)\n",
      "        except ValueError:\n",
      "            # this sensor has no csv files: no problem            \n",
      "            pass\n",
      "        ts = fluksoapi.load_csv(csv)\n",
      "        df = pd.DataFrame(ts)\n",
      "        df.columns = [sensor]\n",
      "        list_of_df.append(df)\n",
      "    \n",
      "    return list_of_df"
     ],
     "language": "python",
     "metadata": {},
     "outputs": []
    },
    {
     "cell_type": "code",
     "collapsed": false,
     "input": [
      "#hp = Houseprint()\n",
      "all_sensordata =hp.get_all_fluksosensors() \n",
      "print('Sensor data fetched')"
     ],
     "language": "python",
     "metadata": {},
     "outputs": []
    },
    {
     "cell_type": "code",
     "collapsed": false,
     "input": [
      "print size(hp.get_sensors_by_type('water'))"
     ],
     "language": "python",
     "metadata": {},
     "outputs": []
    },
    {
     "cell_type": "code",
     "collapsed": false,
     "input": [
      "UtilityTypes = {'gas'} # {'water','gas','electricity'} \n",
      "df = get_timeseries(hp, UtilityTypes)\n",
      "#change to HOURLY\n",
      "for i in range(0,len(df)):\n",
      "    dH[i] = df[i].resample('H')\n",
      "NumberSer = len(df)\n",
      "print NumberSer, \"time series for\" ,UtilityTypes, \"loaded\"\n",
      "print UtilityTypes ,\"timeseries 'active' now!\" #only last \"ts\" is maintained for further processing!"
     ],
     "language": "python",
     "metadata": {},
     "outputs": []
    },
    {
     "cell_type": "markdown",
     "metadata": {},
     "source": [
      "Just testing out the available data"
     ]
    },
    {
     "cell_type": "code",
     "collapsed": false,
     "input": [
      "print(str(len(dH[1])) + \" minutes of data available\")\n",
      "print(str(len(dH)) + \" datasets (\" +UtilityType +  \" sensors) available\")\n",
      "tsi =dH[1]\n",
      "span=      tsi.index[-1]-tsi.index[0]\n",
      "print span\n",
      "NumberSer = len(dH)\n"
     ],
     "language": "python",
     "metadata": {},
     "outputs": []
    },
    {
     "cell_type": "code",
     "collapsed": false,
     "input": [
      "Dhplot(ts[8])\n",
      "type(tsi)"
     ],
     "language": "python",
     "metadata": {},
     "outputs": []
    },
    {
     "cell_type": "code",
     "collapsed": false,
     "input": [
      "\"\"\" Plot all series in in carpet plot\n",
      "Reshape and resample available data\n",
      "\n",
      "Functions:\n",
      "* (abnormal) pattern detection in very large datasets (your own monthly/yearly data).\n",
      "* Could be used to compare abnormal behaviour too, in comparison to other peoples datasets.\n",
      "\n",
      "parameters: \n",
      "\n",
      "* nMinutes # number of discrete groups on X-axis. Default = 60 (min) or 24*60 (hrs)\n",
      "* resampling period:  # group Size (minutes) on X asis. Default = 1 (min) or 60 (mins) \n",
      "* mintime, maxtime\n",
      "\n",
      "\n",
      "\"\"\"\n",
      "for i in range(0,NumberSer):\n",
      "#loop trough all the data ranges\n",
      "\n",
      "    tsi =ts[i] # select one timeseries\n",
      "    nMinutes = 24 # group size of X-axis \n",
      "    resampling_rate =  1; #resampled to 1 hour . Auto-extract from data?\n",
      "    #plot(tsi)\n",
      "\n",
      "    # resampling (or gap filling if resampling rate == 1)\n",
      "    # Work in progress. TODO.\n",
      "    #tsiRes=tsi.resample(tsi,kind = 'timestamp',axis = 1, how='mean')\n",
      "    tsiRes= tsi\n",
      "    # resample, based on \n",
      "    ##pd.reshape(ts[i].values,[tsLength/Nminutes,Nminutes])   \n",
      "      \n",
      "    if  np.count_nonzero(~np.isnan(tsiRes.values))>0:  # not all NaN or zeros    \n",
      "        #only make graphs when data available\n",
      "        plt.figure(figsize=(10,5))\n",
      "        ax2=plt.subplot(122)    \n",
      "        tsLength = len(ts[i].values)\n",
      "        tsiResLength= len(tsiRes.values)\n",
      "        image = np.reshape(tsiRes.values,[tsiResLength/nMinutes*resampling_rate,nMinutes/resampling_rate]) \n",
      "        \n",
      "        print 'image shape:', shape(image)\n",
      "        #1 line per plot. group per 60 minutes /1 hr /etc. can be resampled too.\n",
      "      \n",
      "        #plot layout\n",
      "        FLM_label = hp.get_flukso_from_sensor(ts[i].columns[0])\n",
      "        ax2.set_title(\"Carpet plot of \"+ UtilityType+ \"-usage for \" + FLM_label) \n",
      "        ax2.set_xlabel( \"Detailed time axis (typically 24 hours)\" + str(nMinutes) + \" minutes here\")\n",
      "        timestamps_hours = np.reshape(ts[i].index,[tsLength/nMinutes,nMinutes])\n",
      "        ax2.set_yticklabels(timestamps_hours[:,24])  #TODO: add formatting to remove  12:24 hr:mins\n",
      "        ax2.set_ylabel('Gross time axis (typically day)')\n",
      "        #    ax2.set_xticklabels(timestamps.minute[:,1])  #later hours.\n",
      "       # ax2.set_xbound(lower=0,upper=nMinutes)\n",
      "        ax2.set_label(FLM_label)\n",
      "                \n",
      "        #plot carpet\n",
      "        ax2.imshow(image, cmap=plt.cm.Reds_r, interpolation='nearest')\n",
      "        plt.legend()\n",
      "        "
     ],
     "language": "python",
     "metadata": {},
     "outputs": []
    },
    {
     "cell_type": "code",
     "collapsed": false,
     "input": [],
     "language": "python",
     "metadata": {},
     "outputs": []
    }
   ],
   "metadata": {}
  }
 ]
}