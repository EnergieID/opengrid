{
 "metadata": {
  "name": "",
  "signature": "sha256:52479a9fe03ef911093da8b686e5b6dd5de2338546582940ff7b0e4ac924f2de"
 },
 "nbformat": 3,
 "nbformat_minor": 0,
 "worksheets": [
  {
   "cells": [
    {
     "cell_type": "markdown",
     "metadata": {},
     "source": [
      "# Synchronize the data from the opengrid droplet to your computer.  \n",
      "\n",
      "This will only download missing files and convert all the data into a single csv per sensor"
     ]
    },
    {
     "cell_type": "code",
     "collapsed": false,
     "input": [
      "import os, sys\n",
      "import inspect\n",
      "\n",
      "# Obtain path of the opengrid codebase and import opengrid libraries\n",
      "script_dir = os.path.dirname(os.path.abspath(inspect.getfile(inspect.currentframe())))\n",
      "sys.path.append(os.path.join(script_dir, os.pardir, os.pardir))\n",
      "from opengrid.library import fluksoapi"
     ],
     "language": "python",
     "metadata": {},
     "outputs": []
    },
    {
     "cell_type": "code",
     "collapsed": false,
     "input": [
      "# adapt the path here, and run.  Can take a while...\n",
      "fluksoapi.synchronize('/home/roel/data/work/opengrid/data')"
     ],
     "language": "python",
     "metadata": {},
     "outputs": []
    }
   ],
   "metadata": {}
  }
 ]
}