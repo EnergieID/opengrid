{
 "metadata": {
  "name": "",
  "signature": "sha256:c91cca26b2dd87e00d0211998c52b66d17bf6f5daf887d7bbeae0064d59bab00"
 },
 "nbformat": 3,
 "nbformat_minor": 0,
 "worksheets": [
  {
   "cells": [
    {
     "cell_type": "markdown",
     "metadata": {},
     "source": [
      "# Synchronize the data from the opengrid droplet to your computer.  \n",
      "\n",
      "This will only download missing files and convert all the data into a single csv per sensor"
     ]
    },
    {
     "cell_type": "code",
     "collapsed": false,
     "input": [
      "import os, sys\n",
      "import inspect\n",
      "\n",
      "# Obtain path of the opengrid codebase and import opengrid libraries\n",
      "script_dir = os.path.dirname(os.path.abspath(inspect.getfile(inspect.currentframe())))\n",
      "sys.path.append(os.path.join(script_dir, os.pardir, os.pardir))\n",
      "from opengrid.library import fluksoapi\n",
      "from opengrid.library import config\n",
      "\n",
      "c = config.Config()"
     ],
     "language": "python",
     "metadata": {},
     "outputs": []
    },
    {
     "cell_type": "code",
     "collapsed": false,
     "input": [
      "# adapt the path here, and run.  Can take a while...\n",
      "fluksoapi.synchronize(c.get('data', 'folder'))"
     ],
     "language": "python",
     "metadata": {},
     "outputs": []
    },
    {
     "cell_type": "code",
     "collapsed": false,
     "input": [],
     "language": "python",
     "metadata": {},
     "outputs": []
    }
   ],
   "metadata": {}
  }
 ]
}