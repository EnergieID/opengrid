{
 "metadata": {
  "name": "",
  "signature": "sha256:916c4f0eb9dbf93eeafaf507d3871775107a39d41452e39b0ac55fbd214c0f9c"
 },
 "nbformat": 3,
 "nbformat_minor": 0,
 "worksheets": [
  {
   "cells": [
    {
     "cell_type": "code",
     "collapsed": false,
     "input": [
      "import os, sys\n",
      "import inspect\n",
      "import numpy as np\n",
      "import matplotlib.pyplot as plt\n",
      "\n",
      "script_dir = os.path.dirname(os.path.abspath(inspect.getfile(inspect.currentframe())))\n",
      "# add the path to opengrid to sys.path\n",
      "sys.path.append(os.path.join(script_dir, os.pardir, os.pardir))\n",
      "from opengrid.library.houseprint import Houseprint\n",
      "from opengrid.library import fluksoapi"
     ],
     "language": "python",
     "metadata": {},
     "outputs": []
    },
    {
     "cell_type": "markdown",
     "metadata": {},
     "source": [
      "Script settings"
     ]
    },
    {
     "cell_type": "code",
     "collapsed": false,
     "input": [
      "path_to_data = os.path.join(script_dir, os.pardir, os.pardir, os.pardir, 'work', 'temp')\n",
      "%matplotlib inline"
     ],
     "language": "python",
     "metadata": {},
     "outputs": []
    },
    {
     "cell_type": "code",
     "collapsed": false,
     "input": [
      "def get_timeseries(hp, sensortype):\n",
      "    \"\"\"\n",
      "    Return list with pandas TimeSeries for all sensors of the given sensortype.\n",
      "    The timeseries have the sensor hex as name.\n",
      "\n",
      "    \"\"\"\n",
      "    \n",
      "    timeseries = []\n",
      "    # create list with sensors\n",
      "    sensors = hp.get_sensors_by_type(sensortype)\n",
      "    for sensor in sensors:\n",
      "        # compose a single csv of all the data and load as timeseries\n",
      "        try:\n",
      "            csv = fluksoapi.consolidate(folder = path_to_data, sensor = sensor)\n",
      "        except ValueError:\n",
      "            # this sensor has no csv files: no problem            \n",
      "            pass\n",
      "        ts = fluksoapi.load_csv(csv)\n",
      "        ts.name = sensor\n",
      "        timeseries.append(ts)\n",
      "    \n",
      "    return timeseries"
     ],
     "language": "python",
     "metadata": {},
     "outputs": []
    },
    {
     "cell_type": "code",
     "collapsed": false,
     "input": [
      "def load_duration(list_ts):\n",
      "    \"\"\"\n",
      "    Make a simple plot with load duration curves for all timeseries in list_ts.\n",
      "    \"\"\"\n",
      "    \n",
      "\n",
      "    fig = plt.figure()\n",
      "    ax = plt.subplot(111)    \n",
      "    \n",
      "    for ts in list_ts:\n",
      "        arr = ts.values\n",
      "        arr = arr.reshape(arr.size,)\n",
      "        ax.plot(np.sort(arr), label = hp.get_flukso_from_sensor(ts.name))\n",
      "        \n",
      "    plt.legend()\n",
      "    \n",
      "    return fig, ax"
     ],
     "language": "python",
     "metadata": {},
     "outputs": []
    },
    {
     "cell_type": "code",
     "collapsed": false,
     "input": [
      "def select_night(ts):\n",
      "    \"\"\"\n",
      "    Return a TimeSeries containing only the hours between 00h00 and 05h00\n",
      "    \"\"\"\n",
      "    tsnight = ts.ix[ts.index.hour >= np.zeros(len(ts))]\n",
      "    tsnight = tsnight.ix[tsnight.index.hour < 5*np.ones(len(tsnight))]\n",
      "    tsnight.name = ts.name\n",
      "    \n",
      "    return tsnight"
     ],
     "language": "python",
     "metadata": {},
     "outputs": []
    },
    {
     "cell_type": "code",
     "collapsed": false,
     "input": [
      "def test_valid(ts):\n",
      "    \"\"\"\n",
      "    Test if a ts contains useful data (max value should be larger than 0)\n",
      "    \"\"\"\n",
      "    \n",
      "    return ts.values.max() > 0\n",
      "    "
     ],
     "language": "python",
     "metadata": {},
     "outputs": []
    },
    {
     "cell_type": "markdown",
     "metadata": {},
     "source": [
      "We create a list with timeseries.  Each timeseries contains all electricity consumption data we have for one electricity sensor"
     ]
    },
    {
     "cell_type": "code",
     "collapsed": false,
     "input": [
      "hp = Houseprint()\n",
      "hp.get_all_fluksosensors()\n",
      "print('Sensor data fetched')"
     ],
     "language": "python",
     "metadata": {},
     "outputs": []
    },
    {
     "cell_type": "code",
     "collapsed": false,
     "input": [
      "timeseries = get_timeseries(hp, sensortype='electricity')\n",
      "print('{} time series for electricity loaded'.format(len(timeseries)))"
     ],
     "language": "python",
     "metadata": {},
     "outputs": []
    },
    {
     "cell_type": "code",
     "collapsed": false,
     "input": [
      "tsnight = map(select_night, timeseries)\n",
      "tsnight = filter(test_valid, tsnight)"
     ],
     "language": "python",
     "metadata": {},
     "outputs": []
    },
    {
     "cell_type": "code",
     "collapsed": false,
     "input": [
      "timeseries[0].plot()"
     ],
     "language": "python",
     "metadata": {},
     "outputs": []
    },
    {
     "cell_type": "code",
     "collapsed": false,
     "input": [
      "for i in range(5):\n",
      "    tsnight[i].plot()"
     ],
     "language": "python",
     "metadata": {},
     "outputs": []
    },
    {
     "cell_type": "code",
     "collapsed": false,
     "input": [
      "minima = [x.values.min() for x in tsnight]\n",
      "print minima"
     ],
     "language": "python",
     "metadata": {},
     "outputs": []
    },
    {
     "cell_type": "code",
     "collapsed": false,
     "input": [
      "def benchmark_standby(ts, minima, hp):\n",
      "    \"\"\"\n",
      "    Benchmark plot of the minimum of ts compared to a list of minima\n",
      "           \n",
      "    \"\"\"\n",
      "    \n",
      "    plt.figure()\n",
      "    plt.boxplot(minima)\n",
      "    ax=plt.gca()\n",
      "    ax.grid()\n",
      "    ax.set_ylabel('W')\n",
      "    ax.plot(1,ts.values.min(), 'rD', ms=10, label=hp.get_flukso_from_sensor(ts.name))\n",
      "    plt.legend()\n",
      "    "
     ],
     "language": "python",
     "metadata": {},
     "outputs": []
    },
    {
     "cell_type": "code",
     "collapsed": false,
     "input": [
      "for ts in tsnight:\n",
      "    benchmark_standby(ts, minima, hp)"
     ],
     "language": "python",
     "metadata": {},
     "outputs": []
    },
    {
     "cell_type": "code",
     "collapsed": false,
     "input": [],
     "language": "python",
     "metadata": {},
     "outputs": []
    }
   ],
   "metadata": {}
  }
 ]
}