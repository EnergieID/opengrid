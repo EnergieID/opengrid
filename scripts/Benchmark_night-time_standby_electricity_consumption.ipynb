{
 "metadata": {
  "name": "",
  "signature": "sha256:0247b8121e2b0af56f1302d2a7ea6df2e0df01074df1b750f5ce447b2ac93154"
 },
 "nbformat": 3,
 "nbformat_minor": 0,
 "worksheets": [
  {
   "cells": [
    {
     "cell_type": "markdown",
     "metadata": {},
     "source": [
      "### This script shows how to use the existing code in opengrid to create a baseload electricity consumption benchmark. "
     ]
    },
    {
     "cell_type": "code",
     "collapsed": false,
     "input": [
      "import os, sys\n",
      "import inspect\n",
      "import numpy as np\n",
      "import matplotlib.pyplot as plt\n",
      "import datetime as dt\n",
      "import pandas as pd\n",
      "\n",
      "script_dir = os.path.dirname(os.path.abspath(inspect.getfile(inspect.currentframe())))\n",
      "# add the path to opengrid to sys.path\n",
      "sys.path.append(os.path.join(script_dir, os.pardir, os.pardir))\n",
      "from opengrid.library.houseprint import Houseprint\n",
      "from opengrid.library import fluksoapi"
     ],
     "language": "python",
     "metadata": {},
     "outputs": []
    },
    {
     "cell_type": "markdown",
     "metadata": {},
     "source": [
      "### Script settings"
     ]
    },
    {
     "cell_type": "code",
     "collapsed": false,
     "input": [
      "path_to_data = os.path.join(script_dir, os.pardir, os.pardir, os.pardir, 'work', 'temp')\n",
      "%matplotlib inline"
     ],
     "language": "python",
     "metadata": {},
     "outputs": []
    },
    {
     "cell_type": "markdown",
     "metadata": {},
     "source": [
      "### Some functions, if generic enough they should be moved to the api codebase"
     ]
    },
    {
     "cell_type": "code",
     "collapsed": false,
     "input": [
      "def get_dataframes(hp, sensortype):\n",
      "    \"\"\"\n",
      "    Return a list with pandas DataFrames for all sensors of the given sensortype.\n",
      "    The columns have the sensor hex as name.\n",
      "\n",
      "    \"\"\"\n",
      "    \n",
      "    list_of_df = []\n",
      "    # create list with sensors\n",
      "    sensors = hp.get_sensors_by_type(sensortype)\n",
      "    for sensor in sensors:\n",
      "        # compose a single csv of all the data and load as timeseries\n",
      "        try:\n",
      "            csv = fluksoapi.consolidate(folder = path_to_data, sensor = sensor)\n",
      "        except ValueError:\n",
      "            # this sensor has no csv files: no problem            \n",
      "            pass\n",
      "        ts = fluksoapi.load_csv(csv)\n",
      "        df = pd.DataFrame(ts)\n",
      "        df.columns = [sensor]\n",
      "        list_of_df.append(df)\n",
      "    \n",
      "    return list_of_df"
     ],
     "language": "python",
     "metadata": {},
     "outputs": []
    },
    {
     "cell_type": "code",
     "collapsed": false,
     "input": [
      "def load_duration(list_of_df):\n",
      "    \"\"\"\n",
      "    Make a simple plot with load duration curves for all dataframes in list_df.\n",
      "    \"\"\"\n",
      "    \n",
      "\n",
      "    fig = plt.figure()\n",
      "    ax = plt.subplot(111)    \n",
      "    \n",
      "    for df in list_of_df:\n",
      "        arr = df.values\n",
      "        arr = arr.reshape(arr.size,)\n",
      "        ax.plot(np.sort(arr), label = hp.get_flukso_from_sensor(df.columns[0]))\n",
      "        \n",
      "    plt.legend()\n",
      "    \n",
      "    return fig, ax"
     ],
     "language": "python",
     "metadata": {},
     "outputs": []
    },
    {
     "cell_type": "code",
     "collapsed": false,
     "input": [
      "def select_night(df):\n",
      "    \"\"\"\n",
      "    Return a DataFrame containing only the hours between 00h00 and 05h00\n",
      "    \n",
      "    Parameters\n",
      "    ----------\n",
      "    * df : pandas DataFrame\n",
      "    \"\"\"\n",
      "    \n",
      "    dfnight = df.ix[df.index.hour >= np.zeros(len(df))]\n",
      "    dfnight = dfnight.ix[dfnight.index.hour < 5*np.ones(len(dfnight))]\n",
      "        \n",
      "    return dfnight"
     ],
     "language": "python",
     "metadata": {},
     "outputs": []
    },
    {
     "cell_type": "code",
     "collapsed": false,
     "input": [
      "def select_day(df, dt_day):\n",
      "    \"\"\"\n",
      "    Return a DataFrame containing only data for the given day\n",
      "    \n",
      "    Parameters\n",
      "    ----------\n",
      "    * df : pandas DataFrame\n",
      "    * dt_day : datetime \n",
      "    \n",
      "    Returns\n",
      "    -------\n",
      "    pandas DataFrame\n",
      "    \"\"\"\n",
      "    \n",
      "    return df.ix[df.index.day == dt_day.day]"
     ],
     "language": "python",
     "metadata": {},
     "outputs": []
    },
    {
     "cell_type": "code",
     "collapsed": false,
     "input": [
      "def test_valid(df):\n",
      "    \"\"\"\n",
      "    Test if a DataFrame contains useful data:\n",
      "    - max value should be larger than 0\n",
      "    - min and max have to be different\n",
      "    \"\"\"\n",
      "    try:\n",
      "        max_ = df.values.max()\n",
      "        return max_ > 0 and df.values.min() <> max\n",
      "    except:\n",
      "        return False  "
     ],
     "language": "python",
     "metadata": {},
     "outputs": []
    },
    {
     "cell_type": "markdown",
     "metadata": {},
     "source": [
      "### We create a list with timeseries.  Each timeseries contains all electricity consumption data we have for one electricity sensor"
     ]
    },
    {
     "cell_type": "code",
     "collapsed": false,
     "input": [
      "hp = Houseprint()\n",
      "hp.get_all_fluksosensors()\n",
      "print('Sensor data fetched')"
     ],
     "language": "python",
     "metadata": {},
     "outputs": []
    },
    {
     "cell_type": "code",
     "collapsed": false,
     "input": [
      "dataframes = get_dataframes(hp, sensortype='electricity')\n",
      "print('{} Dataframes for electricity loaded'.format(len(timeseries)))"
     ],
     "language": "python",
     "metadata": {},
     "outputs": []
    },
    {
     "cell_type": "markdown",
     "metadata": {},
     "source": [
      "Next plot shows:\n",
      "* that I did not pull all data from the flukso api: 2 days are missing\n",
      "* that this electricity sensor measures the result of consumption and PV production"
     ]
    },
    {
     "cell_type": "code",
     "collapsed": false,
     "input": [
      "dataframes[0].plot()"
     ],
     "language": "python",
     "metadata": {},
     "outputs": []
    },
    {
     "cell_type": "markdown",
     "metadata": {},
     "source": [
      "We have to filter out the data, we do three things:\n",
      "\n",
      "1. select only data from last day\n",
      "2. filter out the night-time hours (between 00h00 and 05h00)\n",
      "3. we check if the resulting time series contain enough variation (constant zero or one is filtered out)"
     ]
    },
    {
     "cell_type": "code",
     "collapsed": false,
     "input": [
      "select_today = lambda x: select_day(x, dt.datetime.now())\n",
      "dfnight = map(select_night, map(select_today, timeseries))\n",
      "dfnight = filter(test_valid, dfnight)"
     ],
     "language": "python",
     "metadata": {},
     "outputs": []
    },
    {
     "cell_type": "code",
     "collapsed": false,
     "input": [
      "minima = [x.values.min() for x in dfnight]\n",
      "print minima"
     ],
     "language": "python",
     "metadata": {},
     "outputs": []
    },
    {
     "cell_type": "code",
     "collapsed": false,
     "input": [
      "def benchmark_standby_multiple_days(dataframes, hp, days=1):\n",
      "    \"\"\"\n",
      "    Benchmark plot of the standby electricity consumption for multiple days\n",
      "    \n",
      "    Parameters\n",
      "    ----------\n",
      "    * dataframes : list with pandas DataFrames\n",
      "      One dataframe per sensor\n",
      "    * hp : Houseprint object\n",
      "    * days : int\n",
      "      Number of days (or nights) to analyse\n",
      "    \n",
      "    Notes\n",
      "    -----\n",
      "    Will create a plot per remaining df in dataframes after filtering and validation of the data\n",
      "    \"\"\"\n",
      "    \n",
      "    def only_nan(l):\n",
      "        \"\"\"\n",
      "        Return True if l contains only NaN\n",
      "        \"\"\"\n",
      "        \n",
      "        for i in l:\n",
      "            if not np.isnan(i):\n",
      "                return False\n",
      "        return True\n",
      "    \n",
      "    # We have to avoid doing the same operations multiple times. As the boxplots are identical for each of the sensors, \n",
      "    # we should create this data only once. \n",
      "    \n",
      "    minima = [] # will be a list with arrays of the standby consumptions, one array per day\n",
      "    P_standby = {} # will be a dict with sensor id as key and a list with standby consumptions for this sensor as value.  \n",
      "                   # The list contains a value (or NaN) per day\n",
      "    df_night = {}\n",
      "    for df in dataframes:\n",
      "        P_standby[df.columns[0]] = []\n",
      "        df_night[df.columns[0]] = []\n",
      "    \n",
      "    for day in range(days)[::-1]:\n",
      "        # First, select only data from this day, and then only the night\n",
      "        select_this_day = lambda x: select_day(x, dt.datetime.now() - dt.timedelta(days=day))\n",
      "        dfnight = map(select_night, map(select_this_day, dataframes))\n",
      "        dfnight = filter(test_valid, dfnight)\n",
      "        # dfnight is a list with dataframes containing only nighttime data for one single day\n",
      "        minima.append(np.array([x.values.min() for x in dfnight]))\n",
      "        sensors = P_standby.keys()\n",
      "        for df in dfnight:\n",
      "            sensor = df.columns[0]\n",
      "            P_standby[sensor].append(df.values.min())\n",
      "            df_night[sensor].append(df)\n",
      "            sensors.remove(sensor)\n",
      "        for sensor in sensors:\n",
      "            # these sensors had no valid data for this given day\n",
      "            P_standby[sensor].append(np.NAN)\n",
      "            df_night[sensor].append(pd.DataFrame())\n",
      "    \n",
      "    for sensor, standby_per_day in P_standby.iteritems():\n",
      "        if not only_nan(standby_per_day):\n",
      "            plt.figure(figsize=(10,5))\n",
      "            ax1=plt.subplot(121)\n",
      "            ax1.boxplot(minima, positions=range(days), notch=False)\n",
      "            ax1.plot(range(days), standby_per_day, 'rD', ms=10, label=hp.get_flukso_from_sensor(df.columns[0]))\n",
      "            ax1.grid()\n",
      "            ax1.set_ylabel('W')\n",
      "            plt.legend()\n",
      "            \n",
      "            ax2=plt.subplot(122)\n",
      "            try:\n",
      "                ax2.plot_date(df_night[sensor][-1].index, df_night[sensor][-1].values, 'b-')\n",
      "            except:\n",
      "                pass"
     ],
     "language": "python",
     "metadata": {},
     "outputs": []
    },
    {
     "cell_type": "code",
     "collapsed": false,
     "input": [
      "def benchmark_standby(df, minima, hp):\n",
      "    \"\"\"\n",
      "    Benchmark plot of the minimum of ts compared to a list of minima\n",
      "           \n",
      "    \"\"\"\n",
      "    \n",
      "    plt.figure(figsize=(10,5))\n",
      "    ax1=plt.subplot(121)\n",
      "    ax1.boxplot(minima, notch=False)\n",
      "    ax1.grid()\n",
      "    ax1.set_ylabel('W')\n",
      "    ax1.plot(1,df.values.min(), 'rD', ms=10, label=hp.get_flukso_from_sensor(df.columns[0]))\n",
      "    plt.legend()\n",
      "    \n",
      "    ax2=plt.subplot(122)\n",
      "    ax2.plot_date(df.index, df.values, 'b-')"
     ],
     "language": "python",
     "metadata": {},
     "outputs": []
    },
    {
     "cell_type": "markdown",
     "metadata": {},
     "source": [
      "### Results \n",
      "\n",
      "The next plots are the current benchmarks, anonymous. The left figure shows where the given family is situated compared to all other families.  The right plot shows the night-time consumption for this night. \n",
      "\n",
      "In a next step, it would be nice to:\n",
      "* show on the left side the benchmarks *for the last 7 days*\n",
      "* create an interactive plot (D3.js?) for the right side: it should show the night-time consumption **for the day over which the mouse hovers in the left graph**.  Wouldn't that be useful (and cool...)?"
     ]
    },
    {
     "cell_type": "code",
     "collapsed": false,
     "input": [
      "for df in dfnight:\n",
      "    benchmark_standby(df, minima, hp)"
     ],
     "language": "python",
     "metadata": {},
     "outputs": []
    },
    {
     "cell_type": "code",
     "collapsed": false,
     "input": [
      "benchmark_standby_multiple_days(dataframes, hp, days=2)"
     ],
     "language": "python",
     "metadata": {},
     "outputs": []
    },
    {
     "cell_type": "code",
     "collapsed": false,
     "input": [],
     "language": "python",
     "metadata": {},
     "outputs": []
    }
   ],
   "metadata": {}
  }
 ]
}