{
 "metadata": {
  "name": "",
  "signature": "sha256:5e9163ae904a9644387b97cdc4d87c9508e70eb0d15339d7223e8f4d18cce84c"
 },
 "nbformat": 3,
 "nbformat_minor": 0,
 "worksheets": [
  {
   "cells": [
    {
     "cell_type": "markdown",
     "metadata": {},
     "source": [
      "### This script shows how to use the existing code in opengrid to create a baseload electricity consumption benchmark. "
     ]
    },
    {
     "cell_type": "code",
     "collapsed": false,
     "input": [
      "import os, sys\n",
      "import inspect\n",
      "import numpy as np\n",
      "import matplotlib.pyplot as plt\n",
      "from matplotlib.dates import HourLocator, DateFormatter, AutoDateLocator\n",
      "import datetime as dt\n",
      "import time\n",
      "import pytz\n",
      "import pandas as pd\n",
      "import pdb\n",
      "\n",
      "script_dir = os.path.dirname(os.path.abspath(inspect.getfile(inspect.currentframe())))\n",
      "# add the path to opengrid to sys.path\n",
      "sys.path.append(os.path.join(script_dir, os.pardir, os.pardir))\n",
      "from opengrid.library import houseprint\n",
      "from opengrid.library import fluksoapi\n",
      "from opengrid.library import config\n",
      "c=config.Config()\n",
      "\n",
      "# find tmpo\n",
      "sys.path.append(c.get('tmpo', 'folder'))\n",
      "import tmpo\n",
      "\n",
      "%matplotlib inline\n",
      "plt.rcParams['figure.figsize'] = 12,8\n"
     ],
     "language": "python",
     "metadata": {},
     "outputs": []
    },
    {
     "cell_type": "markdown",
     "metadata": {},
     "source": [
      "### Script settings"
     ]
    },
    {
     "cell_type": "code",
     "collapsed": false,
     "input": [
      "path_to_data = c.get('data', 'folder')\n",
      "if not os.path.exists(path_to_data):\n",
      "    raise IOError(\"Provide your path to the data in your config.ini file.  This is a folder containing a 'zip' and 'csv' subfolder.\")\n",
      "else:\n",
      "    path_to_csv = os.path.join(path_to_data, 'csv')"
     ],
     "language": "python",
     "metadata": {},
     "outputs": []
    },
    {
     "cell_type": "markdown",
     "metadata": {},
     "source": [
      "### We create one big dataframe, the columns are the sensors of type *electricity*"
     ]
    },
    {
     "cell_type": "code",
     "collapsed": false,
     "input": [
      "hp = houseprint.load_houseprint_from_file('hp_anonymous.pkl')"
     ],
     "language": "python",
     "metadata": {},
     "outputs": []
    },
    {
     "cell_type": "code",
     "collapsed": false,
     "input": [
      "start = pd.Timestamp(time.time() - 10*86400, unit='s')\n",
      "print start"
     ],
     "language": "python",
     "metadata": {},
     "outputs": []
    },
    {
     "cell_type": "code",
     "collapsed": false,
     "input": [
      "dataframes = []\n",
      "sensors = hp.get_sensors_by_type('electricity')\n",
      "for sensor in sensors:\n",
      "    dataframes.append(fluksoapi.load_csv(fluksoapi.find_csv(path_to_csv, sensor)))\n",
      "\n",
      "print('{} Sensors for electricity loaded'.format(len(dataframes)))\n",
      "\n",
      "df = dataframes[0].join(dataframes[1:], how='outer')\n",
      "# convert the dataframe to LOCAL TIME (BRUSSELS)\n",
      "df.index = df.index.tz_convert(pytz.timezone('Europe/Brussels'))\n",
      "# remove the data of 3E because it biases the whole boxplots\n",
      "df.drop('565de0a7dc64d8370aa321491217b85f', axis=1, inplace=True)\n",
      "print \"Size of dataframe before slicing: {}\".format(df.shape)\n",
      "df = df.ix[start:]\n",
      "print \"Size of dataframe after slicing: {}\".format(df.shape)\n"
     ],
     "language": "python",
     "metadata": {},
     "outputs": []
    },
    {
     "cell_type": "markdown",
     "metadata": {},
     "source": [
      "### Same thing, the tmpo way (only loading last 7 days)"
     ]
    },
    {
     "cell_type": "code",
     "collapsed": false,
     "input": [
      "tmpos = tmpo.Session()\n",
      "sensors = hp.get_sensors_by_type('electricity')\n",
      "dfcum = fluksoapi.load_tmpo(tmpos, sensors, start=start)\n",
      "print \"Size of dataframe before resampling: {}\".format(dfcum.shape)\n",
      "dfi = dfcum.resample(rule='60s', how='max')\n",
      "dfi = dfi.interpolate(method='time')\n",
      "dfi=dfi.diff()*3600/60\n",
      "print \"Size of dataframe after resampling: {}\".format(dfi.shape)\n"
     ],
     "language": "python",
     "metadata": {},
     "outputs": []
    },
    {
     "cell_type": "code",
     "collapsed": false,
     "input": [
      "# plot a few dataframes to inspect them\n",
      "for sensor in sensors[:5]:\n",
      "    if sensor in df.columns and sensor in dfi.columns:\n",
      "        plt.figure()\n",
      "        plt.subplot(121)\n",
      "        df[sensor].plot()\n",
      "        plt.subplot(122)\n",
      "        dfi[sensor].plot()"
     ],
     "language": "python",
     "metadata": {},
     "outputs": []
    },
    {
     "cell_type": "markdown",
     "metadata": {},
     "source": [
      "We define two low-level functions "
     ]
    },
    {
     "cell_type": "code",
     "collapsed": false,
     "input": [
      "def testvalid(row):\n",
      "    return row['maxima'] > 0 and row['maxima'] <> row['minima']"
     ],
     "language": "python",
     "metadata": {},
     "outputs": []
    },
    {
     "cell_type": "code",
     "collapsed": false,
     "input": [
      "def get_minima(sensor):\n",
      "    \"\"\"\n",
      "    Get the standby consumption for the covered days as an array.  \n",
      "    Take care of days where this sensor has NO VALID stanby consumption\n",
      "    \"\"\"\n",
      "    \n",
      "    global minima\n",
      "    \n",
      "    res = np.ndarray(len(minima))\n",
      "    for i,df in enumerate(minima):\n",
      "        try: \n",
      "            res[i] = df[sensor]\n",
      "        except:\n",
      "            res[i] = np.nan\n",
      "            \n",
      "    return res"
     ],
     "language": "python",
     "metadata": {},
     "outputs": []
    },
    {
     "cell_type": "markdown",
     "metadata": {},
     "source": [
      "## Data handling\n",
      "\n",
      "We have to filter out the data, we do three things:\n",
      "\n",
      "1. split the data in dataframes per day \n",
      "2. filter out the night-time hours (between 00h00 and 05h00)\n",
      "3. we check if the resulting time series contain enough variation (negatives and constant signals are filtered out)"
     ]
    },
    {
     "cell_type": "code",
     "collapsed": false,
     "input": [
      "index_slices = [] # will contain the correct index slices for each of the analysed nights\n",
      "minima = [] # each element in minima is a dataframe with standby consumption per valid sensor\n",
      "valid_sensors = set() # we keep track of all sensors that yield a valid standby consumption for at least one day.\n",
      "days = 7\n",
      "\n",
      "# find the date for which we still have the full night (between 01:00 and 05:00).  We will store it as datetime at 00:00 (local time)\n",
      "hour = df.index[-1].hour # the hour of the last index.  \n",
      "if hour >= 5:\n",
      "    last_day = df.index[-1] - dt.timedelta(hours=hour)\n",
      "else:\n",
      "    last_day = df.index[-1] - dt.timedelta(days=1, hours=hour)\n",
      "\n",
      "for day in range(days)[::-1]:\n",
      "    #pdb.set_trace()\n",
      "    dt_start = last_day - dt.timedelta(days=day) + dt.timedelta(hours=1) # start slicing at 01:00 local time\n",
      "    dt_stop = last_day - dt.timedelta(days=day) + dt.timedelta(hours=5) # stop slicing at 05:00 local time\n",
      "       \n",
      "    df_night = df.ix[dt_start:dt_stop] # contains only data for a single night\n",
      "    index_slices.append(df_night.index.copy())\n",
      "        \n",
      "    df_results = pd.DataFrame(index=df.columns)  #df_results contains the results of the analysis for a single night.  Index = sensorid\n",
      "    df_results['minima'] = df_night.min(axis=0)\n",
      "    df_results['maxima'] = df_night.max(axis=0)\n",
      "    df_results['valid'] = df_results.apply(testvalid, axis=1)\n",
      "    \n",
      "    minima.append(df_results['minima'].ix[df_results.valid])\n",
      "    valid_sensors.update(set(minima[-1].index.tolist()))\n",
      "  "
     ],
     "language": "python",
     "metadata": {},
     "outputs": []
    },
    {
     "cell_type": "markdown",
     "metadata": {},
     "source": [
      "## Plots\n",
      "\n",
      "The next plots are the current benchmarks, anonymous. The left figure shows where the given sensor (or family) is situated compared to all other families.  The right plot shows the night-time consumption for this night. \n",
      "\n",
      "In a next step, it would be nice to create an interactive plot (D3.js?) for the right side: it should show the night-time consumption **for the day over which the mouse hovers in the left graph**.  "
     ]
    },
    {
     "cell_type": "code",
     "collapsed": false,
     "input": [
      "try:\n",
      "    valid_sensors.remove('565de0a7dc64d8370aa321491217b85f') # the FLM of 3E does not fit in household standby benchmark\n",
      "except:\n",
      "    pass\n",
      "\n",
      "for sensor in valid_sensors:\n",
      "    plt.figure(figsize=(10,5))\n",
      "    ax1=plt.subplot(121)\n",
      "    box = [x.values for x in minima]\n",
      "    ax1.boxplot(box, positions=range(days), notch=False)\n",
      "    ax1.plot(range(days), get_minima(sensor), 'rD', ms=10, label=hp.get_flukso_from_sensor(sensor))\n",
      "    xticks = [x[0].strftime(format='%d/%m') for x in index_slices]\n",
      "    plt.xticks(range(days), xticks, rotation='vertical')\n",
      "    ax1.grid()\n",
      "    ax1.set_ylabel('W')\n",
      "    plt.legend()\n",
      "    #ax1.set_xticklabels([t.strftime(format='%d/%m') for t in df_all_perday.index.tolist()])\n",
      "\n",
      "    ax2=plt.subplot(122)\n",
      "    try:\n",
      "        ax2.plot_date(index_slices[-1], df.ix[index_slices[-1]][sensor], 'b-')\n",
      "        # rotate the labels\n",
      "        plt.xticks(rotation='vertical')\n",
      "    except:\n",
      "        pass\n",
      "    \n",
      "    plt.savefig(os.path.join(path_to_data, 'figures', hp.get_flukso_from_sensor(sensor)+'png'), dpi=100)"
     ],
     "language": "python",
     "metadata": {},
     "outputs": []
    },
    {
     "cell_type": "markdown",
     "metadata": {},
     "source": [
      "The stuff below were some experiments from the developer meeting on 10/10/2014"
     ]
    },
    {
     "cell_type": "code",
     "collapsed": false,
     "input": [
      "hp.fluksosensors['FL03001556']"
     ],
     "language": "python",
     "metadata": {},
     "outputs": []
    },
    {
     "cell_type": "code",
     "collapsed": false,
     "input": [
      "plt.rcParams['figure.figsize'] = 12,8\n",
      "\n",
      "ts=df.ix[index_slices[-1]]['1a1dac9c2ac155f95c58bf1d4f4b7d01'].copy()\n",
      "ts.hist(bins=np.arange(0, 1000, 10))\n"
     ],
     "language": "python",
     "metadata": {},
     "outputs": []
    },
    {
     "cell_type": "code",
     "collapsed": false,
     "input": [
      "plt.plot(np.sort(ts.values)[::-1])\n",
      "y,x = np.histogram(ts.values, bins=np.arange(0, 1000, 10))\n",
      "#plt.plot(x,y)"
     ],
     "language": "python",
     "metadata": {},
     "outputs": []
    },
    {
     "cell_type": "code",
     "collapsed": false,
     "input": [
      "hp.fluksosensors['FL02000678']"
     ],
     "language": "python",
     "metadata": {},
     "outputs": []
    },
    {
     "cell_type": "code",
     "collapsed": false,
     "input": [
      "df['c1a78eacaa6a82d3257a278d3e99088a'].ix['20141007':].plot()"
     ],
     "language": "python",
     "metadata": {},
     "outputs": []
    },
    {
     "cell_type": "code",
     "collapsed": false,
     "input": [
      "df.index[-5:]"
     ],
     "language": "python",
     "metadata": {},
     "outputs": []
    },
    {
     "cell_type": "code",
     "collapsed": false,
     "input": [
      "ind = df.index.tz_convert(pytz.timezone('Europe/Brussels'))\n",
      "ind[-1].date() - dt.timedelta(days=10)"
     ],
     "language": "python",
     "metadata": {},
     "outputs": []
    },
    {
     "cell_type": "code",
     "collapsed": false,
     "input": [
      "valid_sensors"
     ],
     "language": "python",
     "metadata": {},
     "outputs": []
    },
    {
     "cell_type": "code",
     "collapsed": false,
     "input": [
      "hp.get_all_sensors()"
     ],
     "language": "python",
     "metadata": {},
     "outputs": []
    },
    {
     "cell_type": "code",
     "collapsed": false,
     "input": [
      "hp.get_all_fluksosensors()['FL03001550']"
     ],
     "language": "python",
     "metadata": {},
     "outputs": []
    },
    {
     "cell_type": "code",
     "collapsed": false,
     "input": [],
     "language": "python",
     "metadata": {},
     "outputs": []
    }
   ],
   "metadata": {}
  }
 ]
}