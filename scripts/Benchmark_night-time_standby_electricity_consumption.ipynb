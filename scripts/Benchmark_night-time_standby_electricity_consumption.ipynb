{
 "metadata": {
  "name": "",
  "signature": "sha256:89faef0a2be5befdbf9a359d66b8768ec525f5d980f99e1a38d4863a0ebead0a"
 },
 "nbformat": 3,
 "nbformat_minor": 0,
 "worksheets": [
  {
   "cells": [
    {
     "cell_type": "markdown",
     "metadata": {},
     "source": [
      "### This script shows how to use the existing code in opengrid to create a baseload electricity consumption benchmark. "
     ]
    },
    {
     "cell_type": "code",
     "collapsed": false,
     "input": [
      "import os, sys\n",
      "import inspect\n",
      "import numpy as np\n",
      "import matplotlib.pyplot as plt\n",
      "from matplotlib.dates import HourLocator, DateFormatter, AutoDateLocator\n",
      "import datetime as dt\n",
      "import pytz\n",
      "import pandas as pd\n",
      "import pdb\n",
      "\n",
      "script_dir = os.path.dirname(os.path.abspath(inspect.getfile(inspect.currentframe())))\n",
      "# add the path to opengrid to sys.path\n",
      "sys.path.append(os.path.join(script_dir, os.pardir, os.pardir))\n",
      "from opengrid.library import houseprint\n",
      "from opengrid.library import fluksoapi\n",
      "\n",
      "%matplotlib inline"
     ],
     "language": "python",
     "metadata": {},
     "outputs": []
    },
    {
     "cell_type": "markdown",
     "metadata": {},
     "source": [
      "### Script settings"
     ]
    },
    {
     "cell_type": "code",
     "collapsed": false,
     "input": [
      "path_to_data = '/home/roel/data/work/opengrid/data'\n",
      "if not os.path.exists(path_to_data):\n",
      "    raise IOError(\"Provide your path to the data.  This is a folder containing a 'zip' and 'csv' subfolder.\")\n",
      "else:\n",
      "    path_to_csv = os.path.join(path_to_data, 'csv')"
     ],
     "language": "python",
     "metadata": {},
     "outputs": []
    },
    {
     "cell_type": "markdown",
     "metadata": {},
     "source": [
      "### Some functions, if generic enough they should be moved to the api codebase"
     ]
    },
    {
     "cell_type": "markdown",
     "metadata": {},
     "source": [
      "### We create one big dataframe, the columns are the sensors of type *electricity*"
     ]
    },
    {
     "cell_type": "code",
     "collapsed": false,
     "input": [
      "hp = houseprint.load_houseprint_from_file('hp_anonymous.pkl')"
     ],
     "language": "python",
     "metadata": {},
     "outputs": []
    },
    {
     "cell_type": "code",
     "collapsed": false,
     "input": [
      "dataframes = []\n",
      "sensors = hp.get_sensors_by_type('electricity')\n",
      "for sensor in sensors:\n",
      "    dataframes.append(fluksoapi.load_csv(fluksoapi.find_csv(path_to_csv, sensor)))\n",
      "\n",
      "print('{} Sensors for electricity loaded'.format(len(dataframes)))\n",
      "\n",
      "df = dataframes[0].join(dataframes[1:], how='outer')\n",
      "# convert the dataframe to LOCAL TIME (BRUSSELS)\n",
      "df.index = df.index.tz_convert(pytz.timezone('Europe/Brussels'))"
     ],
     "language": "python",
     "metadata": {},
     "outputs": []
    },
    {
     "cell_type": "code",
     "collapsed": false,
     "input": [
      "# plot a few dataframes to inspect them\n",
      "for sensor in sensors[:5]:\n",
      "    plt.figure()\n",
      "    df[sensor].plot()"
     ],
     "language": "python",
     "metadata": {},
     "outputs": []
    },
    {
     "cell_type": "markdown",
     "metadata": {},
     "source": [
      "We define two low-level functions "
     ]
    },
    {
     "cell_type": "code",
     "collapsed": false,
     "input": [
      "def testvalid(row):\n",
      "    return row['maxima'] > 0 and row['maxima'] <> row['minima']"
     ],
     "language": "python",
     "metadata": {},
     "outputs": []
    },
    {
     "cell_type": "code",
     "collapsed": false,
     "input": [
      "def get_minima(sensor):\n",
      "    \"\"\"\n",
      "    Get the standby consumption for the covered days as an array.  \n",
      "    Take care of days where this sensor has NO VALID stanby consumption\n",
      "    \"\"\"\n",
      "    \n",
      "    global minima\n",
      "    \n",
      "    res = np.ndarray(len(minima))\n",
      "    for i,df in enumerate(minima):\n",
      "        try: \n",
      "            res[i] = df[sensor]\n",
      "        except:\n",
      "            res[i] = np.nan\n",
      "            \n",
      "    return res"
     ],
     "language": "python",
     "metadata": {},
     "outputs": []
    },
    {
     "cell_type": "markdown",
     "metadata": {},
     "source": [
      "## Data handling\n",
      "\n",
      "We have to filter out the data, we do three things:\n",
      "\n",
      "1. split the data in dataframes per day \n",
      "2. filter out the night-time hours (between 00h00 and 05h00)\n",
      "3. we check if the resulting time series contain enough variation (negatives and constant signals are filtered out)"
     ]
    },
    {
     "cell_type": "code",
     "collapsed": false,
     "input": [
      "index_slices = [] # will contain the correct index slices for each of the analysed nights\n",
      "minima = [] # each element in minima is a dataframe with standby consumption per valid sensor\n",
      "valid_sensors = set() # we keep track of all sensors that yield a valid standby consumption for at least one day.\n",
      "days = 7\n",
      "\n",
      "# find the date for which we still have the full night (between 01:00 and 05:00).  We will store it as datetime at 00:00 (local time)\n",
      "hour = df.index[-1].hour # the hour of the last index.  \n",
      "if hour >= 5:\n",
      "    last_day = df.index[-1] - dt.timedelta(hours=hour)\n",
      "else:\n",
      "    last_day = df.index[-1] - dt.timedelta(days=1, hours=hour)\n",
      "\n",
      "for day in range(days)[::-1]:\n",
      "    #pdb.set_trace()\n",
      "    dt_start = last_day - dt.timedelta(days=day) + dt.timedelta(hours=1) # start slicing at 01:00 local time\n",
      "    dt_stop = last_day - dt.timedelta(days=day) + dt.timedelta(hours=5) # stop slicing at 05:00 local time\n",
      "       \n",
      "    df_night = df.ix[dt_start:dt_stop] # contains only data for a single night\n",
      "    index_slices.append(df_night.index.copy())\n",
      "        \n",
      "    df_results = pd.DataFrame(index=df.columns)  #df_results contains the results of the analysis for a single night.  Index = sensorid\n",
      "    df_results['minima'] = df_night.min(axis=0)\n",
      "    df_results['maxima'] = df_night.max(axis=0)\n",
      "    df_results['valid'] = df_results.apply(testvalid, axis=1)\n",
      "    \n",
      "    minima.append(df_results['minima'].ix[df_results.valid])\n",
      "    valid_sensors.update(set(minima[-1].index.tolist()))\n",
      "  "
     ],
     "language": "python",
     "metadata": {},
     "outputs": []
    },
    {
     "cell_type": "markdown",
     "metadata": {},
     "source": [
      "## Plots\n",
      "\n",
      "The next plots are the current benchmarks, anonymous. The left figure shows where the given sensor (or family) is situated compared to all other families.  The right plot shows the night-time consumption for this night. \n",
      "\n",
      "In a next step, it would be nice to create an interactive plot (D3.js?) for the right side: it should show the night-time consumption **for the day over which the mouse hovers in the left graph**.  "
     ]
    },
    {
     "cell_type": "code",
     "collapsed": false,
     "input": [
      "for sensor in valid_sensors:\n",
      "    plt.figure(figsize=(10,5))\n",
      "    ax1=plt.subplot(121)\n",
      "    box = [x.values for x in minima]\n",
      "    ax1.boxplot(box, positions=range(days), notch=False)\n",
      "    ax1.plot(range(days), get_minima(sensor), 'rD', ms=10, label=hp.get_flukso_from_sensor(sensor))\n",
      "    xticks = [x[0].strftime(format='%d/%m') for x in index_slices]\n",
      "    plt.xticks(range(days), xticks, rotation='vertical')\n",
      "    ax1.grid()\n",
      "    ax1.set_ylabel('W')\n",
      "    plt.legend()\n",
      "    #ax1.set_xticklabels([t.strftime(format='%d/%m') for t in df_all_perday.index.tolist()])\n",
      "\n",
      "    ax2=plt.subplot(122)\n",
      "    try:\n",
      "        ax2.plot_date(index_slices[-1], df.ix[index_slices[-1]][sensor], 'b-')\n",
      "        # rotate the labels\n",
      "        plt.xticks(rotation='vertical')\n",
      "    except:\n",
      "        pass"
     ],
     "language": "python",
     "metadata": {},
     "outputs": []
    },
    {
     "cell_type": "code",
     "collapsed": false,
     "input": [
      "hp.fluksosensors['FL02000678']"
     ],
     "language": "python",
     "metadata": {},
     "outputs": []
    },
    {
     "cell_type": "code",
     "collapsed": false,
     "input": [
      "%matplotlib qt\n",
      "df['c1a78eacaa6a82d3257a278d3e99088a'].ix['20141007':].plot()"
     ],
     "language": "python",
     "metadata": {},
     "outputs": []
    },
    {
     "cell_type": "code",
     "collapsed": false,
     "input": [
      "df.index[-5:]"
     ],
     "language": "python",
     "metadata": {},
     "outputs": []
    },
    {
     "cell_type": "code",
     "collapsed": false,
     "input": [
      "ind = df.index.tz_convert(pytz.timezone('Europe/Brussels'))\n",
      "ind[-1].date() - dt.timedelta(days=10)"
     ],
     "language": "python",
     "metadata": {},
     "outputs": []
    },
    {
     "cell_type": "code",
     "collapsed": false,
     "input": [],
     "language": "python",
     "metadata": {},
     "outputs": []
    },
    {
     "cell_type": "markdown",
     "metadata": {},
     "source": [
      "## Old code, not used\n",
      "\n",
      "This code below belongs to the first implementation of this script.  It has exactly the same functionality, but I think the implementation above is easier to understand and more scriptable into new applications."
     ]
    },
    {
     "cell_type": "code",
     "collapsed": false,
     "input": [
      "def load_duration(list_of_df):\n",
      "    \"\"\"\n",
      "    Make a simple plot with load duration curves for all dataframes in list_df.\n",
      "    \"\"\"\n",
      "    \n",
      "\n",
      "    fig = plt.figure()\n",
      "    ax = plt.subplot(111)    \n",
      "    \n",
      "    for df in list_of_df:\n",
      "        arr = df.values\n",
      "        arr = arr.reshape(arr.size,)\n",
      "        ax.plot(np.sort(arr), label = hp.get_flukso_from_sensor(df.columns[0]))\n",
      "        \n",
      "    plt.legend()\n",
      "    \n",
      "    return fig, ax\n",
      "\n",
      "\n",
      "def select_night(df):\n",
      "    \"\"\"\n",
      "    Return a DataFrame containing only the hours between 00h00 and 05h00\n",
      "    \n",
      "    Parameters\n",
      "    ----------\n",
      "    * df : pandas DataFrame\n",
      "    \"\"\"\n",
      "    \n",
      "    dfnight = df.ix[df.index.hour >= np.zeros(len(df))]\n",
      "    dfnight = dfnight.ix[dfnight.index.hour < 5*np.ones(len(dfnight))]\n",
      "        \n",
      "    return dfnight\n",
      "\n",
      "\n",
      "def select_day(df, dt_day):\n",
      "    \"\"\"\n",
      "    Return a DataFrame containing only data for the given day\n",
      "    \n",
      "    Parameters\n",
      "    ----------\n",
      "    * df : pandas DataFrame\n",
      "    * dt_day : datetime \n",
      "    \n",
      "    Returns\n",
      "    -------\n",
      "    pandas DataFrame\n",
      "    \"\"\"\n",
      "    \n",
      "    return df.ix[dt_day.strftime(format='%Y%m%d')]\n",
      "\n",
      "\n",
      "def test_valid(df):\n",
      "    \"\"\"\n",
      "    Test if a DataFrame contains useful data:\n",
      "    - max value should be larger than 0\n",
      "    - min and max have to be different\n",
      "    \"\"\"\n",
      "    try:\n",
      "        max_ = df.values.max()\n",
      "        return max_ > 0 and df.values.min() <> max_\n",
      "    except:\n",
      "        return False  "
     ],
     "language": "python",
     "metadata": {},
     "outputs": []
    },
    {
     "cell_type": "code",
     "collapsed": false,
     "input": [
      "def benchmark_standby_multiple_days(dataframes, hp, days=5):\n",
      "    \"\"\"\n",
      "    Benchmark plot of the standby electricity consumption for multiple days\n",
      "    \n",
      "    Parameters\n",
      "    ----------\n",
      "    * dataframes : list with pandas DataFrames\n",
      "      One dataframe per sensor\n",
      "    * hp : Houseprint object\n",
      "    * days : int\n",
      "      Number of days (or nights) to analyse\n",
      "    \n",
      "    Notes\n",
      "    -----\n",
      "    Will create a plot per remaining df in dataframes after filtering and validation of the data\n",
      "    \"\"\"\n",
      "    \n",
      "    def only_nan(l):\n",
      "        \"\"\"\n",
      "        Return True if l contains only NaN\n",
      "        \"\"\"\n",
      "        \n",
      "        for i in l:\n",
      "            if not np.isnan(i):\n",
      "                return False\n",
      "        return True\n",
      "    \n",
      "    # We have to avoid doing the same operations multiple times. As the boxplots are identical for each of the sensors, \n",
      "    # we should create this data only once. \n",
      "    \n",
      "    minima = [] # will be a list with arrays of the standby consumptions, one array per day\n",
      "    P_standby = {} # will be a dict with sensor id as key and a list with standby consumptions for this sensor as value.  \n",
      "                   # The list contains a value (or NaN) per day\n",
      "    df_night = {}\n",
      "    for df in dataframes:\n",
      "        P_standby[df.columns[0]] = []\n",
      "        df_night[df.columns[0]] = []\n",
      "    \n",
      "    \n",
      "    #pdb.set_trace()\n",
      "    for day in range(1,days+1)[::-1]:\n",
      "        # First, select only data from this day, and then only the night\n",
      "        select_this_day = lambda x: select_day(x, dt.datetime.now() - dt.timedelta(days=day))\n",
      "        dfnight = map(select_night, map(select_this_day, dataframes))\n",
      "        dfnight = filter(test_valid, dfnight)\n",
      "        # dfnight is a list with dataframes containing only nighttime data for one single day\n",
      "        minima.append(np.array([x.values.min() for x in dfnight]))\n",
      "        sensors = P_standby.keys()\n",
      "        for df in dfnight:\n",
      "            sensor = df.columns[0]\n",
      "            P_standby[sensor].append(df.values.min())\n",
      "            df_night[sensor].append(df)\n",
      "            sensors.remove(sensor)\n",
      "        for sensor in sensors:\n",
      "            # these sensors had no valid data for this given day\n",
      "            P_standby[sensor].append(np.NAN)\n",
      "            df_night[sensor].append(pd.DataFrame())\n",
      "    \n",
      "    # make the graph\n",
      "    for sensor, standby_per_day in P_standby.iteritems():\n",
      "        if not only_nan(standby_per_day):\n",
      "            plt.figure(figsize=(10,5))\n",
      "            ax1=plt.subplot(121)\n",
      "            ax1.boxplot(minima, positions=range(days), notch=False)\n",
      "            ax1.plot(range(days), standby_per_day, 'rD', ms=10, label=hp.get_flukso_from_sensor(sensor))\n",
      "            ax1.grid()\n",
      "            ax1.set_ylabel('W')\n",
      "            plt.legend()\n",
      "            #ax1.set_xticklabels([t.strftime(format='%d/%m') for t in df_all_perday.index.tolist()])\n",
      "            \n",
      "            ax2=plt.subplot(122)\n",
      "            try:\n",
      "                # This part does not work anymore.  To be debugged.\n",
      "                ax2.plot_date(df_night[sensor][-1].index, df_night[sensor][-1].values, 'b-')\n",
      "                # nicely formatted hours on the right graph\n",
      "                hourly = HourLocator(byhour=range(24))\n",
      "                hourformat = DateFormatter('%H')\n",
      "\n",
      "                ax2.xaxis.set_major_locator(hourly)\n",
      "                ax2.xaxis.set_major_formatter(hourformat)\n",
      "                #ax2.xaxis.set_minor_locator(hourly)\n",
      "            except:\n",
      "                pass"
     ],
     "language": "python",
     "metadata": {},
     "outputs": []
    },
    {
     "cell_type": "markdown",
     "metadata": {},
     "source": [
      "### Results \n",
      "\n",
      "The next plots are the current benchmarks, anonymous. The left figure shows where the given family is situated compared to all other families.  The right plot shows the night-time consumption for this night. \n",
      "\n",
      "In a next step, it would be nice to:\n",
      "* show on the left side the benchmarks *for the last 7 days*\n",
      "* create an interactive plot (D3.js?) for the right side: it should show the night-time consumption **for the day over which the mouse hovers in the left graph**.  "
     ]
    },
    {
     "cell_type": "code",
     "collapsed": false,
     "input": [
      "benchmark_standby_multiple_days(dataframes, hp, days=1)"
     ],
     "language": "python",
     "metadata": {},
     "outputs": []
    }
   ],
   "metadata": {}
  }
 ]
}