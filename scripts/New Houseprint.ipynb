{
 "metadata": {
  "name": "",
  "signature": "sha256:b77388f827be30c00a2fc5a4ed4f4bc738b19b962f3770260df97449b57aeea0"
 },
 "nbformat": 3,
 "nbformat_minor": 0,
 "worksheets": [
  {
   "cells": [
    {
     "cell_type": "heading",
     "level": 1,
     "metadata": {},
     "source": [
      "Class definitions"
     ]
    },
    {
     "cell_type": "heading",
     "level": 2,
     "metadata": {},
     "source": [
      "Houseprint Singleton"
     ]
    },
    {
     "cell_type": "markdown",
     "metadata": {},
     "source": [
      "The Houseprint is a Singleton object which contains all metadata for sites, devices and sensors. It can be pickled, saved and passed around"
     ]
    },
    {
     "cell_type": "code",
     "collapsed": false,
     "input": [
      "class Houseprint(object):\n",
      "    def __init__(self, spreadsheet = \"Opengrid houseprint (Responses)\"):\n",
      "        \"\"\"\n",
      "            The Init method connects to the Google spreadsheet and parses the data into the OO structure.\n",
      "        \"\"\"\n",
      "        \n",
      "        \"\"\"\n",
      "            TODO: Google spreadsheet parsing\n",
      "        \"\"\"\n",
      "        \n",
      "        self.sites = []\n",
      "        self.timestamp = None #Add a timestamp upon creation, so the server can check how old the houseprint info is and decide to request a new one.\n",
      "    \n",
      "    def get_sensors(self, sensortype = None):\n",
      "        \"\"\"\n",
      "            Return a list with all sensors\n",
      "            \n",
      "            Parameters\n",
      "            ----------\n",
      "            sensortype: gas, water, electricity: optional\n",
      "        \"\"\"\n",
      "        return [site.get_sensors(sensortype = sensortype) for site in self.sites]\n",
      "    \n",
      "    def get_devices(self):\n",
      "        \"\"\"\n",
      "            Return a list with all devices\n",
      "        \"\"\"\n",
      "        return [site.devices for site in self.sites]\n",
      "    \n",
      "    def save(self):\n",
      "        \"\"\"\n",
      "        Pickle the houseprint object\n",
      "        \n",
      "        Parameters\n",
      "        ----------\n",
      "        * filename : str\n",
      "            Filename, if relative path or just filename, it is appended to the\n",
      "            current working directory\n",
      "        \n",
      "        \"\"\"\n",
      "\n",
      "        abspath = os.path.join(os.getcwd(), filename)\n",
      "        f=file(abspath, 'w')\n",
      "        pickle.dump(self, f)\n",
      "        f.close()\n",
      "        \n",
      "        print(\"Saved houseprint to {}\".format(abspath))"
     ],
     "language": "python",
     "metadata": {},
     "outputs": [],
     "prompt_number": 5
    },
    {
     "cell_type": "heading",
     "level": 2,
     "metadata": {},
     "source": [
      "Site"
     ]
    },
    {
     "cell_type": "markdown",
     "metadata": {},
     "source": [
      "A Site is a physical entity (a house, appartment, school, or other building). It may contain multiple devices and sensors.\n",
      "\n",
      "The Site contains most of the metadata, eg. the number of inhabitants, the size of the building, the location etc."
     ]
    },
    {
     "cell_type": "code",
     "collapsed": false,
     "input": [
      "class Site(object):\n",
      "    def __init__(self, postcode = None, size = None, inhabitants = None):\n",
      "        self.postcode = postcode\n",
      "        self.size = size\n",
      "        self.inhabitants = inhabitants\n",
      "        \n",
      "        self.devices = []\n",
      "        self.sensors = []\n",
      "        \n",
      "    def get_sensors(self, sensortype = None):\n",
      "        \"\"\"\n",
      "            Return a list with all sensors\n",
      "            \n",
      "            Parameters\n",
      "            ----------\n",
      "            sensortype: gas, water, electricity: optional\n",
      "        \"\"\"\n",
      "        return [sensor for sensor in self.sensors if sensor.type == sensortype or sensortype is None]"
     ],
     "language": "python",
     "metadata": {},
     "outputs": [],
     "prompt_number": 6
    },
    {
     "cell_type": "heading",
     "level": 2,
     "metadata": {},
     "source": [
      "Device"
     ]
    },
    {
     "cell_type": "markdown",
     "metadata": {},
     "source": [
      "A Device is an entity that can contain multiple sensors.\n",
      "The generic Device class can be inherited by a specific device class, eg. Fluksometer"
     ]
    },
    {
     "cell_type": "code",
     "collapsed": false,
     "input": [
      "class Device(object):\n",
      "    def __init__(self, site):\n",
      "        self.site = site\n",
      "        self.sensors = []\n",
      "        \n",
      "    def get_sensors(self, sensortype = None):\n",
      "        \"\"\"\n",
      "            Return a list with all sensors\n",
      "            \n",
      "            Parameters\n",
      "            ----------\n",
      "            sensortype: gas, water, electricity: optional\n",
      "        \"\"\"\n",
      "        return [sensor for sensor in self.sensors if sensor.type == sensortype or sensortype is None]\n",
      "    \n",
      "    def get_data(self, sensortype = None, head = None, tail = None):\n",
      "        \"\"\"\n",
      "            Return a Pandas Dataframe with the joined data for all selected sensors\n",
      "            \n",
      "            Parameters\n",
      "            ----------\n",
      "            sensortype: gas, water, electricity: optional\n",
      "            head, tail: timestamps indicating start and end\n",
      "        \"\"\"\n",
      "        \n",
      "        #pseudocode\n",
      "        data = [sensor.get_data(head = head, tail = tail) for sensor in self.get_sensors(sensortype = sensortype)]\n",
      "        return pd.concat(data) #or something..."
     ],
     "language": "python",
     "metadata": {},
     "outputs": [],
     "prompt_number": 7
    },
    {
     "cell_type": "code",
     "collapsed": false,
     "input": [
      "class Fluksometer(Device):\n",
      "    def __init__(self, site, fluksoid, mastertoken = None):\n",
      "        \n",
      "        #invoke init method of generic Device\n",
      "        super(Fluksometer, self).__init__(site)\n",
      "        \n",
      "        self.fluksoid = fluksoid\n",
      "        self.mastertoken = mastertoken"
     ],
     "language": "python",
     "metadata": {},
     "outputs": [],
     "prompt_number": 8
    },
    {
     "cell_type": "heading",
     "level": 2,
     "metadata": {},
     "source": [
      "Sensor"
     ]
    },
    {
     "cell_type": "markdown",
     "metadata": {},
     "source": [
      "A sensor generates a single data stream. It can have a parent device, but the possibility is also left open for a sensor to stand alone in a site.\n",
      "It is an abstract class definition which has to be overridden (by eg. a Fluksosensor).\n",
      "\n",
      "This class contains all metadata concerning the function and type of the sensor (eg. electricity - solar, ...)"
     ]
    },
    {
     "cell_type": "code",
     "collapsed": false,
     "input": [
      "class Sensor(object):\n",
      "    def __init__(self, site, type, function, unit, parent = None):\n",
      "        self.site = site\n",
      "        self.type = type\n",
      "        self.function = function\n",
      "        self.parent = parent\n",
      "        self.unit = unit\n",
      "        \n",
      "    def get_data(self, head, tail):\n",
      "        \"\"\"\n",
      "            Return a Pandas Series with measurement data\n",
      "            \n",
      "            Parameters\n",
      "            ----------\n",
      "            head, tail: timestamps for the begin and end of the interval\n",
      "            \n",
      "            Notes\n",
      "            -----\n",
      "            This is an abstract method, because each type of sensor has a different way of fetching the data.\n",
      "        \"\"\"\n",
      "        \n",
      "        raise NotImplementedError(\"Subclass must implement abstract method\")"
     ],
     "language": "python",
     "metadata": {},
     "outputs": [],
     "prompt_number": 9
    },
    {
     "cell_type": "code",
     "collapsed": false,
     "input": [
      "class Fluksosensor(Sensor):\n",
      "    def __init__(self, sensorid, parent, type, function, unit, token = None):\n",
      "        \n",
      "        #invoke init method of abstract Sensor\n",
      "        super(Fluksosensor, self).__init__(site = parent.site,\n",
      "                                           type = type,\n",
      "                                           function = function,\n",
      "                                           unit = unit,\n",
      "                                           parent = parent)\n",
      "        \n",
      "        self.sensorid = sensorid\n",
      "        if token is not None:\n",
      "            self.token = token\n",
      "        else:\n",
      "            self.token = parent.mastertoken\n",
      "        \n",
      "    # @Override :-D    \n",
      "    def get_data(self, head, tail):\n",
      "        '''\n",
      "            TODO: connect to TMPO and fetch data\n",
      "        '''\n",
      "        data = tmpos.Series()\n",
      "        \n",
      "        return data"
     ],
     "language": "python",
     "metadata": {},
     "outputs": [],
     "prompt_number": 11
    },
    {
     "cell_type": "code",
     "collapsed": false,
     "input": [],
     "language": "python",
     "metadata": {},
     "outputs": []
    }
   ],
   "metadata": {}
  }
 ]
}