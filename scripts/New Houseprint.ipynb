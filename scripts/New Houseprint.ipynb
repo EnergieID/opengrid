{
 "cells": [
  {
   "cell_type": "markdown",
   "metadata": {},
   "source": [
    "#General Imports"
   ]
  },
  {
   "cell_type": "code",
   "execution_count": 1,
   "metadata": {
    "collapsed": true
   },
   "outputs": [],
   "source": [
    "import os, inspect, sys\n",
    "import pandas as pd"
   ]
  },
  {
   "cell_type": "code",
   "execution_count": 2,
   "metadata": {
    "collapsed": true
   },
   "outputs": [],
   "source": [
    "import matplotlib.pyplot as plt\n",
    "%matplotlib inline\n",
    "plt.rcParams['figure.figsize'] = 16,8"
   ]
  },
  {
   "cell_type": "code",
   "execution_count": 3,
   "metadata": {
    "collapsed": false
   },
   "outputs": [],
   "source": [
    "script_dir = os.path.dirname(os.path.abspath(inspect.getfile(inspect.currentframe())))\n",
    "sys.path.append(os.path.join(script_dir, os.pardir, os.pardir))"
   ]
  },
  {
   "cell_type": "code",
   "execution_count": 4,
   "metadata": {
    "collapsed": false
   },
   "outputs": [],
   "source": [
    "from opengrid.library import config\n",
    "c = config.Config()"
   ]
  },
  {
   "cell_type": "code",
   "execution_count": 5,
   "metadata": {
    "collapsed": false
   },
   "outputs": [],
   "source": [
    "sys.path.append(c.get('tmpo', 'folder'))\n",
    "\n",
    "try:\n",
    "    if os.path.exists(c.get('tmpo', 'data')):\n",
    "        path_to_tmpo_data = c.get('tmpo', 'data')\n",
    "except:\n",
    "    path_to_tmpo_data = None"
   ]
  },
  {
   "cell_type": "markdown",
   "metadata": {},
   "source": [
    "#Import Houseprint Modules"
   ]
  },
  {
   "cell_type": "code",
   "execution_count": 6,
   "metadata": {
    "collapsed": false
   },
   "outputs": [],
   "source": [
    "from opengrid.library.houseprint import houseprint"
   ]
  },
  {
   "cell_type": "markdown",
   "metadata": {},
   "source": [
    "#Test"
   ]
  },
  {
   "cell_type": "markdown",
   "metadata": {},
   "source": [
    "##Houseprint"
   ]
  },
  {
   "cell_type": "code",
   "execution_count": 7,
   "metadata": {
    "collapsed": false
   },
   "outputs": [
    {
     "name": "stdout",
     "output_type": "stream",
     "text": [
      "Opening connection to Houseprint sheet\n",
      "Opening spreadsheets\n",
      "Parsing spreadsheets\n",
      "22 Sites created\n",
      "22 Devices created\n",
      "72 sensors created\n",
      "Houseprint parsing complete\n"
     ]
    }
   ],
   "source": [
    "hp = houseprint.Houseprint(gjson = c.get('houseprint','json'))"
   ]
  },
  {
   "cell_type": "code",
   "execution_count": 8,
   "metadata": {
    "collapsed": false,
    "scrolled": true
   },
   "outputs": [
    {
     "data": {
      "text/plain": [
       "\n",
       "    Houseprint\n",
       "    Created on 2015-07-29 15:26:07.123156 (UTC)\n",
       "    22 sites\n",
       "    22 devices\n",
       "    72 sensors\n",
       "    "
      ]
     },
     "execution_count": 8,
     "metadata": {},
     "output_type": "execute_result"
    }
   ],
   "source": [
    "hp"
   ]
  },
  {
   "cell_type": "code",
   "execution_count": 9,
   "metadata": {
    "collapsed": false
   },
   "outputs": [
    {
     "data": {
      "text/plain": [
       "[\n",
       "     Site\n",
       "     Key: 1\n",
       "     1 devices\n",
       "     6 sensors\n",
       "     , \n",
       "     Site\n",
       "     Key: 2\n",
       "     1 devices\n",
       "     6 sensors\n",
       "     , \n",
       "     Site\n",
       "     Key: 3\n",
       "     1 devices\n",
       "     1 sensors\n",
       "     , \n",
       "     Site\n",
       "     Key: 4\n",
       "     1 devices\n",
       "     4 sensors\n",
       "     , \n",
       "     Site\n",
       "     Key: 5\n",
       "     1 devices\n",
       "     1 sensors\n",
       "     , \n",
       "     Site\n",
       "     Key: 6\n",
       "     1 devices\n",
       "     1 sensors\n",
       "     , \n",
       "     Site\n",
       "     Key: 7\n",
       "     1 devices\n",
       "     5 sensors\n",
       "     , \n",
       "     Site\n",
       "     Key: 8\n",
       "     1 devices\n",
       "     4 sensors\n",
       "     , \n",
       "     Site\n",
       "     Key: 9\n",
       "     1 devices\n",
       "     4 sensors\n",
       "     , \n",
       "     Site\n",
       "     Key: 10\n",
       "     1 devices\n",
       "     3 sensors\n",
       "     , \n",
       "     Site\n",
       "     Key: 11\n",
       "     1 devices\n",
       "     2 sensors\n",
       "     , \n",
       "     Site\n",
       "     Key: 12\n",
       "     1 devices\n",
       "     1 sensors\n",
       "     , \n",
       "     Site\n",
       "     Key: 13\n",
       "     1 devices\n",
       "     2 sensors\n",
       "     , \n",
       "     Site\n",
       "     Key: 14\n",
       "     1 devices\n",
       "     1 sensors\n",
       "     , \n",
       "     Site\n",
       "     Key: 15\n",
       "     1 devices\n",
       "     6 sensors\n",
       "     , \n",
       "     Site\n",
       "     Key: 16\n",
       "     1 devices\n",
       "     5 sensors\n",
       "     , \n",
       "     Site\n",
       "     Key: 17\n",
       "     1 devices\n",
       "     1 sensors\n",
       "     , \n",
       "     Site\n",
       "     Key: 18\n",
       "     1 devices\n",
       "     5 sensors\n",
       "     , \n",
       "     Site\n",
       "     Key: 19\n",
       "     1 devices\n",
       "     1 sensors\n",
       "     , \n",
       "     Site\n",
       "     Key: 20\n",
       "     1 devices\n",
       "     4 sensors\n",
       "     , \n",
       "     Site\n",
       "     Key: 21\n",
       "     1 devices\n",
       "     5 sensors\n",
       "     , \n",
       "     Site\n",
       "     Key: 22\n",
       "     1 devices\n",
       "     4 sensors\n",
       "     ]"
      ]
     },
     "execution_count": 9,
     "metadata": {},
     "output_type": "execute_result"
    }
   ],
   "source": [
    "hp.sites"
   ]
  },
  {
   "cell_type": "code",
   "execution_count": 10,
   "metadata": {
    "collapsed": false
   },
   "outputs": [
    {
     "data": {
      "text/plain": [
       "[\n",
       "     Fluksometer\n",
       "     Key: FL03001552\n",
       "     6 sensors\n",
       "     , \n",
       "     Fluksometer\n",
       "     Key: FL03001561\n",
       "     6 sensors\n",
       "     , \n",
       "     Fluksometer\n",
       "     Key: FL02000449\n",
       "     1 sensors\n",
       "     , \n",
       "     Fluksometer\n",
       "     Key: FL03001566\n",
       "     4 sensors\n",
       "     , \n",
       "     Fluksometer\n",
       "     Key: FL03001578\n",
       "     1 sensors\n",
       "     , \n",
       "     Fluksometer\n",
       "     Key: FL03001577\n",
       "     1 sensors\n",
       "     , \n",
       "     Fluksometer\n",
       "     Key: FL03001573\n",
       "     5 sensors\n",
       "     , \n",
       "     Fluksometer\n",
       "     Key: FL03001553\n",
       "     4 sensors\n",
       "     , \n",
       "     Fluksometer\n",
       "     Key: FL03001556\n",
       "     4 sensors\n",
       "     , \n",
       "     Fluksometer\n",
       "     Key: FL03001550\n",
       "     3 sensors\n",
       "     , \n",
       "     Fluksometer\n",
       "     Key: FL02000628\n",
       "     2 sensors\n",
       "     , \n",
       "     Fluksometer\n",
       "     Key: FL03001557\n",
       "     1 sensors\n",
       "     , \n",
       "     Fluksometer\n",
       "     Key: FL03001560\n",
       "     2 sensors\n",
       "     , \n",
       "     Fluksometer\n",
       "     Key: FL03001549\n",
       "     1 sensors\n",
       "     , \n",
       "     Fluksometer\n",
       "     Key: FL03001570\n",
       "     6 sensors\n",
       "     , \n",
       "     Fluksometer\n",
       "     Key: FL03001525\n",
       "     5 sensors\n",
       "     , \n",
       "     Fluksometer\n",
       "     Key: FL03001554\n",
       "     1 sensors\n",
       "     , \n",
       "     Fluksometer\n",
       "     Key: FL03001441\n",
       "     5 sensors\n",
       "     , \n",
       "     Fluksometer\n",
       "     Key: FL03001572\n",
       "     1 sensors\n",
       "     , \n",
       "     Fluksometer\n",
       "     Key: FL02000678\n",
       "     4 sensors\n",
       "     , \n",
       "     Fluksometer\n",
       "     Key: FL03001579\n",
       "     5 sensors\n",
       "     , \n",
       "     Fluksometer\n",
       "     Key: FL03001251\n",
       "     4 sensors\n",
       "     ]"
      ]
     },
     "execution_count": 10,
     "metadata": {},
     "output_type": "execute_result"
    }
   ],
   "source": [
    "hp.get_devices()"
   ]
  },
  {
   "cell_type": "code",
   "execution_count": 11,
   "metadata": {
    "collapsed": false
   },
   "outputs": [
    {
     "data": {
      "text/plain": [
       "[\n",
       "     Fluksosensor\n",
       "     Key: 661684d35cd07dfc657a60b844860785\n",
       "     Type: water\n",
       "     , \n",
       "     Fluksosensor\n",
       "     Key: b28509eb97137e723995838c393d49df\n",
       "     Type: water\n",
       "     , \n",
       "     Fluksosensor\n",
       "     Key: 36dac700f81c6be9ca233e6534182ed4\n",
       "     Type: water\n",
       "     , \n",
       "     Fluksosensor\n",
       "     Key: 2923b75daf93e539e37ce5177c0008c5\n",
       "     Type: water\n",
       "     , \n",
       "     Fluksosensor\n",
       "     Key: a8054ca7865584e69a7c946aeea1e13c\n",
       "     Type: water\n",
       "     , \n",
       "     Fluksosensor\n",
       "     Key: 4e63e6b6b5bdb137658d84a861593e5c\n",
       "     Type: water\n",
       "     , \n",
       "     Fluksosensor\n",
       "     Key: 1a5c55ec176d24483572aca420ac59b5\n",
       "     Type: water\n",
       "     , \n",
       "     Fluksosensor\n",
       "     Key: c57f45b21e2ec21ab427f172478e1ca4\n",
       "     Type: water\n",
       "     , \n",
       "     Fluksosensor\n",
       "     Key: a926bc966f178fc5d507a569a5bfc3d7\n",
       "     Type: water\n",
       "     , \n",
       "     Fluksosensor\n",
       "     Key: a519ce042e8748570d3a91cfca16a747\n",
       "     Type: water\n",
       "     ]"
      ]
     },
     "execution_count": 11,
     "metadata": {},
     "output_type": "execute_result"
    }
   ],
   "source": [
    "hp.get_sensors('water')"
   ]
  },
  {
   "cell_type": "markdown",
   "metadata": {},
   "source": [
    "A Houseprint object can be saved as a pickle. It loses its tmpo session however (connections cannot be pickled)"
   ]
  },
  {
   "cell_type": "code",
   "execution_count": 12,
   "metadata": {
    "collapsed": false
   },
   "outputs": [
    {
     "name": "stdout",
     "output_type": "stream",
     "text": [
      "Saved houseprint to /Users/Jan/git_jrtpec/opengrid/scripts/new_houseprint.pkl\n"
     ]
    }
   ],
   "source": [
    "hp.save('new_houseprint.pkl')"
   ]
  },
  {
   "cell_type": "code",
   "execution_count": 13,
   "metadata": {
    "collapsed": false
   },
   "outputs": [],
   "source": [
    "hp = houseprint.load_houseprint_from_file('new_houseprint.pkl')"
   ]
  },
  {
   "cell_type": "markdown",
   "metadata": {},
   "source": [
    "###TMPO"
   ]
  },
  {
   "cell_type": "markdown",
   "metadata": {},
   "source": [
    "The houseprint, sites, devices and sensors all have a get_data method. In order to get these working for the fluksosensors, the houseprint needs a tmpo session"
   ]
  },
  {
   "cell_type": "code",
   "execution_count": 14,
   "metadata": {
    "collapsed": false
   },
   "outputs": [],
   "source": [
    "hp.init_tmpo(path_to_tmpo_data)"
   ]
  },
  {
   "cell_type": "code",
   "execution_count": 15,
   "metadata": {
    "collapsed": false,
    "scrolled": false
   },
   "outputs": [
    {
     "name": "stderr",
     "output_type": "stream",
     "text": [
      "/Library/Python/2.7/site-packages/requests/packages/urllib3/connection.py:251: SecurityWarning: Certificate has no `subjectAltName`, falling back to check for a `commonName` for now. This feature is being removed by major browsers and deprecated by RFC 2818. (See https://github.com/shazow/urllib3/issues/497 for details.)\n",
      "  SecurityWarning\n",
      "/Library/Python/2.7/site-packages/requests/packages/urllib3/connection.py:251: SecurityWarning: Certificate has no `subjectAltName`, falling back to check for a `commonName` for now. This feature is being removed by major browsers and deprecated by RFC 2818. (See https://github.com/shazow/urllib3/issues/497 for details.)\n",
      "  SecurityWarning\n"
     ]
    }
   ],
   "source": [
    "hp.sync_tmpos()"
   ]
  },
  {
   "cell_type": "markdown",
   "metadata": {},
   "source": [
    "###Lookup sites, devices, sensors"
   ]
  },
  {
   "cell_type": "code",
   "execution_count": 16,
   "metadata": {
    "collapsed": false
   },
   "outputs": [
    {
     "data": {
      "text/plain": [
       "\n",
       "    Site\n",
       "    Key: 1\n",
       "    1 devices\n",
       "    6 sensors\n",
       "    "
      ]
     },
     "execution_count": 16,
     "metadata": {},
     "output_type": "execute_result"
    }
   ],
   "source": [
    "hp.find_site(1)"
   ]
  },
  {
   "cell_type": "code",
   "execution_count": 17,
   "metadata": {
    "collapsed": false
   },
   "outputs": [
    {
     "data": {
      "text/plain": [
       "\n",
       "    Fluksometer\n",
       "    Key: FL03001552\n",
       "    6 sensors\n",
       "    "
      ]
     },
     "execution_count": 17,
     "metadata": {},
     "output_type": "execute_result"
    }
   ],
   "source": [
    "hp.find_device('FL03001552')"
   ]
  },
  {
   "cell_type": "code",
   "execution_count": 18,
   "metadata": {
    "collapsed": false,
    "scrolled": true
   },
   "outputs": [
    {
     "data": {
      "text/plain": [
       "\n",
       "    Fluksosensor\n",
       "    Key: 53b1eb0479c83dee927fff10b0cb0fe6\n",
       "    Type: electricity\n",
       "    "
      ]
     },
     "execution_count": 18,
     "metadata": {},
     "output_type": "execute_result"
    }
   ],
   "source": [
    "hp.find_sensor('53b1eb0479c83dee927fff10b0cb0fe6')"
   ]
  },
  {
   "cell_type": "markdown",
   "metadata": {},
   "source": [
    "###Get Data"
   ]
  },
  {
   "cell_type": "code",
   "execution_count": 19,
   "metadata": {
    "collapsed": false
   },
   "outputs": [
    {
     "data": {
      "text/plain": [
       "<matplotlib.axes._subplots.AxesSubplot at 0x117506090>"
      ]
     },
     "execution_count": 19,
     "metadata": {},
     "output_type": "execute_result"
    },
    {
     "data": {
      "image/png": "[encoded data removed]",
      "text/plain": [
       "<matplotlib.figure.Figure at 0x113119c50>"
      ]
     },
     "metadata": {},
     "output_type": "display_data"
    }
   ],
   "source": [
    "head = pd.Timestamp('20150617')\n",
    "tail = pd.Timestamp('20150618')\n",
    "hp.get_data(sensortype='water', head=head,tail=tail).plot()"
   ]
  },
  {
   "cell_type": "markdown",
   "metadata": {},
   "source": [
    "##Site"
   ]
  },
  {
   "cell_type": "code",
   "execution_count": 20,
   "metadata": {
    "collapsed": false
   },
   "outputs": [
    {
     "data": {
      "text/plain": [
       "\n",
       "    Site\n",
       "    Key: 1\n",
       "    1 devices\n",
       "    6 sensors\n",
       "    "
      ]
     },
     "execution_count": 20,
     "metadata": {},
     "output_type": "execute_result"
    }
   ],
   "source": [
    "site = hp.find_site(1)\n",
    "site"
   ]
  },
  {
   "cell_type": "code",
   "execution_count": 21,
   "metadata": {
    "collapsed": false
   },
   "outputs": [
    {
     "name": "stdout",
     "output_type": "stream",
     "text": [
      "160\n",
      "5\n",
      "\n",
      "1913\n",
      "\n",
      "\n",
      "263\n"
     ]
    }
   ],
   "source": [
    "print site.size\n",
    "print site.inhabitants\n",
    "print site.postcode\n",
    "print site.construction_year\n",
    "print site.k_level\n",
    "print site.e_level\n",
    "print site.epc_cert"
   ]
  },
  {
   "cell_type": "code",
   "execution_count": 22,
   "metadata": {
    "collapsed": false
   },
   "outputs": [
    {
     "data": {
      "text/plain": [
       "[\n",
       "     Fluksometer\n",
       "     Key: FL03001552\n",
       "     6 sensors\n",
       "     ]"
      ]
     },
     "execution_count": 22,
     "metadata": {},
     "output_type": "execute_result"
    }
   ],
   "source": [
    "site.devices"
   ]
  },
  {
   "cell_type": "code",
   "execution_count": 23,
   "metadata": {
    "collapsed": false
   },
   "outputs": [
    {
     "data": {
      "text/plain": [
       "[\n",
       "     Fluksosensor\n",
       "     Key: 53b1eb0479c83dee927fff10b0cb0fe6\n",
       "     Type: electricity\n",
       "     , \n",
       "     Fluksosensor\n",
       "     Key: 7fae5d2f0354bd3f3681881918a253c8\n",
       "     Type: electricity\n",
       "     , \n",
       "     Fluksosensor\n",
       "     Key: e8fa1a454e137aa36c1adfd9de94406b\n",
       "     Type: electricity\n",
       "     ]"
      ]
     },
     "execution_count": 23,
     "metadata": {},
     "output_type": "execute_result"
    }
   ],
   "source": [
    "site.get_sensors('electricity')"
   ]
  },
  {
   "cell_type": "code",
   "execution_count": 24,
   "metadata": {
    "collapsed": false,
    "scrolled": false
   },
   "outputs": [
    {
     "data": {
      "text/plain": [
       "<matplotlib.axes._subplots.AxesSubplot at 0x1131cb090>"
      ]
     },
     "execution_count": 24,
     "metadata": {},
     "output_type": "execute_result"
    },
    {
     "data": {
      "image/png": "[encoded data removed]",
      "text/plain": [
       "<matplotlib.figure.Figure at 0x112eb28d0>"
      ]
     },
     "metadata": {},
     "output_type": "display_data"
    }
   ],
   "source": [
    "head = pd.Timestamp('20150617')\n",
    "tail = pd.Timestamp('20150618')\n",
    "site.get_data(sensortype='electricity', head=head,tail=tail).plot()"
   ]
  },
  {
   "cell_type": "markdown",
   "metadata": {},
   "source": [
    "##Device"
   ]
  },
  {
   "cell_type": "code",
   "execution_count": 25,
   "metadata": {
    "collapsed": false
   },
   "outputs": [
    {
     "data": {
      "text/plain": [
       "\n",
       "    Fluksometer\n",
       "    Key: FL03001552\n",
       "    6 sensors\n",
       "    "
      ]
     },
     "execution_count": 25,
     "metadata": {},
     "output_type": "execute_result"
    }
   ],
   "source": [
    "device = hp.find_device('FL03001552')\n",
    "device"
   ]
  },
  {
   "cell_type": "code",
   "execution_count": 26,
   "metadata": {
    "collapsed": false
   },
   "outputs": [
    {
     "data": {
      "text/plain": [
       "'FL03001552'"
      ]
     },
     "execution_count": 26,
     "metadata": {},
     "output_type": "execute_result"
    }
   ],
   "source": [
    "device.key"
   ]
  },
  {
   "cell_type": "code",
   "execution_count": 27,
   "metadata": {
    "collapsed": false
   },
   "outputs": [
    {
     "data": {
      "text/plain": [
       "[\n",
       "     Fluksosensor\n",
       "     Key: a6028457292f1866b468b63adcc82ee3\n",
       "     Type: gas\n",
       "     , \n",
       "     Fluksosensor\n",
       "     Key: 29ba25498c657eda0cdd34bf22d3f9e4\n",
       "     Type: gas\n",
       "     ]"
      ]
     },
     "execution_count": 27,
     "metadata": {},
     "output_type": "execute_result"
    }
   ],
   "source": [
    "device.get_sensors('gas')"
   ]
  },
  {
   "cell_type": "code",
   "execution_count": 28,
   "metadata": {
    "collapsed": false
   },
   "outputs": [
    {
     "data": {
      "text/plain": [
       "<matplotlib.axes._subplots.AxesSubplot at 0x119f732d0>"
      ]
     },
     "execution_count": 28,
     "metadata": {},
     "output_type": "execute_result"
    },
    {
     "data": {
      "image/png": "[encoded data removed]",
      "text/plain": [
       "<matplotlib.figure.Figure at 0x1130d2ad0>"
      ]
     },
     "metadata": {},
     "output_type": "display_data"
    }
   ],
   "source": [
    "head = pd.Timestamp('20150617')\n",
    "tail = pd.Timestamp('20150618')\n",
    "device.get_data(sensortype='electricity', head=head,tail=tail).plot()"
   ]
  },
  {
   "cell_type": "markdown",
   "metadata": {},
   "source": [
    "##Sensor"
   ]
  },
  {
   "cell_type": "code",
   "execution_count": 29,
   "metadata": {
    "collapsed": false
   },
   "outputs": [
    {
     "data": {
      "text/plain": [
       "\n",
       "    Fluksosensor\n",
       "    Key: 53b1eb0479c83dee927fff10b0cb0fe6\n",
       "    Type: electricity\n",
       "    "
      ]
     },
     "execution_count": 29,
     "metadata": {},
     "output_type": "execute_result"
    }
   ],
   "source": [
    "sensor = hp.find_sensor('53b1eb0479c83dee927fff10b0cb0fe6')\n",
    "sensor"
   ]
  },
  {
   "cell_type": "code",
   "execution_count": 30,
   "metadata": {
    "collapsed": false
   },
   "outputs": [
    {
     "data": {
      "text/plain": [
       "'53b1eb0479c83dee927fff10b0cb0fe6'"
      ]
     },
     "execution_count": 30,
     "metadata": {},
     "output_type": "execute_result"
    }
   ],
   "source": [
    "sensor.key"
   ]
  },
  {
   "cell_type": "code",
   "execution_count": 31,
   "metadata": {
    "collapsed": false
   },
   "outputs": [
    {
     "data": {
      "text/plain": [
       "'electricity'"
      ]
     },
     "execution_count": 31,
     "metadata": {},
     "output_type": "execute_result"
    }
   ],
   "source": [
    "sensor.type"
   ]
  },
  {
   "cell_type": "code",
   "execution_count": 32,
   "metadata": {
    "collapsed": false
   },
   "outputs": [
    {
     "data": {
      "text/plain": [
       "'Main'"
      ]
     },
     "execution_count": 32,
     "metadata": {},
     "output_type": "execute_result"
    }
   ],
   "source": [
    "sensor.description"
   ]
  },
  {
   "cell_type": "code",
   "execution_count": 33,
   "metadata": {
    "collapsed": false
   },
   "outputs": [
    {
     "data": {
      "text/plain": [
       "'grid'"
      ]
     },
     "execution_count": 33,
     "metadata": {},
     "output_type": "execute_result"
    }
   ],
   "source": [
    "sensor.system"
   ]
  },
  {
   "cell_type": "code",
   "execution_count": 34,
   "metadata": {
    "collapsed": false
   },
   "outputs": [
    {
     "data": {
      "text/plain": [
       "'Wh'"
      ]
     },
     "execution_count": 34,
     "metadata": {},
     "output_type": "execute_result"
    }
   ],
   "source": [
    "sensor.unit"
   ]
  },
  {
   "cell_type": "code",
   "execution_count": 35,
   "metadata": {
    "collapsed": false
   },
   "outputs": [
    {
     "data": {
      "text/plain": [
       "<matplotlib.axes._subplots.AxesSubplot at 0x1131c8710>"
      ]
     },
     "execution_count": 35,
     "metadata": {},
     "output_type": "execute_result"
    },
    {
     "data": {
      "image/png": "[encoded data removed]",
      "text/plain": [
       "<matplotlib.figure.Figure at 0x1130a9490>"
      ]
     },
     "metadata": {},
     "output_type": "display_data"
    }
   ],
   "source": [
    "head = pd.Timestamp('20150617')\n",
    "tail = pd.Timestamp('20150618')\n",
    "sensor.get_data(head,tail).plot()"
   ]
  },
  {
   "cell_type": "code",
   "execution_count": null,
   "metadata": {
    "collapsed": true
   },
   "outputs": [],
   "source": []
  },
  {
   "cell_type": "code",
   "execution_count": null,
   "metadata": {
    "collapsed": true
   },
   "outputs": [],
   "source": []
  },
  {
   "cell_type": "code",
   "execution_count": null,
   "metadata": {
    "collapsed": true
   },
   "outputs": [],
   "source": []
  }
 ],
 "metadata": {
  "kernelspec": {
   "display_name": "Python 2",
   "language": "python",
   "name": "python2"
  },
  "language_info": {
   "codemirror_mode": {
    "name": "ipython",
    "version": 2
   },
   "file_extension": ".py",
   "mimetype": "text/x-python",
   "name": "python",
   "nbconvert_exporter": "python",
   "pygments_lexer": "ipython2",
   "version": "2.7.6"
  }
 },
 "nbformat": 4,
 "nbformat_minor": 0
}
