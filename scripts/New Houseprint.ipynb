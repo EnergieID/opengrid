{
 "metadata": {
  "name": "",
  "signature": "sha256:972946aaed2b65c31de85242f9496a24f3e2ab4cd935903924f97946bcc29161"
 },
 "nbformat": 3,
 "nbformat_minor": 0,
 "worksheets": [
  {
   "cells": [
    {
     "cell_type": "heading",
     "level": 1,
     "metadata": {},
     "source": [
      "Class definitions"
     ]
    },
    {
     "cell_type": "heading",
     "level": 2,
     "metadata": {},
     "source": [
      "Houseprint Singleton"
     ]
    },
    {
     "cell_type": "markdown",
     "metadata": {},
     "source": [
      "The Houseprint is a Singleton object which contains all metadata for sites, devices and sensors. It can be pickled, saved and passed around"
     ]
    },
    {
     "cell_type": "code",
     "collapsed": false,
     "input": [
      "class Houseprint(object):\n",
      "    def __init__(self, spreadsheet = \"Opengrid houseprint (Responses)\"):\n",
      "        \"\"\"\n",
      "            The Init method connects to the Google spreadsheet and parses the data into the OO structure.\n",
      "        \"\"\""
     ],
     "language": "python",
     "metadata": {},
     "outputs": []
    }
   ],
   "metadata": {}
  }
 ]
}