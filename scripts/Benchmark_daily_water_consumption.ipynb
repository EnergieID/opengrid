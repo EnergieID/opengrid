{
 "metadata": {
  "name": "",
  "signature": "sha256:be20570b5e70f0596a090c9875c0f8412cd4dd001e90d1d897653bf890b99f83"
 },
 "nbformat": 3,
 "nbformat_minor": 0,
 "worksheets": [
  {
   "cells": [
    {
     "cell_type": "markdown",
     "metadata": {},
     "source": [
      "### This script shows how to use the existing code in opengrid to create a water consumption benchmark. "
     ]
    },
    {
     "cell_type": "code",
     "collapsed": false,
     "input": [
      "import os, sys\n",
      "import inspect\n",
      "import numpy as np\n",
      "import matplotlib.pyplot as plt\n",
      "from matplotlib.dates import HourLocator, DateFormatter\n",
      "import datetime as dt\n",
      "import pytz\n",
      "import pandas as pd\n",
      "from opengrid.library import config\n",
      "c = config.Config()\n",
      "script_dir = os.path.dirname(os.path.abspath(inspect.getfile(inspect.currentframe())))\n",
      "# add the path to opengrid to sys.path\n",
      "sys.path.append(os.path.join(script_dir, os.pardir, os.pardir))\n",
      "from opengrid.library import houseprint\n",
      "from opengrid.library import fluksoapi\n",
      "\n",
      "%matplotlib inline"
     ],
     "language": "python",
     "metadata": {},
     "outputs": []
    },
    {
     "cell_type": "markdown",
     "metadata": {},
     "source": [
      "### Script settings"
     ]
    },
    {
     "cell_type": "code",
     "collapsed": false,
     "input": [
      "path_to_data = c.get('data', 'folder')\n",
      "#path_to_data = 'SET_CUSTOM_PATH_HERE'\n",
      "\n",
      "if not os.path.exists(path_to_data):\n",
      "    raise IOError(\"Provide your path to the data.  This is a folder containing a 'zip' and 'csv' subfolder.\")\n",
      "else:\n",
      "    path_to_csv = os.path.join(path_to_data, 'csv')"
     ],
     "language": "python",
     "metadata": {},
     "outputs": []
    },
    {
     "cell_type": "markdown",
     "metadata": {},
     "source": [
      "### We create one dataframe containing a column for each water sensor"
     ]
    },
    {
     "cell_type": "code",
     "collapsed": false,
     "input": [
      "hp = houseprint.load_houseprint_from_file('hp_anonymous.pkl')"
     ],
     "language": "python",
     "metadata": {},
     "outputs": []
    },
    {
     "cell_type": "code",
     "collapsed": false,
     "input": [
      "dataframes = []\n",
      "utility = 'water'\n",
      "sensors = hp.get_sensors_by_type(utility)\n",
      "for sensor in sensors:\n",
      "    FL =hp.get_flukso_from_sensor(sensor)\n",
      "    csv = fluksoapi.find_csv(path_to_csv, sensor)\n",
      "    if len(csv) == 0:\n",
      "        print FL, sensor, 'not loaded'\n",
      "    else:\n",
      "        data=fluksoapi.load_csv(csv)\n",
      "        if len(data)>0:\n",
      "            dataframes.append(data)\n",
      "            print FL ' loaded correctly with sensor', data.columns[0]\n",
      "\n",
      "print('{} {}-sensors loaded.'.format(len(dataframes),utility))\n",
      "#output = list of dataframes"
     ],
     "language": "python",
     "metadata": {},
     "outputs": []
    },
    {
     "cell_type": "code",
     "collapsed": false,
     "input": [
      "# create a single dataframe\n",
      "df = dataframes[0].join(dataframes[1:], how='outer')\n",
      "\n",
      "# remove null columns\n",
      "df.dropna(axis=1, how='all', inplace=True)\n",
      "print('{} Sensors with data retained'.format(len(df.columns))) \n",
      "\n",
      "# convert the dataframe to LOCAL TIME (BRUSSELS)\n",
      "df.index = df.index.tz_convert(pytz.timezone('Europe/Brussels'))\n",
      "\n",
      "# convert from liter/day to kW, to be checked\n",
      "df = df/1000*10/24"
     ],
     "language": "python",
     "metadata": {},
     "outputs": []
    },
    {
     "cell_type": "code",
     "collapsed": false,
     "input": [
      "# plot timeseries and load duration for each retained sensor\n",
      "\n",
      "for sensor in df.columns:\n",
      "    plt.figure()\n",
      "    ax1=plt.subplot(121)\n",
      "    plt.plot_date(df.index, df[sensor]/24/60, '-', label=sensor)\n",
      "    plt.ylabel('water consumption [l/min]')\n",
      "    plt.legend()\n",
      "    \n",
      "    ax2=plt.subplot(122)\n",
      "    plt.plot(np.sort(df[sensor])[::-1]/24/60, label=sensor)\n",
      "    plt.ylabel('water JBDC [l/min]')\n",
      "    plt.legend()"
     ],
     "language": "python",
     "metadata": {},
     "outputs": []
    }
   ],
   "metadata": {}
  }
 ]
}