{
 "metadata": {
  "name": "",
  "signature": "sha256:4a8d4ce079d6daf8f5533318c477e6ab81124a6a0dbaf724beea9b3eba6095fa"
 },
 "nbformat": 3,
 "nbformat_minor": 0,
 "worksheets": [
  {
   "cells": [
    {
     "cell_type": "markdown",
     "metadata": {},
     "source": [
      "# Warning, script to be tested and updated!!\n",
      "\n",
      "### This script shows how to use the existing code in opengrid to create a water consumption benchmark. "
     ]
    },
    {
     "cell_type": "code",
     "collapsed": false,
     "input": [
      "import os, sys\n",
      "import inspect\n",
      "import numpy as np\n",
      "import matplotlib.pyplot as plt\n",
      "from matplotlib.dates import HourLocator, DateFormatter\n",
      "import datetime as dt\n",
      "import pandas as pd\n",
      "\n",
      "script_dir = os.path.dirname(os.path.abspath(inspect.getfile(inspect.currentframe())))\n",
      "# add the path to opengrid to sys.path\n",
      "sys.path.append(os.path.join(script_dir, os.pardir, os.pardir))\n",
      "from opengrid.library import houseprint\n",
      "from opengrid.library import fluksoapi"
     ],
     "language": "python",
     "metadata": {},
     "outputs": []
    },
    {
     "cell_type": "markdown",
     "metadata": {},
     "source": [
      "### Script settings"
     ]
    },
    {
     "cell_type": "code",
     "collapsed": false,
     "input": [
      "path_to_data = os.path.join(script_dir, os.pardir, os.pardir, os.pardir, 'work', 'temp')\n",
      "%matplotlib inline"
     ],
     "language": "python",
     "metadata": {},
     "outputs": []
    },
    {
     "cell_type": "markdown",
     "metadata": {},
     "source": [
      "### Some functions, if generic enough they should be moved to the api codebase"
     ]
    },
    {
     "cell_type": "code",
     "collapsed": false,
     "input": [
      "def get_dataframes(hp, sensortype):\n",
      "    \"\"\"\n",
      "    Return a list with pandas DataFrames for all sensors of the given sensortype.\n",
      "    The columns have the sensor hex as name.\n",
      "\n",
      "    \"\"\"\n",
      "    \n",
      "    list_of_df = []\n",
      "    # create list with sensors\n",
      "    sensors = hp.get_sensors_by_type(sensortype)\n",
      "    for sensor in sensors:\n",
      "        # compose a single csv of all the data and load as timeseries\n",
      "        try:\n",
      "            csv = fluksoapi.consolidate(folder = path_to_data, sensor = sensor)\n",
      "        except ValueError:\n",
      "            # this sensor has no csv files: no problem            \n",
      "            pass\n",
      "        ts = fluksoapi.load_csv(csv)\n",
      "        df = pd.DataFrame(ts)\n",
      "        df.columns = [sensor]\n",
      "        list_of_df.append(df)\n",
      "    \n",
      "    return list_of_df"
     ],
     "language": "python",
     "metadata": {},
     "outputs": []
    },
    {
     "cell_type": "code",
     "collapsed": false,
     "input": [
      "def load_duration(list_of_df):\n",
      "    \"\"\"\n",
      "    Make a simple plot with load duration curves for all dataframes in list_df.\n",
      "    \"\"\"\n",
      "    \n",
      "\n",
      "    fig = plt.figure()\n",
      "    ax = plt.subplot(111)    \n",
      "    \n",
      "    for df in list_of_df:\n",
      "        arr = df.values\n",
      "        arr = arr.reshape(arr.size,)\n",
      "        ax.plot(np.sort(arr), label = hp.get_flukso_from_sensor(df.columns[0]))\n",
      "        \n",
      "    plt.legend()\n",
      "    \n",
      "    return fig, ax"
     ],
     "language": "python",
     "metadata": {},
     "outputs": []
    },
    {
     "cell_type": "code",
     "collapsed": false,
     "input": [
      "def select_night(df):\n",
      "    \"\"\"\n",
      "    Return a DataFrame containing only the hours between 00h00 and 05h00\n",
      "    \n",
      "    Parameters\n",
      "    ----------\n",
      "    * df : pandas DataFrame\n",
      "    \"\"\"\n",
      "    \n",
      "    dfnight = df.ix[df.index.hour >= np.zeros(len(df))]\n",
      "    dfnight = dfnight.ix[dfnight.index.hour < 5*np.ones(len(dfnight))]\n",
      "        \n",
      "    return dfnight"
     ],
     "language": "python",
     "metadata": {},
     "outputs": []
    },
    {
     "cell_type": "code",
     "collapsed": false,
     "input": [
      "def select_day(df, dt_day):\n",
      "    \"\"\"\n",
      "    Return a DataFrame containing only data for the given day\n",
      "    \n",
      "    Parameters\n",
      "    ----------\n",
      "    * df : pandas DataFrame\n",
      "    * dt_day : datetime \n",
      "    \n",
      "    Returns\n",
      "    -------\n",
      "    pandas DataFrame\n",
      "    \"\"\"\n",
      "    \n",
      "    return df.ix[df.index.day == dt_day.day]"
     ],
     "language": "python",
     "metadata": {},
     "outputs": []
    },
    {
     "cell_type": "code",
     "collapsed": false,
     "input": [
      "def test_valid(df):\n",
      "    \"\"\"\n",
      "    Test if a DataFrame contains useful data:\n",
      "    - max value should be larger than 0\n",
      "    - min and max have to be different\n",
      "    \"\"\"\n",
      "    try:\n",
      "        max_ = df.values.max()\n",
      "        return max_ > 0 and df.values.min() <> max_\n",
      "    except:\n",
      "        return False  "
     ],
     "language": "python",
     "metadata": {},
     "outputs": []
    },
    {
     "cell_type": "markdown",
     "metadata": {},
     "source": [
      "### We create a list with dataframes.  Each dataframe contains all water consumption data we have for one water sensor"
     ]
    },
    {
     "cell_type": "code",
     "collapsed": false,
     "input": [
      "hp = houseprint.load_houseprint_from_file('hp_anonymous.pkl')"
     ],
     "language": "python",
     "metadata": {},
     "outputs": []
    },
    {
     "cell_type": "code",
     "collapsed": false,
     "input": [
      "dataframes = get_dataframes(hp, sensortype='water')\n",
      "print('{} Dataframes for water loaded'.format(len(dataframes)))"
     ],
     "language": "python",
     "metadata": {},
     "outputs": []
    },
    {
     "cell_type": "markdown",
     "metadata": {},
     "source": [
      "Next plot shows:\n",
      "* that I did not pull all data from the flukso api: 2 days are missing\n",
      "* that this electricity sensor measures the result of consumption and PV production"
     ]
    },
    {
     "cell_type": "code",
     "collapsed": false,
     "input": [
      "dataframes[0].plot()"
     ],
     "language": "python",
     "metadata": {},
     "outputs": []
    },
    {
     "cell_type": "code",
     "collapsed": false,
     "input": [
      "def benchmark_water_per_day(dataframes, hp, days=1, ymax=None):\n",
      "    \"\"\"\n",
      "    Benchmark plot of the standby electricity consumption for multiple days\n",
      "    \n",
      "    Parameters\n",
      "    ----------\n",
      "    * dataframes : list with pandas DataFrames\n",
      "      One dataframe per sensor\n",
      "    * hp : Houseprint object\n",
      "    * days : int\n",
      "      Number of days (or nights) to analyse\n",
      "    * ymax: real, default=None\n",
      "      Maximum of the y-axis for the boxplots \n",
      "    \n",
      "    Notes\n",
      "    -----\n",
      "    Will create a plot per remaining df in dataframes after filtering and validation of the data\n",
      "    \"\"\"\n",
      "    \n",
      "   \n",
      "    # The computation is easy: we aggregate the data to daily values    \n",
      "    df_all = pd.DataFrame().join(dataframes, how='outer')\n",
      "    df_all_perday = df_all.resample(rule='1D', how='mean')\n",
      "    # We drop sensors that have only nan values:\n",
      "    df_all_perday = df_all_perday.dropna(axis=1, how='all')\n",
      "    # Only keep the required days:\n",
      "    df_all_perday = df_all_perday.ix[dt.datetime.now()-dt.timedelta(days=days):]\n",
      "    \n",
      "    #import pdb\n",
      "    #pdb.set_trace()\n",
      "    \n",
      "    # make the graph\n",
      "    for sensor in df_all_perday.columns:\n",
      "        plt.figure(figsize=(10,5))\n",
      "        ax1=plt.subplot(121)\n",
      "        ax1.boxplot(df_all_perday.values.T, positions=range(len(df_all_perday.index)), notch=False)\n",
      "        ax1.plot(range(len(df_all_perday.index)), df_all_perday[sensor], 'rD', ms=5, label=hp.get_flukso_from_sensor(sensor))\n",
      "        ax1.grid()\n",
      "        ax1.set_ylabel('Liter/day')\n",
      "        if ymax is not None:\n",
      "            ax1.set_ylim(0,ymax)\n",
      "        plt.legend()\n",
      "        ax1.set_xticklabels([t.strftime(format='%d/%m') for t in df_all_perday.index.tolist()])\n",
      "\n",
      "        ax2=plt.subplot(122)\n",
      "        try:\n",
      "            ax2.plot_date(df_all.ix[dt.datetime.now()-dt.timedelta(days=1):].index, \n",
      "                          df_all[sensor].ix[dt.datetime.now()-dt.timedelta(days=1):].values/(24*60.), 'b-')\n",
      "            ax2.set_ylabel('Liter/min')\n",
      "            ax2.set_title('Detailed consumption of the last 24h')\n",
      "            \n",
      "            # nicely formatted hours on the right graph\n",
      "            hourly = HourLocator(byhour=range(24))\n",
      "            bihourly = HourLocator(byhour=range(24), interval=2)\n",
      "            hourformat = DateFormatter('%H')\n",
      "            \n",
      "            ax2.xaxis.set_major_locator(bihourly)\n",
      "            ax2.xaxis.set_major_formatter(hourformat)\n",
      "            ax2.xaxis.set_minor_locator(hourly)\n",
      "        except:\n",
      "            pass"
     ],
     "language": "python",
     "metadata": {},
     "outputs": []
    },
    {
     "cell_type": "markdown",
     "metadata": {},
     "source": [
      "### Results \n",
      "\n",
      "The next plots are the current benchmarks, anonymous. The left figure shows where the given family is situated compared to all other families.  The right plot shows the night-time consumption for this night. \n",
      "\n",
      "In a next step, it would be nice to:\n",
      "* show on the left side the benchmarks *for the last 7 days*\n",
      "* create an interactive plot (D3.js?) for the right side: it should show the night-time consumption **for the day over which the mouse hovers in the left graph**.  "
     ]
    },
    {
     "cell_type": "code",
     "collapsed": false,
     "input": [
      "benchmark_water_per_day(dataframes, hp, days=10, ymax=2000)"
     ],
     "language": "python",
     "metadata": {},
     "outputs": []
    },
    {
     "cell_type": "code",
     "collapsed": false,
     "input": [],
     "language": "python",
     "metadata": {},
     "outputs": []
    }
   ],
   "metadata": {}
  }
 ]
}