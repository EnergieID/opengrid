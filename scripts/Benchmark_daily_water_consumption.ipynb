{
 "metadata": {
  "name": "",
  "signature": "sha256:be20570b5e70f0596a090c9875c0f8412cd4dd001e90d1d897653bf890b99f83"
 },
 "nbformat": 3,
 "nbformat_minor": 0,
 "worksheets": [
  {
   "cells": [
    {
     "cell_type": "markdown",
     "metadata": {},
     "source": [
      "### This script shows how to use the existing code in opengrid to create a water consumption benchmark. "
     ]
    },
    {
     "cell_type": "code",
     "collapsed": false,
     "input": [
      "import os, sys\n",
      "import inspect\n",
      "import numpy as np\n",
      "import matplotlib.pyplot as plt\n",
      "import pandas as pd\n",
      "script_dir = os.path.dirname(os.path.abspath(inspect.getfile(inspect.currentframe())))\n",
      "# add the path to opengrid to sys.path\n",
      "sys.path.append(os.path.join(script_dir, os.pardir, os.pardir))\n",
      "from opengrid.library import houseprint\n",
      "from opengrid.library import fluksoapi\n",
      "from opengrid.library import config\n",
      "c = config.Config()\n",
      "\n",
      "%matplotlib inline\n",
      "plt.rcParams['figure.figsize'] = 16,8"
     ],
     "language": "python",
     "metadata": {},
     "outputs": []
    },
    {
     "cell_type": "markdown",
     "metadata": {},
     "source": [
      "### Script settings"
     ]
    },
    {
     "cell_type": "code",
     "collapsed": false,
     "input": [
      "path_to_data = c.get('data', 'folder')\n",
      "if not os.path.exists(path_to_data):\n",
      "    raise IOError(\"Provide your path to the data.  This is a folder containing a 'zip' and 'csv' subfolder.\")\n",
      "else:\n",
      "    path_to_csv = os.path.join(path_to_data, 'csv')"
     ],
     "language": "python",
     "metadata": {},
     "outputs": []
    },
    {
     "cell_type": "markdown",
     "metadata": {},
     "source": [
      "### We create one dataframe containing a column for each water sensor"
     ]
    },
    {
     "cell_type": "code",
     "collapsed": false,
     "input": [
      "hp = houseprint.load_houseprint_from_file('hp_anonymous.pkl')"
     ],
     "language": "python",
     "metadata": {},
     "outputs": []
    },
    {
     "cell_type": "code",
     "collapsed": false,
     "input": [
      "sensors = hp.get_sensors(sensortype='water')"
     ],
     "language": "python",
     "metadata": {},
     "outputs": []
    },
    {
     "cell_type": "code",
     "collapsed": false,
     "input": [
      "df = fluksoapi.load(path_to_csv, sensors)\n",
      "\n",
      "# convert from liter/day to kW, to be checked\n",
      "df = df/1000*10/24"
     ],
     "language": "python",
     "metadata": {},
     "outputs": []
    },
    {
     "cell_type": "code",
     "collapsed": false,
     "input": [
      "# plot timeseries and load duration for each retained sensor\n",
      "\n",
      "for sensor in df.columns:\n",
      "    plt.figure()\n",
      "    ax1=plt.subplot(121)\n",
      "    plt.plot_date(df.index, df[sensor]/24/60, '-', label=sensor)\n",
      "    plt.ylabel('water consumption [l/min]')\n",
      "    plt.legend()\n",
      "    \n",
      "    ax2=plt.subplot(122)\n",
      "    plt.plot(np.sort(df[sensor])[::-1]/24/60, label=sensor)\n",
      "    plt.ylabel('water JBDC [l/min]')\n",
      "    plt.legend()"
     ],
     "language": "python",
     "metadata": {},
     "outputs": []
    }
   ],
   "metadata": {}
  }
 ]
}