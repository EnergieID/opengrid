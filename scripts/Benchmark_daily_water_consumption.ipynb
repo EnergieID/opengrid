{
 "metadata": {
  "name": "",
  "signature": "sha256:be20570b5e70f0596a090c9875c0f8412cd4dd001e90d1d897653bf890b99f83"
 },
 "nbformat": 3,
 "nbformat_minor": 0,
 "worksheets": [
  {
   "cells": [
    {
     "cell_type": "markdown",
     "metadata": {},
     "source": [
      "### This script shows how to use the existing code in opengrid to create a water consumption benchmark. "
     ]
    },
    {
     "cell_type": "code",
     "collapsed": false,
     "input": [
      "import os, sys\n",
      "import inspect\n",
      "import numpy as np\n",
      "import matplotlib.pyplot as plt\n",
      "from matplotlib.dates import HourLocator, DateFormatter\n",
      "import datetime as dt\n",
      "import pytz\n",
      "import pandas as pd\n",
      "\n",
      "script_dir = os.path.dirname(os.path.abspath(inspect.getfile(inspect.currentframe())))\n",
      "# add the path to opengrid to sys.path\n",
      "sys.path.append(os.path.join(script_dir, os.pardir, os.pardir))\n",
      "from opengrid.library import houseprint\n",
      "from opengrid.library import fluksoapi\n",
      "\n",
      "%matplotlib inline"
     ],
     "language": "python",
     "metadata": {},
     "outputs": []
    },
    {
     "cell_type": "markdown",
     "metadata": {},
     "source": [
      "### Script settings"
     ]
    },
    {
     "cell_type": "code",
     "collapsed": false,
     "input": [
      "path_to_data = '/home/roel/data/work/opengrid/data'\n",
      "if not os.path.exists(path_to_data):\n",
      "    raise IOError(\"Provide your path to the data.  This is a folder containing a 'zip' and 'csv' subfolder.\")\n",
      "else:\n",
      "    path_to_csv = os.path.join(path_to_data, 'csv')"
     ],
     "language": "python",
     "metadata": {},
     "outputs": []
    },
    {
     "cell_type": "markdown",
     "metadata": {},
     "source": [
      "### We create one dataframe containing a column for each water sensor"
     ]
    },
    {
     "cell_type": "code",
     "collapsed": false,
     "input": [
      "hp = houseprint.load_houseprint_from_file('hp_anonymous.pkl')"
     ],
     "language": "python",
     "metadata": {},
     "outputs": []
    },
    {
     "cell_type": "code",
     "collapsed": false,
     "input": [
      "dataframes = []\n",
      "sensors = hp.get_sensors_by_type('water')\n",
      "for sensor in sensors:\n",
      "    dataframes.append(fluksoapi.load_csv(fluksoapi.find_csv(path_to_csv, sensor)))\n",
      "\n",
      "print('{} sensors for water loaded.'.format(len(dataframes)))\n",
      "\n",
      "df = pd.DataFrame().join(dataframes, how='outer')\n",
      "# convert the dataframe to LOCAL TIME (BRUSSELS)\n",
      "df.index = df.index.tz_convert(pytz.timezone('Europe/Brussels'))"
     ],
     "language": "python",
     "metadata": {},
     "outputs": []
    },
    {
     "cell_type": "code",
     "collapsed": false,
     "input": [
      "dataframes[0].plot()"
     ],
     "language": "python",
     "metadata": {},
     "outputs": []
    },
    {
     "cell_type": "markdown",
     "metadata": {},
     "source": [
      "## Data handling\n",
      "\n",
      "We want to obtain the total consumption per day, per sensor.  We resample the dataframe df and remove sensors with only bad data."
     ]
    },
    {
     "cell_type": "code",
     "collapsed": false,
     "input": [
      "# The number of days to look back\n",
      "days=10\n",
      "last_day = df.index[-1] - dt.timedelta(hours=df.index[-1].hour)\n",
      "\n",
      "# The computation is easy: we aggregate the data to daily values    \n",
      "df_all_perday = df.ix[last_day - dt.timedelta(days=days-1):last_day].resample(rule='1D', how='mean', closed='right')\n",
      "# We drop sensors that have only nan values:\n",
      "df_all_perday = df_all_perday.dropna(axis=1, how='all')\n",
      "\n",
      "df_result = df_all_perday.transpose()\n",
      "quantiles = df_result.quantile(q=[0.1,0.5,0.9])"
     ],
     "language": "python",
     "metadata": {},
     "outputs": []
    },
    {
     "cell_type": "markdown",
     "metadata": {},
     "source": [
      "### Plots\n",
      "\n",
      "The next plots are the current benchmarks, anonymous. The left figure shows where the given family is situated compared to all other families.  The right plot shows the night-time consumption for this night. \n",
      "\n",
      "In a next step, it would be nice to:\n",
      "* show on the left side the benchmarks *for the last 7 days*\n",
      "* create an interactive plot (D3.js?) for the right side: it should show the night-time consumption **for the day over which the mouse hovers in the left graph**.  "
     ]
    },
    {
     "cell_type": "code",
     "collapsed": false,
     "input": [
      "# make the graph\n",
      "for sensor in df_all_perday.columns:\n",
      "    plt.figure(figsize=(10,5))\n",
      "    ax1=plt.subplot(121)\n",
      "    # 10% quantile\n",
      "    ax1.plot(range(days), quantiles.iloc[0], '--b', label='10% lowest')\n",
      "    # 50% quantile\n",
      "    ax1.plot(range(days), quantiles.iloc[1], '--b', label='50% lowest')\n",
      "    # 90% quantile\n",
      "    ax1.plot(range(days), quantiles.iloc[2], '--b', label='10% highest')\n",
      "    # the data for this sensor\n",
      "    ax1.plot(range(days), df_all_perday[sensor], 'rD', ms=5, label=hp.get_flukso_from_sensor(sensor))\n",
      "    ax1.grid()\n",
      "    ax1.set_ylabel('Liter/day')\n",
      "    ax1.set_ylim(0,1000)\n",
      "    plt.legend()\n",
      "    plt.xticks(range(days), [t.strftime(format='%d/%m') for t in df_all_perday.index.tolist()], rotation='vertical')\n",
      "\n",
      "    ax2=plt.subplot(122)\n",
      "    try:\n",
      "        dt_start = last_day - dt.timedelta(days=1)\n",
      "        ax2.plot_date(df.ix[dt_start:last_day].index, \n",
      "                      df[sensor].ix[dt_start:last_day].values/(24*60.), 'b-')\n",
      "        ax2.set_ylabel('Liter/min')\n",
      "        ax2.set_title('Detailed consumption of the last 24h')\n",
      "\n",
      "        # nicely formatted hours on the right graph\n",
      "        hourly = HourLocator(byhour=range(24))\n",
      "        bihourly = HourLocator(byhour=range(24), interval=2)\n",
      "        hourformat = DateFormatter('%H')\n",
      "\n",
      "        ax2.xaxis.set_major_locator(bihourly)\n",
      "        ax2.xaxis.set_major_formatter(hourformat)\n",
      "        ax2.xaxis.set_minor_locator(hourly)\n",
      "    except:\n",
      "        pass"
     ],
     "language": "python",
     "metadata": {},
     "outputs": []
    }
   ],
   "metadata": {}
  }
 ]
}