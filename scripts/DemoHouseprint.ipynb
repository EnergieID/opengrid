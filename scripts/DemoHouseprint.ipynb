{
 "metadata": {
  "name": "",
  "signature": "sha256:13d6fafdcf08109a249052fd0c8b779ac8a6ef9a97097f159092cca9feec56ba"
 },
 "nbformat": 3,
 "nbformat_minor": 0,
 "worksheets": [
  {
   "cells": [
    {
     "cell_type": "markdown",
     "metadata": {},
     "source": [
      "### Demo of the interface to the opengrid houseprint info"
     ]
    },
    {
     "cell_type": "code",
     "collapsed": false,
     "input": [
      "import os, sys\n",
      "import inspect\n",
      "\n",
      "script_dir = os.path.dirname(os.path.abspath(inspect.getfile(inspect.currentframe())))\n",
      "# add the path to opengrid to sys.path\n",
      "sys.path.append(os.path.join(script_dir, os.pardir, os.pardir))\n",
      "from opengrid.library import houseprint\n",
      "from opengrid.library import fluksoapi"
     ],
     "language": "python",
     "metadata": {},
     "outputs": []
    },
    {
     "cell_type": "markdown",
     "metadata": {},
     "source": [
      "We create a *Houseprint* object by loading the anonymised info from the file *hp_anonymous.pkl*.  This file is in the *scripts* folder of the opengrid source code.  If you don't have this file, you can automatically create it by running the python script *cache_anonymous_houseprint.py*.  Alternatively, you can download a copy of this file from our private opengrid webserver. "
     ]
    },
    {
     "cell_type": "code",
     "collapsed": false,
     "input": [
      "%run cache_anonymous_houseprint.py"
     ],
     "language": "python",
     "metadata": {},
     "outputs": []
    },
    {
     "cell_type": "code",
     "collapsed": false,
     "input": [
      "hp = houseprint.load_houseprint_from_file('hp_anonymous.pkl')"
     ],
     "language": "python",
     "metadata": {},
     "outputs": []
    },
    {
     "cell_type": "markdown",
     "metadata": {},
     "source": [
      "The *fluksosensors* attribute is a dictionary with the fluksometer id's of all opengrid participants as keys, and all the associated sensors as values."
     ]
    },
    {
     "cell_type": "code",
     "collapsed": false,
     "input": [
      "hp.fluksosensors.keys()"
     ],
     "language": "python",
     "metadata": {},
     "outputs": []
    },
    {
     "cell_type": "markdown",
     "metadata": {},
     "source": [
      "You can get the details of a given fluksometer by normal dictionary lookup:"
     ]
    },
    {
     "cell_type": "code",
     "collapsed": false,
     "input": [
      "hp.fluksosensors['FL03001556']"
     ],
     "language": "python",
     "metadata": {},
     "outputs": []
    },
    {
     "cell_type": "markdown",
     "metadata": {},
     "source": [
      "There is also a method to get all sensors of a given type (*electricity, water or gas*)"
     ]
    },
    {
     "cell_type": "code",
     "collapsed": false,
     "input": [
      "hp.get_sensors_by_type('electricity')"
     ],
     "language": "python",
     "metadata": {},
     "outputs": []
    },
    {
     "cell_type": "markdown",
     "metadata": {},
     "source": [
      "You can checkout the other methods of a houseprint object by typing hp. and then using tab completing.  Also, typing help(hp) will give you an overview of all available (public) methods."
     ]
    },
    {
     "cell_type": "code",
     "collapsed": false,
     "input": [
      "help(hp)"
     ],
     "language": "python",
     "metadata": {},
     "outputs": []
    },
    {
     "cell_type": "code",
     "collapsed": false,
     "input": [],
     "language": "python",
     "metadata": {},
     "outputs": []
    }
   ],
   "metadata": {}
  }
 ]
}