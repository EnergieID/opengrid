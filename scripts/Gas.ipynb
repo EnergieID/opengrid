{
 "metadata": {
  "name": "",
  "signature": "sha256:74fc917dbcf72a256560e88ec7dc85966cd39f507f614122d7aa34ee90ae738f"
 },
 "nbformat": 3,
 "nbformat_minor": 0,
 "worksheets": [
  {
   "cells": [
    {
     "cell_type": "markdown",
     "metadata": {},
     "source": [
      "### This script shows how to use the existing code in opengrid to create a baseload electricity consumption benchmark. "
     ]
    },
    {
     "cell_type": "code",
     "collapsed": false,
     "input": [
      "import os, sys\n",
      "import inspect\n",
      "import numpy as np\n",
      "import matplotlib.pyplot as plt\n",
      "from matplotlib.dates import HourLocator, DateFormatter, AutoDateLocator\n",
      "import datetime as dt\n",
      "import pytz\n",
      "import pandas as pd\n",
      "import pdb\n",
      "\n",
      "script_dir = os.path.dirname(os.path.abspath(inspect.getfile(inspect.currentframe())))\n",
      "# add the path to opengrid to sys.path\n",
      "sys.path.append(os.path.join(script_dir, os.pardir, os.pardir))\n",
      "from opengrid.library import houseprint\n",
      "from opengrid.library import fluksoapi\n",
      "\n",
      "%matplotlib inline\n",
      "plt.rcParams['figure.figsize']=14,8"
     ],
     "language": "python",
     "metadata": {},
     "outputs": []
    },
    {
     "cell_type": "markdown",
     "metadata": {},
     "source": [
      "### Script settings"
     ]
    },
    {
     "cell_type": "code",
     "collapsed": false,
     "input": [
      "path_to_data = '/home/roel/data/work/opengrid/data'\n",
      "if not os.path.exists(path_to_data):\n",
      "    raise IOError(\"Provide your path to the data.  This is a folder containing a 'zip' and 'csv' subfolder.\")\n",
      "else:\n",
      "    path_to_csv = os.path.join(path_to_data, 'csv')"
     ],
     "language": "python",
     "metadata": {},
     "outputs": []
    },
    {
     "cell_type": "markdown",
     "metadata": {},
     "source": [
      "### We create one big dataframe, the columns are the sensors of type *gas*"
     ]
    },
    {
     "cell_type": "code",
     "collapsed": false,
     "input": [
      "hp = houseprint.load_houseprint_from_file('hp_anonymous.pkl')"
     ],
     "language": "python",
     "metadata": {},
     "outputs": []
    },
    {
     "cell_type": "code",
     "collapsed": false,
     "input": [
      "dataframes = []\n",
      "sensors = hp.get_sensors_by_type('gas')\n",
      "for sensor in sensors:\n",
      "    dataframes.append(fluksoapi.load_csv(fluksoapi.find_csv(path_to_csv, sensor)))\n",
      "\n",
      "print('{} Sensors for gas loaded'.format(len(dataframes)))\n",
      "\n",
      "# create a single dataframe\n",
      "df = dataframes[0].join(dataframes[1:], how='outer')\n",
      "\n",
      "# remove null columns\n",
      "df.dropna(axis=1, how='all', inplace=True)\n",
      "print('{} Sensors with data retained'.format(len(df.columns))) \n",
      "\n",
      "# convert the dataframe to LOCAL TIME (BRUSSELS)\n",
      "df.index = df.index.tz_convert(pytz.timezone('Europe/Brussels'))\n",
      "\n",
      "# convert from liter/day to kW, to be checked\n",
      "df = df/1000*10/24"
     ],
     "language": "python",
     "metadata": {},
     "outputs": []
    },
    {
     "cell_type": "code",
     "collapsed": false,
     "input": [
      "# plot timeseries and load duration for each retained sensor\n",
      "\n",
      "for sensor in df.columns:\n",
      "    plt.figure()\n",
      "    ax1=plt.subplot(121)\n",
      "    plt.plot_date(df.index, df[sensor], '-', label=sensor)\n",
      "    plt.ylabel('kW')\n",
      "    plt.legend()\n",
      "    \n",
      "    ax2=plt.subplot(122)\n",
      "    plt.plot(np.sort(df[sensor])[::-1], label=sensor)\n",
      "    plt.ylabel('kW')\n",
      "    plt.legend()"
     ],
     "language": "python",
     "metadata": {},
     "outputs": []
    },
    {
     "cell_type": "code",
     "collapsed": false,
     "input": [],
     "language": "python",
     "metadata": {},
     "outputs": []
    }
   ],
   "metadata": {}
  }
 ]
}