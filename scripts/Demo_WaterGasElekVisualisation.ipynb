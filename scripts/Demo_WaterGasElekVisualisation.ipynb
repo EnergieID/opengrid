{
 "metadata": {
  "name": "",
  "signature": "sha256:c2b09b1bf70f19125bbca528877b3585509eb124c6db2084a46cd6b44b07571f"
 },
 "nbformat": 3,
 "nbformat_minor": 0,
 "worksheets": [
  {
   "cells": [
    {
     "cell_type": "markdown",
     "metadata": {},
     "source": [
      "## This script shows how to use the existing code in opengrid \n",
      "## to create (a) a timeseries plot and (b) a load curve of gas, water or elektricity usage. \n",
      "\n",
      "#Todo: \n",
      "Change numeric \"chosen_type\" to a textual choice, with lookupvalue of UtilityType in Utilitytypes.\n"
     ]
    },
    {
     "cell_type": "code",
     "collapsed": false,
     "input": [
      "import os, sys\n",
      "import inspect\n",
      "import numpy as np\n",
      "import matplotlib.pyplot as plt\n",
      "from matplotlib.dates import HourLocator, DateFormatter, AutoDateLocator\n",
      "import datetime as dt\n",
      "import pytz\n",
      "import pandas as pd\n",
      "import pdb\n",
      "\n",
      "script_dir = os.path.dirname(os.path.abspath(inspect.getfile(inspect.currentframe())))\n",
      "# add the path to opengrid to sys.path\n",
      "sys.path.append(os.path.join(script_dir, os.pardir, os.pardir))\n",
      "from opengrid.library import config\n",
      "from opengrid.library import houseprint\n",
      "from opengrid.library import fluksoapi\n",
      "c = config.Config()\n",
      "\n",
      "\n",
      "%matplotlib inline\n",
      "plt.rcParams['figure.figsize']=14,8"
     ],
     "language": "python",
     "metadata": {},
     "outputs": []
    },
    {
     "cell_type": "markdown",
     "metadata": {},
     "source": [
      "### Script settings"
     ]
    },
    {
     "cell_type": "code",
     "collapsed": false,
     "input": [
      "path_to_data = c.get('data', 'folder')\n",
      "#path_to_data = 'SET_CUSTOM_PATH_HERE'\n",
      "\n",
      "if not os.path.exists(path_to_data):\n",
      "    raise IOError(\"Provide your path to the data.  This is a folder containing a 'zip' and 'csv' subfolder.\")\n",
      "else:\n",
      "    path_to_csv = os.path.join(path_to_data, 'csv')"
     ],
     "language": "python",
     "metadata": {},
     "outputs": []
    },
    {
     "cell_type": "code",
     "collapsed": false,
     "input": [
      "hp = houseprint.load_houseprint_from_file('hp_anonymous.pkl')"
     ],
     "language": "python",
     "metadata": {},
     "outputs": []
    },
    {
     "cell_type": "markdown",
     "metadata": {},
     "source": [
      "###Fill in here (chosen type [0-2]) what type of data you'd like to plot:"
     ]
    },
    {
     "cell_type": "code",
     "collapsed": false,
     "input": [
      "chosen_type = 0\n",
      "#  0 =water, 1 = gas, 2 = electricity\n",
      "\n",
      "UtilityTypes = ['water', 'gas','electricity'] # {'water','gas','electricity'} \n",
      "utility =  UtilityTypes[chosen_type] # here 'electricity'\n",
      "\n",
      "#default values:\n",
      "FL_units = ['l/day', 'm^3/day ~ 10 kWh/day','Ws/day'] #TODO, to be checked!!\n",
      "Base_Units = ['l/min', 'kW','kW']\n",
      "Base_Corr = [1/24.0/60.0, 1/100.0/24.0/3.600 , 3.600/1000.0/24 ] #TODO,check validity of conversions!! # water => (l/day) to (l/hr), gas: (l/day) to (kW), elektr Ws/d to kW\n",
      "\n",
      "tInt_Units = ['l', 'kWh','kWh'] #units after integration\n",
      "tInt_Corr = [1/60, 3600/60, 3600/60] #TODO, to be checked!! # water => (l/hr) to (l_cumul/min), gas: kW to (kWh/min)\n",
      "\n",
      "# units for this utility type\n",
      "bUnit = Base_Units[chosen_type]\n",
      "bCorr = Base_Corr[chosen_type]\n",
      "fl_unit = FL_units[chosen_type]\n",
      "tiUnit = tInt_Units[chosen_type]\n",
      "tiCorr = tInt_Corr[chosen_type]\n"
     ],
     "language": "python",
     "metadata": {},
     "outputs": []
    },
    {
     "cell_type": "markdown",
     "metadata": {},
     "source": [
      "###Available data is loaded in one big dataframe, the columns are the sensors of chosen type. \n",
      "### also, it is rescaled to more \"managable\" units (to be verified!)"
     ]
    },
    {
     "cell_type": "code",
     "collapsed": false,
     "input": [
      "#load data\n",
      "print 'Loading', utility ,'-data and converting from ',fl_unit ,' to ',bUnit,':'\n",
      "sensors = hp.get_sensors_by_type(utility)\n",
      "df = fluksoapi.load(path_to_csv, sensors)\n",
      "\n",
      "# conversion dependent on type of utility (to be checked!!) \n",
      "df = df*bCorr"
     ],
     "language": "python",
     "metadata": {},
     "outputs": []
    },
    {
     "cell_type": "code",
     "collapsed": false,
     "input": [
      "# plot timeseries and load duration for each retained sensor\n",
      "\n",
      "for sensor in df.columns:\n",
      "    FL= hp.get_flukso_from_sensor(sensor)\n",
      "    plt.figure()\n",
      "    ax1=plt.subplot(121)\n",
      "    plt.plot_date(df.index, df[sensor], '-', label=\"{}\".format(FL))\n",
      "    plt.ylabel(\"{}-usage [{}]\".format(utility,bUnit) )\n",
      "    plt.legend()\n",
      "    \n",
      "    ax2=plt.subplot(122)\n",
      "    plt.plot(np.sort(df[sensor])[::-1], label=sensor)\n",
      "    plt.ylabel(\"{}-load curve [{}]\".format(utility,bUnit) )\n",
      "    plt.legend()"
     ],
     "language": "python",
     "metadata": {},
     "outputs": []
    },
    {
     "cell_type": "markdown",
     "metadata": {},
     "source": [
      "# Tests with the tmpo-based approach"
     ]
    },
    {
     "cell_type": "code",
     "collapsed": false,
     "input": [
      "from opengrid.library import houseprint\n",
      "sys.path.append(c.get('tmpo', 'folder'))\n",
      "import tmpo"
     ],
     "language": "python",
     "metadata": {},
     "outputs": []
    },
    {
     "cell_type": "code",
     "collapsed": false,
     "input": [
      "tmpos = tmpo.Session()\n",
      "sensors = hp.get_sensors_by_type('electricity')\n",
      "dfcum = fluksoapi.load_tmpo(tmpos, sensors, start='20141117', end='20141123')"
     ],
     "language": "python",
     "metadata": {},
     "outputs": []
    },
    {
     "cell_type": "code",
     "collapsed": false,
     "input": [
      "dfcum.shape"
     ],
     "language": "python",
     "metadata": {},
     "outputs": []
    },
    {
     "cell_type": "code",
     "collapsed": false,
     "input": [
      "dfcum.columns"
     ],
     "language": "python",
     "metadata": {},
     "outputs": []
    },
    {
     "cell_type": "code",
     "collapsed": false,
     "input": [
      "dfcum.tail()"
     ],
     "language": "python",
     "metadata": {},
     "outputs": []
    },
    {
     "cell_type": "code",
     "collapsed": false,
     "input": [
      "dfi = dfcum.resample(rule='900s', how='max')\n",
      "dfi = dfi.interpolate(method='time')\n",
      "dfi=dfi.diff()*3600/900\n",
      "dfi.plot()\n",
      "dfi.ix['20141119'].plot()"
     ],
     "language": "python",
     "metadata": {},
     "outputs": []
    },
    {
     "cell_type": "code",
     "collapsed": false,
     "input": [
      "# This works, but is a bad idea if you have multiple sensors for a FLM: you obtain identical column names.\n",
      "# df.rename(columns = hp.get_flukso_from_sensor, inplace=True)"
     ],
     "language": "python",
     "metadata": {},
     "outputs": []
    },
    {
     "cell_type": "code",
     "collapsed": false,
     "input": [
      "# Getting a single sensor\n",
      "dfi['1a1dac9c2ac155f95c58bf1d4f4b7d01'].plot()"
     ],
     "language": "python",
     "metadata": {},
     "outputs": []
    },
    {
     "cell_type": "code",
     "collapsed": false,
     "input": [],
     "language": "python",
     "metadata": {},
     "outputs": []
    }
   ],
   "metadata": {}
  }
 ]
}