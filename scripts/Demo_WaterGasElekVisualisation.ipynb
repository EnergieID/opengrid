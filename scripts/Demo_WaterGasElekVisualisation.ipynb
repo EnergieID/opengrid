{
 "metadata": {
  "name": "",
  "signature": "sha256:74fc917dbcf72a256560e88ec7dc85966cd39f507f614122d7aa34ee90ae738f"
 },
 "nbformat": 3,
 "nbformat_minor": 0,
 "worksheets": [
  {
   "cells": [
    {
     "cell_type": "markdown",
     "metadata": {},
     "source": [
      "## This script shows how to use the existing code in opengrid \n",
      "## to create (a) a timeseries plot and (b) a load curve of gas, water or elektricity usage. \n",
      "\n",
      "#Todo: \n",
      "Change numeric \"chosen_type\" to a textual choice, with lookupvalue of UtilityType in Utilitytypes.\n"
     ]
    },
    {
     "cell_type": "code",
     "collapsed": false,
     "input": [
      "import os, sys\n",
      "import inspect\n",
      "import numpy as np\n",
      "import matplotlib.pyplot as plt\n",
      "from matplotlib.dates import HourLocator, DateFormatter, AutoDateLocator\n",
      "import datetime as dt\n",
      "import pytz\n",
      "import pandas as pd\n",
      "import pdb\n",
      "\n",
      "script_dir = os.path.dirname(os.path.abspath(inspect.getfile(inspect.currentframe())))\n",
      "# add the path to opengrid to sys.path\n",
      "sys.path.append(os.path.join(script_dir, os.pardir, os.pardir))\n",
      "from opengrid.library import config\n",
      "from opengrid.library import houseprint\n",
      "from opengrid.library import fluksoapi\n",
      "c = config.Config()\n",
      "\n",
      "\n",
      "%matplotlib inline\n",
      "plt.rcParams['figure.figsize']=14,8"
     ],
     "language": "python",
     "metadata": {},
     "outputs": []
    },
    {
     "cell_type": "markdown",
     "metadata": {},
     "source": [
      "### Script settings"
     ]
    },
    {
     "cell_type": "code",
     "collapsed": false,
     "input": [
      "path_to_data = c.get('data', 'folder')\n",
      "#path_to_data = 'SET_CUSTOM_PATH_HERE'\n",
      "\n",
      "if not os.path.exists(path_to_data):\n",
      "    raise IOError(\"Provide your path to the data.  This is a folder containing a 'zip' and 'csv' subfolder.\")\n",
      "else:\n",
      "    path_to_csv = os.path.join(path_to_data, 'csv')"
     ],
     "language": "python",
     "metadata": {},
     "outputs": []
    },
    {
     "cell_type": "code",
     "collapsed": false,
     "input": [
      "hp = houseprint.load_houseprint_from_file('hp_anonymous.pkl')"
     ],
     "language": "python",
     "metadata": {},
     "outputs": []
    },
    {
     "cell_type": "markdown",
     "metadata": {},
     "source": [
      "###Fill in here (chosen type [0-2]) what type of data you'd like to plot:"
     ]
    },
    {
     "cell_type": "code",
     "collapsed": false,
     "input": [
      "chosen_type = 0\n",
      "#  0 =water, 1 = gas, 2 = electricity\n",
      "\n",
      "UtilityTypes = ['water', 'gas','electricity'] # {'water','gas','electricity'} \n",
      "utility =  UtilityTypes[chosen_type] # here 'electricity'\n",
      "\n",
      "#default values:\n",
      "FL_units = ['l/day', 'm^3/day ~ 10 kWh/day','Ws/day'] #TODO, to be checked!!\n",
      "Base_Units = ['l/min', 'kW','kW']\n",
      "Base_Corr = [1/24.0/60.0, 1/100.0/24.0/3.600 , 3.600/1000.0/24 ] #TODO,check validity of conversions!! # water => (l/day) to (l/hr), gas: (l/day) to (kW), elektr Ws/d to kW\n",
      "\n",
      "tInt_Units = ['l', 'kWh','kWh'] #units after integration\n",
      "tInt_Corr = [1/60, 3600/60, 3600/60] #TODO, to be checked!! # water => (l/hr) to (l_cumul/min), gas: kW to (kWh/min)\n",
      "\n",
      "# units for this utility type\n",
      "bUnit = Base_Units[chosen_type]\n",
      "bCorr = Base_Corr[chosen_type]\n",
      "fl_unit = FL_units[chosen_type]\n",
      "tiUnit = tInt_Units[chosen_type]\n",
      "tiCorr = tInt_Corr[chosen_type]\n"
     ],
     "language": "python",
     "metadata": {},
     "outputs": []
    },
    {
     "cell_type": "markdown",
     "metadata": {},
     "source": [
      "###Available data is loaded in one big dataframe, the columns are the sensors of chosen type. \n",
      "### also, it is rescaled to more \"managable\" units (to be verified!)"
     ]
    },
    {
     "cell_type": "code",
     "collapsed": false,
     "input": [
      "#load data\n",
      "print 'Loading', utility ,'-data and converting from ',fl_unit ,' to ',bUnit,':'\n",
      "dataframes = []\n",
      "sensors = hp.get_sensors_by_type(utility)\n",
      "for sensor in sensors:\n",
      "    FL =hp.get_flukso_from_sensor(sensor)\n",
      "    csv = fluksoapi.find_csv(path_to_csv, sensor)\n",
      "    if len(csv) <> 0:\n",
      "        data=fluksoapi.load_csv(csv)\n",
      "        if len(data)>0:\n",
      "            dataframes.append(data)\n",
      "            #print FL, ' loaded correctly with sensor', data.columns[0]\n",
      "    #else:\n",
      "            #print FL, sensor, 'not loaded\n",
      "print('{} {}-sensors loaded.'.format(len(dataframes),utility))\n",
      "\n",
      "#dataframes = list of dataframes\n",
      "df = dataframes[0].join(dataframes[1:], how='outer')\n",
      "\n",
      "# remove null columns\n",
      "df.dropna(axis=1, how='all', inplace=True)\n",
      "print('{} Sensors with data retained'.format(len(df.columns))) \n",
      "\n",
      "# convert the dataframe to LOCAL TIME (BRUSSELS)\n",
      "df.index = df.index.tz_convert(pytz.timezone('Europe/Brussels'))\n",
      "#df is a joined pandas dataframe\n",
      "\n",
      "# conversion dependent on type of utility (to be checked!!) \n",
      "df = df*bCorr"
     ],
     "language": "python",
     "metadata": {},
     "outputs": []
    },
    {
     "cell_type": "code",
     "collapsed": false,
     "input": [
      "# plot timeseries and load duration for each retained sensor\n",
      "\n",
      "for sensor in df.columns:\n",
      "    FL= hp.get_flukso_from_sensor(sensor)\n",
      "    plt.figure()\n",
      "    ax1=plt.subplot(121)\n",
      "    plt.plot_date(df.index, df[sensor], '-', label=\"{}\".format(FL))\n",
      "    plt.ylabel(\"{}-usage [{}]\".format(utility,bUnit) )\n",
      "    plt.legend()\n",
      "    \n",
      "    ax2=plt.subplot(122)\n",
      "    plt.plot(np.sort(df[sensor])[::-1], label=sensor)\n",
      "    plt.ylabel(\"{}-load curve [{}]\".format(utility,bUnit) )\n",
      "    plt.legend()"
     ],
     "language": "python",
     "metadata": {},
     "outputs": []
    },
    {
     "cell_type": "code",
     "collapsed": false,
     "input": [],
     "language": "python",
     "metadata": {},
     "outputs": []
    }
   ],
   "metadata": {}
  }
 ]
}