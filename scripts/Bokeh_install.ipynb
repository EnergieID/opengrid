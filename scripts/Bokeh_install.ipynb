{
 "metadata": {
  "name": ""
 },
 "nbformat": 3,
 "nbformat_minor": 0,
 "worksheets": [
  {
   "cells": [
    {
     "cell_type": "code",
     "collapsed": false,
     "input": [
      "# A first alternative: Bokeh.\n",
      "##Below: Script to install the module and dependencies.\n",
      "''' To execute just once '''\n",
      "\n",
      "# Full info at: http://bokeh.pydata.org/docs/installation.html\n",
      "# Install bokeh\n",
      "!pip install bokeh\n",
      "\"\"\" To install once.\n",
      "\n",
      "PS: On windows systems, if you get a \"Unable to find vcvarsall.bat\" error, \n",
      "you'll have to install:\n",
      "Microsoft Visual C++ Compiler for Python 2.7\n",
      "http://aka.ms/vcpython27\n",
      "This is a relatively small package; 85MB to download, installable without admin privileges, no reboot required. \n",
      "The name is a little misleading, the compiler will work for any Python version originally compiled with Visual C++ 2008, \n",
      "not just Python 2.7. (it'll work fine with 2.6 and 3.2.)\n",
      "\"\"\""
     ],
     "language": "python",
     "metadata": {},
     "outputs": []
    },
    {
     "cell_type": "code",
     "collapsed": false,
     "input": [
      "\"Other package requirements:\"\n",
      "!pip install Flask\n",
      "!pip install Requests\n",
      "!pip install Redis\n",
      "!pip install gevent\n",
      "!pip install gevent-websocket\n",
      "print('dependencies ok')\n",
      "\n",
      "\"\"\"    \n",
      "Other required packages (but normally already available if you used other opengrid scripts\n",
      "    NumPy\n",
      "    Pandas\n",
      "\"\"\""
     ],
     "language": "python",
     "metadata": {},
     "outputs": []
    },
    {
     "cell_type": "code",
     "collapsed": false,
     "input": [
      "# Import the library.\n",
      "# you should see a colorful flower logo if library was loaded correctly :-)\n",
      "\n",
      "#import the plotting part of the library\n",
      "import bokeh.plotting\n",
      "#make sure it outputs to the notebook\n",
      "bokeh.plotting.output_notebook()"
     ],
     "language": "python",
     "metadata": {},
     "outputs": []
    },
    {
     "cell_type": "code",
     "collapsed": false,
     "input": [
      "# a simple test to check if it works:\n",
      "import numpy\n",
      "x = numpy.arange(0.0, 100.0, 0.1)\n",
      "y = numpy.sin(x)\n",
      "\n",
      "bokeh.plotting.line(x,y, line_width=3.0)\n",
      "bokeh.plotting.show()\n",
      "# should give a pannable, zoomable, savable plot.\n"
     ],
     "language": "python",
     "metadata": {},
     "outputs": []
    }
   ],
   "metadata": {}
  }
 ]
}